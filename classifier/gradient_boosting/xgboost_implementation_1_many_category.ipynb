{
  "cells": [
    {
      "cell_type": "markdown",
      "metadata": {
        "id": "view-in-github",
        "colab_type": "text"
      },
      "source": [
        "<a href=\"https://colab.research.google.com/github/MadeAsthito/Data-Base-Comparison/blob/main/classifier/gradient_boosting/xgboost_implementation_1_many_category.ipynb\" target=\"_parent\"><img src=\"https://colab.research.google.com/assets/colab-badge.svg\" alt=\"Open In Colab\"/></a>"
      ]
    },
    {
      "cell_type": "markdown",
      "metadata": {
        "id": "QkFBRABS0eD8"
      },
      "source": [
        "\n",
        "# Data Preparation"
      ]
    },
    {
      "cell_type": "markdown",
      "metadata": {
        "id": "losbu6dw0s7U"
      },
      "source": [
        "## Loading Data"
      ]
    },
    {
      "cell_type": "code",
      "source": [],
      "metadata": {
        "id": "FH0EJGh4IjW-"
      },
      "execution_count": null,
      "outputs": []
    },
    {
      "cell_type": "code",
      "execution_count": null,
      "metadata": {
        "colab": {
          "base_uri": "https://localhost:8080/",
          "height": 1000
        },
        "id": "cxfdps7E7UqV",
        "outputId": "caa5fec6-23e2-4d0c-a0fc-090e410f6f35"
      },
      "outputs": [
        {
          "data": {
            "application/vnd.google.colaboratory.intrinsic+json": {
              "summary": "{\n  \"name\": \"df\",\n  \"rows\": 40838,\n  \"fields\": [\n    {\n      \"column\": \"id\",\n      \"properties\": {\n        \"dtype\": \"number\",\n        \"std\": 15705,\n        \"min\": 0,\n        \"max\": 54450,\n        \"num_unique_values\": 40838,\n        \"samples\": [\n          15107,\n          39334,\n          17672\n        ],\n        \"semantic_type\": \"\",\n        \"description\": \"\"\n      }\n    },\n    {\n      \"column\": \"age\",\n      \"properties\": {\n        \"dtype\": \"number\",\n        \"std\": 9,\n        \"min\": 17,\n        \"max\": 70,\n        \"num_unique_values\": 54,\n        \"samples\": [\n          49,\n          53,\n          66\n        ],\n        \"semantic_type\": \"\",\n        \"description\": \"\"\n      }\n    },\n    {\n      \"column\": \"diet\",\n      \"properties\": {\n        \"dtype\": \"category\",\n        \"num_unique_values\": 18,\n        \"samples\": [\n          \"mostly anything\",\n          \"strictly anything\",\n          \"mostly vegan\"\n        ],\n        \"semantic_type\": \"\",\n        \"description\": \"\"\n      }\n    },\n    {\n      \"column\": \"drinks\",\n      \"properties\": {\n        \"dtype\": \"category\",\n        \"num_unique_values\": 6,\n        \"samples\": [\n          \"socially\",\n          \"often\",\n          \"desperately\"\n        ],\n        \"semantic_type\": \"\",\n        \"description\": \"\"\n      }\n    },\n    {\n      \"column\": \"drugs\",\n      \"properties\": {\n        \"dtype\": \"category\",\n        \"num_unique_values\": 3,\n        \"samples\": [\n          \"never\",\n          \"sometimes\",\n          \"often\"\n        ],\n        \"semantic_type\": \"\",\n        \"description\": \"\"\n      }\n    },\n    {\n      \"column\": \"education\",\n      \"properties\": {\n        \"dtype\": \"category\",\n        \"num_unique_values\": 32,\n        \"samples\": [\n          \"law school\",\n          \"working on law school\",\n          \"masters program\"\n        ],\n        \"semantic_type\": \"\",\n        \"description\": \"\"\n      }\n    },\n    {\n      \"column\": \"ethnicity\",\n      \"properties\": {\n        \"dtype\": \"category\",\n        \"num_unique_values\": 193,\n        \"samples\": [\n          \"asian, native american, hispanic / latin, white\",\n          \"asian, middle eastern, indian\",\n          \"black, pacific islander, other\"\n        ],\n        \"semantic_type\": \"\",\n        \"description\": \"\"\n      }\n    },\n    {\n      \"column\": \"height\",\n      \"properties\": {\n        \"dtype\": \"number\",\n        \"std\": 3.9281142896079477,\n        \"min\": 3.0,\n        \"max\": 95.0,\n        \"num_unique_values\": 50,\n        \"samples\": [\n          71.0,\n          50.0,\n          56.0\n        ],\n        \"semantic_type\": \"\",\n        \"description\": \"\"\n      }\n    },\n    {\n      \"column\": \"income\",\n      \"properties\": {\n        \"dtype\": \"number\",\n        \"std\": 98897,\n        \"min\": -1,\n        \"max\": 1000000,\n        \"num_unique_values\": 13,\n        \"samples\": [\n          60000,\n          1000000,\n          -1\n        ],\n        \"semantic_type\": \"\",\n        \"description\": \"\"\n      }\n    },\n    {\n      \"column\": \"job\",\n      \"properties\": {\n        \"dtype\": \"category\",\n        \"num_unique_values\": 21,\n        \"samples\": [\n          \"law / legal services\",\n          \"transportation\",\n          \"military\"\n        ],\n        \"semantic_type\": \"\",\n        \"description\": \"\"\n      }\n    },\n    {\n      \"column\": \"offspring\",\n      \"properties\": {\n        \"dtype\": \"category\",\n        \"num_unique_values\": 15,\n        \"samples\": [\n          \"wants kids\",\n          \"has a kid, but doesn&rsquo;t want more\",\n          \"doesn&rsquo;t have kids\"\n        ],\n        \"semantic_type\": \"\",\n        \"description\": \"\"\n      }\n    },\n    {\n      \"column\": \"orientation\",\n      \"properties\": {\n        \"dtype\": \"category\",\n        \"num_unique_values\": 3,\n        \"samples\": [\n          \"straight\",\n          \"bisexual\",\n          \"gay\"\n        ],\n        \"semantic_type\": \"\",\n        \"description\": \"\"\n      }\n    },\n    {\n      \"column\": \"pets\",\n      \"properties\": {\n        \"dtype\": \"category\",\n        \"num_unique_values\": 15,\n        \"samples\": [\n          \"has dogs and dislikes cats\",\n          \"dislikes dogs and dislikes cats\",\n          \"likes dogs\"\n        ],\n        \"semantic_type\": \"\",\n        \"description\": \"\"\n      }\n    },\n    {\n      \"column\": \"religion\",\n      \"properties\": {\n        \"dtype\": \"category\",\n        \"num_unique_values\": 45,\n        \"samples\": [\n          \"islam and somewhat serious about it\",\n          \"agnosticism and somewhat serious about it\",\n          \"judaism but not too serious about it\"\n        ],\n        \"semantic_type\": \"\",\n        \"description\": \"\"\n      }\n    },\n    {\n      \"column\": \"sex\",\n      \"properties\": {\n        \"dtype\": \"category\",\n        \"num_unique_values\": 2,\n        \"samples\": [\n          \"f\",\n          \"m\"\n        ],\n        \"semantic_type\": \"\",\n        \"description\": \"\"\n      }\n    },\n    {\n      \"column\": \"sign\",\n      \"properties\": {\n        \"dtype\": \"category\",\n        \"num_unique_values\": 48,\n        \"samples\": [\n          \"leo and it matters a lot\",\n          \"aquarius and it matters a lot\"\n        ],\n        \"semantic_type\": \"\",\n        \"description\": \"\"\n      }\n    },\n    {\n      \"column\": \"smokes\",\n      \"properties\": {\n        \"dtype\": \"category\",\n        \"num_unique_values\": 5,\n        \"samples\": [\n          \"yes\",\n          \"trying to quit\"\n        ],\n        \"semantic_type\": \"\",\n        \"description\": \"\"\n      }\n    },\n    {\n      \"column\": \"speaks\",\n      \"properties\": {\n        \"dtype\": \"category\",\n        \"num_unique_values\": 5680,\n        \"samples\": [\n          \"english, italian, spanish (poorly)\",\n          \"english (fluently), korean (okay), german (poorly)\"\n        ],\n        \"semantic_type\": \"\",\n        \"description\": \"\"\n      }\n    },\n    {\n      \"column\": \"status\",\n      \"properties\": {\n        \"dtype\": \"category\",\n        \"num_unique_values\": 5,\n        \"samples\": [\n          \"available\",\n          \"unknown\"\n        ],\n        \"semantic_type\": \"\",\n        \"description\": \"\"\n      }\n    },\n    {\n      \"column\": \"fit_body\",\n      \"properties\": {\n        \"dtype\": \"category\",\n        \"num_unique_values\": 2,\n        \"samples\": [\n          \"no\",\n          \"yes\"\n        ],\n        \"semantic_type\": \"\",\n        \"description\": \"\"\n      }\n    }\n  ]\n}",
              "type": "dataframe",
              "variable_name": "df"
            },
            "text/html": [
              "\n",
              "  <div id=\"df-24dcd41e-f92b-41d3-a1d5-4b146d03f30c\" class=\"colab-df-container\">\n",
              "    <div>\n",
              "<style scoped>\n",
              "    .dataframe tbody tr th:only-of-type {\n",
              "        vertical-align: middle;\n",
              "    }\n",
              "\n",
              "    .dataframe tbody tr th {\n",
              "        vertical-align: top;\n",
              "    }\n",
              "\n",
              "    .dataframe thead th {\n",
              "        text-align: right;\n",
              "    }\n",
              "</style>\n",
              "<table border=\"1\" class=\"dataframe\">\n",
              "  <thead>\n",
              "    <tr style=\"text-align: right;\">\n",
              "      <th></th>\n",
              "      <th>id</th>\n",
              "      <th>age</th>\n",
              "      <th>diet</th>\n",
              "      <th>drinks</th>\n",
              "      <th>drugs</th>\n",
              "      <th>education</th>\n",
              "      <th>ethnicity</th>\n",
              "      <th>height</th>\n",
              "      <th>income</th>\n",
              "      <th>job</th>\n",
              "      <th>offspring</th>\n",
              "      <th>orientation</th>\n",
              "      <th>pets</th>\n",
              "      <th>religion</th>\n",
              "      <th>sex</th>\n",
              "      <th>sign</th>\n",
              "      <th>smokes</th>\n",
              "      <th>speaks</th>\n",
              "      <th>status</th>\n",
              "      <th>fit_body</th>\n",
              "    </tr>\n",
              "  </thead>\n",
              "  <tbody>\n",
              "    <tr>\n",
              "      <th>0</th>\n",
              "      <td>33904</td>\n",
              "      <td>29</td>\n",
              "      <td>NaN</td>\n",
              "      <td>socially</td>\n",
              "      <td>never</td>\n",
              "      <td>graduated from law school</td>\n",
              "      <td>asian, hispanic / latin, white</td>\n",
              "      <td>69.0</td>\n",
              "      <td>-1</td>\n",
              "      <td>law / legal services</td>\n",
              "      <td>NaN</td>\n",
              "      <td>straight</td>\n",
              "      <td>likes dogs</td>\n",
              "      <td>catholicism</td>\n",
              "      <td>m</td>\n",
              "      <td>aquarius but it doesn&amp;rsquo;t matter</td>\n",
              "      <td>no</td>\n",
              "      <td>english (fluently), spanish (okay), korean (po...</td>\n",
              "      <td>single</td>\n",
              "      <td>yes</td>\n",
              "    </tr>\n",
              "    <tr>\n",
              "      <th>1</th>\n",
              "      <td>35538</td>\n",
              "      <td>19</td>\n",
              "      <td>NaN</td>\n",
              "      <td>NaN</td>\n",
              "      <td>NaN</td>\n",
              "      <td>NaN</td>\n",
              "      <td>other</td>\n",
              "      <td>69.0</td>\n",
              "      <td>-1</td>\n",
              "      <td>NaN</td>\n",
              "      <td>NaN</td>\n",
              "      <td>bisexual</td>\n",
              "      <td>has cats</td>\n",
              "      <td>buddhism</td>\n",
              "      <td>f</td>\n",
              "      <td>taurus</td>\n",
              "      <td>NaN</td>\n",
              "      <td>english</td>\n",
              "      <td>single</td>\n",
              "      <td>no</td>\n",
              "    </tr>\n",
              "    <tr>\n",
              "      <th>2</th>\n",
              "      <td>36731</td>\n",
              "      <td>32</td>\n",
              "      <td>mostly anything</td>\n",
              "      <td>socially</td>\n",
              "      <td>NaN</td>\n",
              "      <td>dropped out of college/university</td>\n",
              "      <td>white</td>\n",
              "      <td>69.0</td>\n",
              "      <td>100000</td>\n",
              "      <td>executive / management</td>\n",
              "      <td>NaN</td>\n",
              "      <td>straight</td>\n",
              "      <td>likes dogs and likes cats</td>\n",
              "      <td>christianity but not too serious about it</td>\n",
              "      <td>m</td>\n",
              "      <td>virgo but it doesn&amp;rsquo;t matter</td>\n",
              "      <td>no</td>\n",
              "      <td>english (fluently)</td>\n",
              "      <td>single</td>\n",
              "      <td>no</td>\n",
              "    </tr>\n",
              "    <tr>\n",
              "      <th>3</th>\n",
              "      <td>16304</td>\n",
              "      <td>36</td>\n",
              "      <td>strictly anything</td>\n",
              "      <td>socially</td>\n",
              "      <td>NaN</td>\n",
              "      <td>graduated from college/university</td>\n",
              "      <td>white</td>\n",
              "      <td>67.0</td>\n",
              "      <td>100000</td>\n",
              "      <td>computer / hardware / software</td>\n",
              "      <td>doesn&amp;rsquo;t have kids</td>\n",
              "      <td>straight</td>\n",
              "      <td>likes dogs</td>\n",
              "      <td>atheism but not too serious about it</td>\n",
              "      <td>m</td>\n",
              "      <td>cancer but it doesn&amp;rsquo;t matter</td>\n",
              "      <td>no</td>\n",
              "      <td>english (okay), english (fluently), english (p...</td>\n",
              "      <td>single</td>\n",
              "      <td>no</td>\n",
              "    </tr>\n",
              "    <tr>\n",
              "      <th>4</th>\n",
              "      <td>19727</td>\n",
              "      <td>22</td>\n",
              "      <td>NaN</td>\n",
              "      <td>socially</td>\n",
              "      <td>never</td>\n",
              "      <td>graduated from college/university</td>\n",
              "      <td>asian</td>\n",
              "      <td>68.0</td>\n",
              "      <td>-1</td>\n",
              "      <td>computer / hardware / software</td>\n",
              "      <td>NaN</td>\n",
              "      <td>straight</td>\n",
              "      <td>NaN</td>\n",
              "      <td>NaN</td>\n",
              "      <td>m</td>\n",
              "      <td>NaN</td>\n",
              "      <td>no</td>\n",
              "      <td>english, chinese</td>\n",
              "      <td>single</td>\n",
              "      <td>no</td>\n",
              "    </tr>\n",
              "    <tr>\n",
              "      <th>...</th>\n",
              "      <td>...</td>\n",
              "      <td>...</td>\n",
              "      <td>...</td>\n",
              "      <td>...</td>\n",
              "      <td>...</td>\n",
              "      <td>...</td>\n",
              "      <td>...</td>\n",
              "      <td>...</td>\n",
              "      <td>...</td>\n",
              "      <td>...</td>\n",
              "      <td>...</td>\n",
              "      <td>...</td>\n",
              "      <td>...</td>\n",
              "      <td>...</td>\n",
              "      <td>...</td>\n",
              "      <td>...</td>\n",
              "      <td>...</td>\n",
              "      <td>...</td>\n",
              "      <td>...</td>\n",
              "      <td>...</td>\n",
              "    </tr>\n",
              "    <tr>\n",
              "      <th>40833</th>\n",
              "      <td>43241</td>\n",
              "      <td>30</td>\n",
              "      <td>mostly anything</td>\n",
              "      <td>rarely</td>\n",
              "      <td>never</td>\n",
              "      <td>dropped out of two-year college</td>\n",
              "      <td>white</td>\n",
              "      <td>72.0</td>\n",
              "      <td>20000</td>\n",
              "      <td>construction / craftsmanship</td>\n",
              "      <td>NaN</td>\n",
              "      <td>straight</td>\n",
              "      <td>likes dogs and has cats</td>\n",
              "      <td>atheism</td>\n",
              "      <td>m</td>\n",
              "      <td>taurus and it&amp;rsquo;s fun to think about</td>\n",
              "      <td>no</td>\n",
              "      <td>english (fluently), german (poorly)</td>\n",
              "      <td>seeing someone</td>\n",
              "      <td>no</td>\n",
              "    </tr>\n",
              "    <tr>\n",
              "      <th>40834</th>\n",
              "      <td>43498</td>\n",
              "      <td>24</td>\n",
              "      <td>anything</td>\n",
              "      <td>socially</td>\n",
              "      <td>never</td>\n",
              "      <td>graduated from college/university</td>\n",
              "      <td>white</td>\n",
              "      <td>70.0</td>\n",
              "      <td>-1</td>\n",
              "      <td>artistic / musical / writer</td>\n",
              "      <td>doesn&amp;rsquo;t want kids</td>\n",
              "      <td>straight</td>\n",
              "      <td>likes dogs and likes cats</td>\n",
              "      <td>atheism but not too serious about it</td>\n",
              "      <td>f</td>\n",
              "      <td>sagittarius but it doesn&amp;rsquo;t matter</td>\n",
              "      <td>no</td>\n",
              "      <td>english (fluently), french (okay), spanish (po...</td>\n",
              "      <td>single</td>\n",
              "      <td>yes</td>\n",
              "    </tr>\n",
              "    <tr>\n",
              "      <th>40835</th>\n",
              "      <td>5149</td>\n",
              "      <td>30</td>\n",
              "      <td>strictly anything</td>\n",
              "      <td>socially</td>\n",
              "      <td>never</td>\n",
              "      <td>graduated from college/university</td>\n",
              "      <td>asian</td>\n",
              "      <td>69.0</td>\n",
              "      <td>-1</td>\n",
              "      <td>banking / financial / real estate</td>\n",
              "      <td>doesn&amp;rsquo;t have kids</td>\n",
              "      <td>straight</td>\n",
              "      <td>likes dogs</td>\n",
              "      <td>agnosticism</td>\n",
              "      <td>m</td>\n",
              "      <td>sagittarius but it doesn&amp;rsquo;t matter</td>\n",
              "      <td>no</td>\n",
              "      <td>english (fluently), chinese (okay)</td>\n",
              "      <td>single</td>\n",
              "      <td>yes</td>\n",
              "    </tr>\n",
              "    <tr>\n",
              "      <th>40836</th>\n",
              "      <td>2085</td>\n",
              "      <td>34</td>\n",
              "      <td>anything</td>\n",
              "      <td>socially</td>\n",
              "      <td>NaN</td>\n",
              "      <td>graduated from ph.d program</td>\n",
              "      <td>NaN</td>\n",
              "      <td>62.0</td>\n",
              "      <td>-1</td>\n",
              "      <td>science / tech / engineering</td>\n",
              "      <td>doesn&amp;rsquo;t have kids, but might want them</td>\n",
              "      <td>straight</td>\n",
              "      <td>likes dogs and likes cats</td>\n",
              "      <td>NaN</td>\n",
              "      <td>m</td>\n",
              "      <td>leo but it doesn&amp;rsquo;t matter</td>\n",
              "      <td>NaN</td>\n",
              "      <td>english, spanish</td>\n",
              "      <td>single</td>\n",
              "      <td>yes</td>\n",
              "    </tr>\n",
              "    <tr>\n",
              "      <th>40837</th>\n",
              "      <td>6212</td>\n",
              "      <td>28</td>\n",
              "      <td>anything</td>\n",
              "      <td>socially</td>\n",
              "      <td>never</td>\n",
              "      <td>graduated from college/university</td>\n",
              "      <td>white</td>\n",
              "      <td>72.0</td>\n",
              "      <td>40000</td>\n",
              "      <td>construction / craftsmanship</td>\n",
              "      <td>doesn&amp;rsquo;t have kids</td>\n",
              "      <td>straight</td>\n",
              "      <td>has dogs and likes cats</td>\n",
              "      <td>atheism and laughing about it</td>\n",
              "      <td>m</td>\n",
              "      <td>scorpio but it doesn&amp;rsquo;t matter</td>\n",
              "      <td>no</td>\n",
              "      <td>english</td>\n",
              "      <td>single</td>\n",
              "      <td>no</td>\n",
              "    </tr>\n",
              "  </tbody>\n",
              "</table>\n",
              "<p>40838 rows × 20 columns</p>\n",
              "</div>\n",
              "    <div class=\"colab-df-buttons\">\n",
              "\n",
              "  <div class=\"colab-df-container\">\n",
              "    <button class=\"colab-df-convert\" onclick=\"convertToInteractive('df-24dcd41e-f92b-41d3-a1d5-4b146d03f30c')\"\n",
              "            title=\"Convert this dataframe to an interactive table.\"\n",
              "            style=\"display:none;\">\n",
              "\n",
              "  <svg xmlns=\"http://www.w3.org/2000/svg\" height=\"24px\" viewBox=\"0 -960 960 960\">\n",
              "    <path d=\"M120-120v-720h720v720H120Zm60-500h600v-160H180v160Zm220 220h160v-160H400v160Zm0 220h160v-160H400v160ZM180-400h160v-160H180v160Zm440 0h160v-160H620v160ZM180-180h160v-160H180v160Zm440 0h160v-160H620v160Z\"/>\n",
              "  </svg>\n",
              "    </button>\n",
              "\n",
              "  <style>\n",
              "    .colab-df-container {\n",
              "      display:flex;\n",
              "      gap: 12px;\n",
              "    }\n",
              "\n",
              "    .colab-df-convert {\n",
              "      background-color: #E8F0FE;\n",
              "      border: none;\n",
              "      border-radius: 50%;\n",
              "      cursor: pointer;\n",
              "      display: none;\n",
              "      fill: #1967D2;\n",
              "      height: 32px;\n",
              "      padding: 0 0 0 0;\n",
              "      width: 32px;\n",
              "    }\n",
              "\n",
              "    .colab-df-convert:hover {\n",
              "      background-color: #E2EBFA;\n",
              "      box-shadow: 0px 1px 2px rgba(60, 64, 67, 0.3), 0px 1px 3px 1px rgba(60, 64, 67, 0.15);\n",
              "      fill: #174EA6;\n",
              "    }\n",
              "\n",
              "    .colab-df-buttons div {\n",
              "      margin-bottom: 4px;\n",
              "    }\n",
              "\n",
              "    [theme=dark] .colab-df-convert {\n",
              "      background-color: #3B4455;\n",
              "      fill: #D2E3FC;\n",
              "    }\n",
              "\n",
              "    [theme=dark] .colab-df-convert:hover {\n",
              "      background-color: #434B5C;\n",
              "      box-shadow: 0px 1px 3px 1px rgba(0, 0, 0, 0.15);\n",
              "      filter: drop-shadow(0px 1px 2px rgba(0, 0, 0, 0.3));\n",
              "      fill: #FFFFFF;\n",
              "    }\n",
              "  </style>\n",
              "\n",
              "    <script>\n",
              "      const buttonEl =\n",
              "        document.querySelector('#df-24dcd41e-f92b-41d3-a1d5-4b146d03f30c button.colab-df-convert');\n",
              "      buttonEl.style.display =\n",
              "        google.colab.kernel.accessAllowed ? 'block' : 'none';\n",
              "\n",
              "      async function convertToInteractive(key) {\n",
              "        const element = document.querySelector('#df-24dcd41e-f92b-41d3-a1d5-4b146d03f30c');\n",
              "        const dataTable =\n",
              "          await google.colab.kernel.invokeFunction('convertToInteractive',\n",
              "                                                    [key], {});\n",
              "        if (!dataTable) return;\n",
              "\n",
              "        const docLinkHtml = 'Like what you see? Visit the ' +\n",
              "          '<a target=\"_blank\" href=https://colab.research.google.com/notebooks/data_table.ipynb>data table notebook</a>'\n",
              "          + ' to learn more about interactive tables.';\n",
              "        element.innerHTML = '';\n",
              "        dataTable['output_type'] = 'display_data';\n",
              "        await google.colab.output.renderOutput(dataTable, element);\n",
              "        const docLink = document.createElement('div');\n",
              "        docLink.innerHTML = docLinkHtml;\n",
              "        element.appendChild(docLink);\n",
              "      }\n",
              "    </script>\n",
              "  </div>\n",
              "\n",
              "\n",
              "<div id=\"df-f2573819-1645-48ca-8e49-2b9d2fd95989\">\n",
              "  <button class=\"colab-df-quickchart\" onclick=\"quickchart('df-f2573819-1645-48ca-8e49-2b9d2fd95989')\"\n",
              "            title=\"Suggest charts\"\n",
              "            style=\"display:none;\">\n",
              "\n",
              "<svg xmlns=\"http://www.w3.org/2000/svg\" height=\"24px\"viewBox=\"0 0 24 24\"\n",
              "     width=\"24px\">\n",
              "    <g>\n",
              "        <path d=\"M19 3H5c-1.1 0-2 .9-2 2v14c0 1.1.9 2 2 2h14c1.1 0 2-.9 2-2V5c0-1.1-.9-2-2-2zM9 17H7v-7h2v7zm4 0h-2V7h2v10zm4 0h-2v-4h2v4z\"/>\n",
              "    </g>\n",
              "</svg>\n",
              "  </button>\n",
              "\n",
              "<style>\n",
              "  .colab-df-quickchart {\n",
              "      --bg-color: #E8F0FE;\n",
              "      --fill-color: #1967D2;\n",
              "      --hover-bg-color: #E2EBFA;\n",
              "      --hover-fill-color: #174EA6;\n",
              "      --disabled-fill-color: #AAA;\n",
              "      --disabled-bg-color: #DDD;\n",
              "  }\n",
              "\n",
              "  [theme=dark] .colab-df-quickchart {\n",
              "      --bg-color: #3B4455;\n",
              "      --fill-color: #D2E3FC;\n",
              "      --hover-bg-color: #434B5C;\n",
              "      --hover-fill-color: #FFFFFF;\n",
              "      --disabled-bg-color: #3B4455;\n",
              "      --disabled-fill-color: #666;\n",
              "  }\n",
              "\n",
              "  .colab-df-quickchart {\n",
              "    background-color: var(--bg-color);\n",
              "    border: none;\n",
              "    border-radius: 50%;\n",
              "    cursor: pointer;\n",
              "    display: none;\n",
              "    fill: var(--fill-color);\n",
              "    height: 32px;\n",
              "    padding: 0;\n",
              "    width: 32px;\n",
              "  }\n",
              "\n",
              "  .colab-df-quickchart:hover {\n",
              "    background-color: var(--hover-bg-color);\n",
              "    box-shadow: 0 1px 2px rgba(60, 64, 67, 0.3), 0 1px 3px 1px rgba(60, 64, 67, 0.15);\n",
              "    fill: var(--button-hover-fill-color);\n",
              "  }\n",
              "\n",
              "  .colab-df-quickchart-complete:disabled,\n",
              "  .colab-df-quickchart-complete:disabled:hover {\n",
              "    background-color: var(--disabled-bg-color);\n",
              "    fill: var(--disabled-fill-color);\n",
              "    box-shadow: none;\n",
              "  }\n",
              "\n",
              "  .colab-df-spinner {\n",
              "    border: 2px solid var(--fill-color);\n",
              "    border-color: transparent;\n",
              "    border-bottom-color: var(--fill-color);\n",
              "    animation:\n",
              "      spin 1s steps(1) infinite;\n",
              "  }\n",
              "\n",
              "  @keyframes spin {\n",
              "    0% {\n",
              "      border-color: transparent;\n",
              "      border-bottom-color: var(--fill-color);\n",
              "      border-left-color: var(--fill-color);\n",
              "    }\n",
              "    20% {\n",
              "      border-color: transparent;\n",
              "      border-left-color: var(--fill-color);\n",
              "      border-top-color: var(--fill-color);\n",
              "    }\n",
              "    30% {\n",
              "      border-color: transparent;\n",
              "      border-left-color: var(--fill-color);\n",
              "      border-top-color: var(--fill-color);\n",
              "      border-right-color: var(--fill-color);\n",
              "    }\n",
              "    40% {\n",
              "      border-color: transparent;\n",
              "      border-right-color: var(--fill-color);\n",
              "      border-top-color: var(--fill-color);\n",
              "    }\n",
              "    60% {\n",
              "      border-color: transparent;\n",
              "      border-right-color: var(--fill-color);\n",
              "    }\n",
              "    80% {\n",
              "      border-color: transparent;\n",
              "      border-right-color: var(--fill-color);\n",
              "      border-bottom-color: var(--fill-color);\n",
              "    }\n",
              "    90% {\n",
              "      border-color: transparent;\n",
              "      border-bottom-color: var(--fill-color);\n",
              "    }\n",
              "  }\n",
              "</style>\n",
              "\n",
              "  <script>\n",
              "    async function quickchart(key) {\n",
              "      const quickchartButtonEl =\n",
              "        document.querySelector('#' + key + ' button');\n",
              "      quickchartButtonEl.disabled = true;  // To prevent multiple clicks.\n",
              "      quickchartButtonEl.classList.add('colab-df-spinner');\n",
              "      try {\n",
              "        const charts = await google.colab.kernel.invokeFunction(\n",
              "            'suggestCharts', [key], {});\n",
              "      } catch (error) {\n",
              "        console.error('Error during call to suggestCharts:', error);\n",
              "      }\n",
              "      quickchartButtonEl.classList.remove('colab-df-spinner');\n",
              "      quickchartButtonEl.classList.add('colab-df-quickchart-complete');\n",
              "    }\n",
              "    (() => {\n",
              "      let quickchartButtonEl =\n",
              "        document.querySelector('#df-f2573819-1645-48ca-8e49-2b9d2fd95989 button');\n",
              "      quickchartButtonEl.style.display =\n",
              "        google.colab.kernel.accessAllowed ? 'block' : 'none';\n",
              "    })();\n",
              "  </script>\n",
              "</div>\n",
              "    </div>\n",
              "  </div>\n"
            ],
            "text/plain": [
              "          id  age               diet    drinks  drugs  \\\n",
              "0      33904   29                NaN  socially  never   \n",
              "1      35538   19                NaN       NaN    NaN   \n",
              "2      36731   32    mostly anything  socially    NaN   \n",
              "3      16304   36  strictly anything  socially    NaN   \n",
              "4      19727   22                NaN  socially  never   \n",
              "...      ...  ...                ...       ...    ...   \n",
              "40833  43241   30    mostly anything    rarely  never   \n",
              "40834  43498   24           anything  socially  never   \n",
              "40835   5149   30  strictly anything  socially  never   \n",
              "40836   2085   34           anything  socially    NaN   \n",
              "40837   6212   28           anything  socially  never   \n",
              "\n",
              "                               education                       ethnicity  \\\n",
              "0              graduated from law school  asian, hispanic / latin, white   \n",
              "1                                    NaN                           other   \n",
              "2      dropped out of college/university                           white   \n",
              "3      graduated from college/university                           white   \n",
              "4      graduated from college/university                           asian   \n",
              "...                                  ...                             ...   \n",
              "40833    dropped out of two-year college                           white   \n",
              "40834  graduated from college/university                           white   \n",
              "40835  graduated from college/university                           asian   \n",
              "40836        graduated from ph.d program                             NaN   \n",
              "40837  graduated from college/university                           white   \n",
              "\n",
              "       height  income                                job  \\\n",
              "0        69.0      -1               law / legal services   \n",
              "1        69.0      -1                                NaN   \n",
              "2        69.0  100000             executive / management   \n",
              "3        67.0  100000     computer / hardware / software   \n",
              "4        68.0      -1     computer / hardware / software   \n",
              "...       ...     ...                                ...   \n",
              "40833    72.0   20000       construction / craftsmanship   \n",
              "40834    70.0      -1        artistic / musical / writer   \n",
              "40835    69.0      -1  banking / financial / real estate   \n",
              "40836    62.0      -1       science / tech / engineering   \n",
              "40837    72.0   40000       construction / craftsmanship   \n",
              "\n",
              "                                          offspring orientation  \\\n",
              "0                                               NaN    straight   \n",
              "1                                               NaN    bisexual   \n",
              "2                                               NaN    straight   \n",
              "3                           doesn&rsquo;t have kids    straight   \n",
              "4                                               NaN    straight   \n",
              "...                                             ...         ...   \n",
              "40833                                           NaN    straight   \n",
              "40834                       doesn&rsquo;t want kids    straight   \n",
              "40835                       doesn&rsquo;t have kids    straight   \n",
              "40836  doesn&rsquo;t have kids, but might want them    straight   \n",
              "40837                       doesn&rsquo;t have kids    straight   \n",
              "\n",
              "                            pets                                   religion  \\\n",
              "0                     likes dogs                                catholicism   \n",
              "1                       has cats                                   buddhism   \n",
              "2      likes dogs and likes cats  christianity but not too serious about it   \n",
              "3                     likes dogs       atheism but not too serious about it   \n",
              "4                            NaN                                        NaN   \n",
              "...                          ...                                        ...   \n",
              "40833    likes dogs and has cats                                    atheism   \n",
              "40834  likes dogs and likes cats       atheism but not too serious about it   \n",
              "40835                 likes dogs                                agnosticism   \n",
              "40836  likes dogs and likes cats                                        NaN   \n",
              "40837    has dogs and likes cats              atheism and laughing about it   \n",
              "\n",
              "      sex                                      sign smokes  \\\n",
              "0       m      aquarius but it doesn&rsquo;t matter     no   \n",
              "1       f                                    taurus    NaN   \n",
              "2       m         virgo but it doesn&rsquo;t matter     no   \n",
              "3       m        cancer but it doesn&rsquo;t matter     no   \n",
              "4       m                                       NaN     no   \n",
              "...    ..                                       ...    ...   \n",
              "40833   m  taurus and it&rsquo;s fun to think about     no   \n",
              "40834   f   sagittarius but it doesn&rsquo;t matter     no   \n",
              "40835   m   sagittarius but it doesn&rsquo;t matter     no   \n",
              "40836   m           leo but it doesn&rsquo;t matter    NaN   \n",
              "40837   m       scorpio but it doesn&rsquo;t matter     no   \n",
              "\n",
              "                                                  speaks          status  \\\n",
              "0      english (fluently), spanish (okay), korean (po...          single   \n",
              "1                                                english          single   \n",
              "2                                     english (fluently)          single   \n",
              "3      english (okay), english (fluently), english (p...          single   \n",
              "4                                       english, chinese          single   \n",
              "...                                                  ...             ...   \n",
              "40833                english (fluently), german (poorly)  seeing someone   \n",
              "40834  english (fluently), french (okay), spanish (po...          single   \n",
              "40835                 english (fluently), chinese (okay)          single   \n",
              "40836                                   english, spanish          single   \n",
              "40837                                            english          single   \n",
              "\n",
              "      fit_body  \n",
              "0          yes  \n",
              "1           no  \n",
              "2           no  \n",
              "3           no  \n",
              "4           no  \n",
              "...        ...  \n",
              "40833       no  \n",
              "40834      yes  \n",
              "40835      yes  \n",
              "40836      yes  \n",
              "40837       no  \n",
              "\n",
              "[40838 rows x 20 columns]"
            ]
          },
          "execution_count": 207,
          "metadata": {},
          "output_type": "execute_result"
        }
      ],
      "source": [
        "import numpy as np\n",
        "import pandas as pd\n",
        "\n",
        "df = pd.read_csv('./train.csv')\n",
        "df = pd.DataFrame(df)\n",
        "\n",
        "df = df.iloc[:-1, :]\n",
        "\n",
        "df"
      ]
    },
    {
      "cell_type": "markdown",
      "metadata": {
        "id": "-kVx4zzR0uuW"
      },
      "source": [
        "## Handle Missing Data"
      ]
    },
    {
      "cell_type": "code",
      "execution_count": null,
      "metadata": {
        "id": "GHGuEldi7mGb"
      },
      "outputs": [],
      "source": [
        "df.fillna(value={'diet': 'anything', 'drinks': 'socially', 'drugs': 'never', 'education': 'unknown', 'ethnicity': 'other'}, inplace=True)\n",
        "\n",
        "X = df.drop('fit_body', axis=1)\n",
        "y = df['fit_body']"
      ]
    },
    {
      "cell_type": "code",
      "execution_count": null,
      "metadata": {
        "id": "AM7G9jMLY0iC"
      },
      "outputs": [],
      "source": [
        "y"
      ]
    },
    {
      "cell_type": "code",
      "execution_count": null,
      "metadata": {
        "id": "8D5Qbf6f_nJh"
      },
      "outputs": [],
      "source": [
        "map_missing_data = {'diet': 'anything',\n",
        "                    'drinks': 'socially',\n",
        "                    'drugs': 'never',\n",
        "                    'education': 'unknown',\n",
        "                    'ethnicity': 'other',\n",
        "                    'job': 'rather not say',\n",
        "                    'offspring': 'unknown',\n",
        "                    'orientation': 'straight',\n",
        "                    'pets': 'unknown',\n",
        "                    'religion': 'atheism',\n",
        "                    'sign': 'but it doesn’t matter',\n",
        "                    'smokes': 'never',\n",
        "                    'speaks': 'unknown',\n",
        "                    'status': 'single',\n",
        "                    'sex': 'unknown'}"
      ]
    },
    {
      "cell_type": "code",
      "execution_count": null,
      "metadata": {
        "id": "2a6Sep2e183d"
      },
      "outputs": [],
      "source": [
        "def fill_missing_data(df):\n",
        "    df_filled = df.copy()\n",
        "    for col in df_filled.columns:\n",
        "        if df_filled[col].dtype == 'O':  # Check if column is of object (string) type\n",
        "            df_filled[col] = df_filled[col].fillna(map_missing_data.get(col, 'unknown'))\n",
        "        else:\n",
        "            df_filled[col] = df_filled[col].fillna(df_filled[col].mean())\n",
        "    return df_filled"
      ]
    },
    {
      "cell_type": "code",
      "execution_count": null,
      "metadata": {
        "id": "32dCBcnkwN6c"
      },
      "outputs": [],
      "source": [
        "from sklearn.preprocessing import FunctionTransformer\n",
        "\n",
        "fill_na_imputer = FunctionTransformer(func=fill_missing_data, validate=False)"
      ]
    },
    {
      "cell_type": "markdown",
      "metadata": {
        "id": "Kwuk4Xji05Kq"
      },
      "source": [
        "## Data Preprocessing"
      ]
    },
    {
      "cell_type": "code",
      "execution_count": null,
      "metadata": {
        "id": "JYyRF5ROBj5J"
      },
      "outputs": [],
      "source": [
        "from sklearn.preprocessing import LabelBinarizer\n",
        "\n",
        "binary_encoder = LabelBinarizer()\n",
        "\n",
        "y_binary = binary_encoder.fit_transform(y)"
      ]
    },
    {
      "cell_type": "code",
      "execution_count": null,
      "metadata": {
        "id": "2r8AhO8A85U1"
      },
      "outputs": [],
      "source": [
        "from sklearn.compose import make_column_transformer\n",
        "from sklearn.preprocessing import OneHotEncoder\n",
        "\n",
        "categorical_col = ['diet',\t'drinks',\t'drugs',\t'education',\t'ethnicity',\t'job',\t'offspring',\t'orientation',\t'pets',\t'religion', 'sex', 'sign',\t'smokes',\t'speaks',\t'status']\n",
        "\n",
        "preprocessor = make_column_transformer(\n",
        "    (OneHotEncoder(handle_unknown='ignore'), categorical_col),\n",
        "    remainder='passthrough'\n",
        ")"
      ]
    },
    {
      "cell_type": "code",
      "execution_count": null,
      "metadata": {
        "colab": {
          "base_uri": "https://localhost:8080/"
        },
        "id": "-JpBz2EJ_DGU",
        "outputId": "dd405b37-ee87-4166-b1e0-6f5cb5eac926"
      },
      "outputs": [
        {
          "data": {
            "text/plain": [
              "<40838x6103 sparse matrix of type '<class 'numpy.float64'>'\n",
              "\twith 775921 stored elements in Compressed Sparse Row format>"
            ]
          },
          "execution_count": 215,
          "metadata": {},
          "output_type": "execute_result"
        }
      ],
      "source": [
        "preprocessor.fit_transform(X)"
      ]
    },
    {
      "cell_type": "markdown",
      "metadata": {
        "id": "Lh-F8SuE1lHD"
      },
      "source": [
        "## Split Dataset and Preprocess Dataset"
      ]
    },
    {
      "cell_type": "code",
      "execution_count": null,
      "metadata": {
        "id": "Vv8X73P7Gg0J"
      },
      "outputs": [],
      "source": [
        "from sklearn.model_selection import train_test_split\n",
        "\n",
        "X_train, X_test, y_train, y_test = train_test_split(X, y, test_size=0.2, random_state=42)"
      ]
    },
    {
      "cell_type": "code",
      "execution_count": null,
      "metadata": {
        "colab": {
          "base_uri": "https://localhost:8080/"
        },
        "id": "hDfmeLYTABUe",
        "outputId": "ad597a46-c2b0-4898-f875-38dda17437f4"
      },
      "outputs": [
        {
          "data": {
            "application/vnd.google.colaboratory.intrinsic+json": {
              "summary": "{\n  \"name\": \"X_test\",\n  \"rows\": 8168,\n  \"fields\": [\n    {\n      \"column\": \"id\",\n      \"properties\": {\n        \"dtype\": \"number\",\n        \"std\": 15684,\n        \"min\": 4,\n        \"max\": 54447,\n        \"num_unique_values\": 8168,\n        \"samples\": [\n          12306,\n          36543,\n          20423\n        ],\n        \"semantic_type\": \"\",\n        \"description\": \"\"\n      }\n    },\n    {\n      \"column\": \"age\",\n      \"properties\": {\n        \"dtype\": \"number\",\n        \"std\": 9,\n        \"min\": 17,\n        \"max\": 70,\n        \"num_unique_values\": 54,\n        \"samples\": [\n          26,\n          69,\n          54\n        ],\n        \"semantic_type\": \"\",\n        \"description\": \"\"\n      }\n    },\n    {\n      \"column\": \"diet\",\n      \"properties\": {\n        \"dtype\": \"category\",\n        \"num_unique_values\": 18,\n        \"samples\": [\n          \"anything\",\n          \"mostly anything\",\n          \"mostly other\"\n        ],\n        \"semantic_type\": \"\",\n        \"description\": \"\"\n      }\n    },\n    {\n      \"column\": \"drinks\",\n      \"properties\": {\n        \"dtype\": \"category\",\n        \"num_unique_values\": 6,\n        \"samples\": [\n          \"socially\",\n          \"rarely\",\n          \"very often\"\n        ],\n        \"semantic_type\": \"\",\n        \"description\": \"\"\n      }\n    },\n    {\n      \"column\": \"drugs\",\n      \"properties\": {\n        \"dtype\": \"category\",\n        \"num_unique_values\": 3,\n        \"samples\": [\n          \"never\",\n          \"sometimes\",\n          \"often\"\n        ],\n        \"semantic_type\": \"\",\n        \"description\": \"\"\n      }\n    },\n    {\n      \"column\": \"education\",\n      \"properties\": {\n        \"dtype\": \"category\",\n        \"num_unique_values\": 31,\n        \"samples\": [\n          \"working on law school\",\n          \"dropped out of college/university\",\n          \"working on med school\"\n        ],\n        \"semantic_type\": \"\",\n        \"description\": \"\"\n      }\n    },\n    {\n      \"column\": \"ethnicity\",\n      \"properties\": {\n        \"dtype\": \"category\",\n        \"num_unique_values\": 109,\n        \"samples\": [\n          \"asian, native american, pacific islander, white, other\",\n          \"black, white\",\n          \"hispanic / latin, white\"\n        ],\n        \"semantic_type\": \"\",\n        \"description\": \"\"\n      }\n    },\n    {\n      \"column\": \"height\",\n      \"properties\": {\n        \"dtype\": \"number\",\n        \"std\": 3.9137015109445445,\n        \"min\": 36.0,\n        \"max\": 95.0,\n        \"num_unique_values\": 33,\n        \"samples\": [\n          82.0,\n          61.0,\n          57.0\n        ],\n        \"semantic_type\": \"\",\n        \"description\": \"\"\n      }\n    },\n    {\n      \"column\": \"income\",\n      \"properties\": {\n        \"dtype\": \"number\",\n        \"std\": 99005,\n        \"min\": -1,\n        \"max\": 1000000,\n        \"num_unique_values\": 13,\n        \"samples\": [\n          250000,\n          1000000,\n          -1\n        ],\n        \"semantic_type\": \"\",\n        \"description\": \"\"\n      }\n    },\n    {\n      \"column\": \"job\",\n      \"properties\": {\n        \"dtype\": \"category\",\n        \"num_unique_values\": 21,\n        \"samples\": [\n          \"other\",\n          \"hospitality / travel\",\n          \"political / government\"\n        ],\n        \"semantic_type\": \"\",\n        \"description\": \"\"\n      }\n    },\n    {\n      \"column\": \"offspring\",\n      \"properties\": {\n        \"dtype\": \"category\",\n        \"num_unique_values\": 15,\n        \"samples\": [\n          \"has kids, but doesn&rsquo;t want more\",\n          \"wants kids\",\n          \"doesn&rsquo;t have kids\"\n        ],\n        \"semantic_type\": \"\",\n        \"description\": \"\"\n      }\n    },\n    {\n      \"column\": \"orientation\",\n      \"properties\": {\n        \"dtype\": \"category\",\n        \"num_unique_values\": 3,\n        \"samples\": [\n          \"straight\",\n          \"bisexual\",\n          \"gay\"\n        ],\n        \"semantic_type\": \"\",\n        \"description\": \"\"\n      }\n    },\n    {\n      \"column\": \"pets\",\n      \"properties\": {\n        \"dtype\": \"category\",\n        \"num_unique_values\": 15,\n        \"samples\": [\n          \"has dogs\",\n          \"dislikes dogs\",\n          \"likes dogs\"\n        ],\n        \"semantic_type\": \"\",\n        \"description\": \"\"\n      }\n    },\n    {\n      \"column\": \"religion\",\n      \"properties\": {\n        \"dtype\": \"category\",\n        \"num_unique_values\": 45,\n        \"samples\": [\n          \"islam but not too serious about it\",\n          \"catholicism and laughing about it\",\n          \"islam and laughing about it\"\n        ],\n        \"semantic_type\": \"\",\n        \"description\": \"\"\n      }\n    },\n    {\n      \"column\": \"sex\",\n      \"properties\": {\n        \"dtype\": \"category\",\n        \"num_unique_values\": 2,\n        \"samples\": [\n          \"f\",\n          \"m\"\n        ],\n        \"semantic_type\": \"\",\n        \"description\": \"\"\n      }\n    },\n    {\n      \"column\": \"sign\",\n      \"properties\": {\n        \"dtype\": \"category\",\n        \"num_unique_values\": 48,\n        \"samples\": [\n          \"taurus and it matters a lot\",\n          \"aquarius and it matters a lot\"\n        ],\n        \"semantic_type\": \"\",\n        \"description\": \"\"\n      }\n    },\n    {\n      \"column\": \"smokes\",\n      \"properties\": {\n        \"dtype\": \"category\",\n        \"num_unique_values\": 5,\n        \"samples\": [\n          \"sometimes\",\n          \"when drinking\"\n        ],\n        \"semantic_type\": \"\",\n        \"description\": \"\"\n      }\n    },\n    {\n      \"column\": \"speaks\",\n      \"properties\": {\n        \"dtype\": \"category\",\n        \"num_unique_values\": 1634,\n        \"samples\": [\n          \"english (fluently), spanish (poorly), persian (okay)\",\n          \"english (fluently), japanese (fluently), french (okay), serbian (okay), latin (okay)\"\n        ],\n        \"semantic_type\": \"\",\n        \"description\": \"\"\n      }\n    },\n    {\n      \"column\": \"status\",\n      \"properties\": {\n        \"dtype\": \"category\",\n        \"num_unique_values\": 4,\n        \"samples\": [\n          \"seeing someone\",\n          \"married\"\n        ],\n        \"semantic_type\": \"\",\n        \"description\": \"\"\n      }\n    }\n  ]\n}",
              "type": "dataframe",
              "variable_name": "X_test"
            },
            "text/html": [
              "\n",
              "  <div id=\"df-c7b702ad-ac54-4e9a-949a-4564b2a288a8\" class=\"colab-df-container\">\n",
              "    <div>\n",
              "<style scoped>\n",
              "    .dataframe tbody tr th:only-of-type {\n",
              "        vertical-align: middle;\n",
              "    }\n",
              "\n",
              "    .dataframe tbody tr th {\n",
              "        vertical-align: top;\n",
              "    }\n",
              "\n",
              "    .dataframe thead th {\n",
              "        text-align: right;\n",
              "    }\n",
              "</style>\n",
              "<table border=\"1\" class=\"dataframe\">\n",
              "  <thead>\n",
              "    <tr style=\"text-align: right;\">\n",
              "      <th></th>\n",
              "      <th>id</th>\n",
              "      <th>age</th>\n",
              "      <th>diet</th>\n",
              "      <th>drinks</th>\n",
              "      <th>drugs</th>\n",
              "      <th>education</th>\n",
              "      <th>ethnicity</th>\n",
              "      <th>height</th>\n",
              "      <th>income</th>\n",
              "      <th>job</th>\n",
              "      <th>offspring</th>\n",
              "      <th>orientation</th>\n",
              "      <th>pets</th>\n",
              "      <th>religion</th>\n",
              "      <th>sex</th>\n",
              "      <th>sign</th>\n",
              "      <th>smokes</th>\n",
              "      <th>speaks</th>\n",
              "      <th>status</th>\n",
              "    </tr>\n",
              "  </thead>\n",
              "  <tbody>\n",
              "    <tr>\n",
              "      <th>13618</th>\n",
              "      <td>15107</td>\n",
              "      <td>38</td>\n",
              "      <td>anything</td>\n",
              "      <td>socially</td>\n",
              "      <td>never</td>\n",
              "      <td>graduated from masters program</td>\n",
              "      <td>other</td>\n",
              "      <td>71.0</td>\n",
              "      <td>-1</td>\n",
              "      <td>other</td>\n",
              "      <td>NaN</td>\n",
              "      <td>straight</td>\n",
              "      <td>NaN</td>\n",
              "      <td>judaism</td>\n",
              "      <td>m</td>\n",
              "      <td>sagittarius</td>\n",
              "      <td>no</td>\n",
              "      <td>english, farsi</td>\n",
              "      <td>single</td>\n",
              "    </tr>\n",
              "    <tr>\n",
              "      <th>7745</th>\n",
              "      <td>39334</td>\n",
              "      <td>32</td>\n",
              "      <td>anything</td>\n",
              "      <td>socially</td>\n",
              "      <td>never</td>\n",
              "      <td>graduated from college/university</td>\n",
              "      <td>asian, hispanic / latin</td>\n",
              "      <td>66.0</td>\n",
              "      <td>-1</td>\n",
              "      <td>education / academia</td>\n",
              "      <td>NaN</td>\n",
              "      <td>straight</td>\n",
              "      <td>likes dogs</td>\n",
              "      <td>christianity</td>\n",
              "      <td>f</td>\n",
              "      <td>capricorn and it&amp;rsquo;s fun to think about</td>\n",
              "      <td>no</td>\n",
              "      <td>english (fluently), spanish (okay), japanese (...</td>\n",
              "      <td>seeing someone</td>\n",
              "    </tr>\n",
              "    <tr>\n",
              "      <th>879</th>\n",
              "      <td>17672</td>\n",
              "      <td>35</td>\n",
              "      <td>mostly anything</td>\n",
              "      <td>socially</td>\n",
              "      <td>never</td>\n",
              "      <td>college/university</td>\n",
              "      <td>white</td>\n",
              "      <td>77.0</td>\n",
              "      <td>80000</td>\n",
              "      <td>computer / hardware / software</td>\n",
              "      <td>doesn&amp;rsquo;t have kids</td>\n",
              "      <td>straight</td>\n",
              "      <td>NaN</td>\n",
              "      <td>agnosticism and somewhat serious about it</td>\n",
              "      <td>m</td>\n",
              "      <td>libra</td>\n",
              "      <td>NaN</td>\n",
              "      <td>english</td>\n",
              "      <td>single</td>\n",
              "    </tr>\n",
              "    <tr>\n",
              "      <th>14983</th>\n",
              "      <td>7560</td>\n",
              "      <td>23</td>\n",
              "      <td>mostly anything</td>\n",
              "      <td>socially</td>\n",
              "      <td>never</td>\n",
              "      <td>graduated from college/university</td>\n",
              "      <td>white</td>\n",
              "      <td>72.0</td>\n",
              "      <td>60000</td>\n",
              "      <td>artistic / musical / writer</td>\n",
              "      <td>doesn&amp;rsquo;t have kids</td>\n",
              "      <td>straight</td>\n",
              "      <td>likes dogs and likes cats</td>\n",
              "      <td>other and somewhat serious about it</td>\n",
              "      <td>m</td>\n",
              "      <td>sagittarius but it doesn&amp;rsquo;t matter</td>\n",
              "      <td>no</td>\n",
              "      <td>english (fluently), czech (poorly)</td>\n",
              "      <td>single</td>\n",
              "    </tr>\n",
              "    <tr>\n",
              "      <th>21865</th>\n",
              "      <td>1434</td>\n",
              "      <td>36</td>\n",
              "      <td>anything</td>\n",
              "      <td>socially</td>\n",
              "      <td>never</td>\n",
              "      <td>working on ph.d program</td>\n",
              "      <td>white</td>\n",
              "      <td>72.0</td>\n",
              "      <td>-1</td>\n",
              "      <td>NaN</td>\n",
              "      <td>doesn&amp;rsquo;t have kids, but wants them</td>\n",
              "      <td>straight</td>\n",
              "      <td>likes dogs and likes cats</td>\n",
              "      <td>NaN</td>\n",
              "      <td>m</td>\n",
              "      <td>sagittarius and it&amp;rsquo;s fun to think about</td>\n",
              "      <td>no</td>\n",
              "      <td>english, spanish (okay)</td>\n",
              "      <td>single</td>\n",
              "    </tr>\n",
              "    <tr>\n",
              "      <th>...</th>\n",
              "      <td>...</td>\n",
              "      <td>...</td>\n",
              "      <td>...</td>\n",
              "      <td>...</td>\n",
              "      <td>...</td>\n",
              "      <td>...</td>\n",
              "      <td>...</td>\n",
              "      <td>...</td>\n",
              "      <td>...</td>\n",
              "      <td>...</td>\n",
              "      <td>...</td>\n",
              "      <td>...</td>\n",
              "      <td>...</td>\n",
              "      <td>...</td>\n",
              "      <td>...</td>\n",
              "      <td>...</td>\n",
              "      <td>...</td>\n",
              "      <td>...</td>\n",
              "      <td>...</td>\n",
              "    </tr>\n",
              "    <tr>\n",
              "      <th>13542</th>\n",
              "      <td>21898</td>\n",
              "      <td>30</td>\n",
              "      <td>mostly other</td>\n",
              "      <td>not at all</td>\n",
              "      <td>never</td>\n",
              "      <td>graduated from college/university</td>\n",
              "      <td>white</td>\n",
              "      <td>74.0</td>\n",
              "      <td>-1</td>\n",
              "      <td>artistic / musical / writer</td>\n",
              "      <td>NaN</td>\n",
              "      <td>gay</td>\n",
              "      <td>likes dogs</td>\n",
              "      <td>other and laughing about it</td>\n",
              "      <td>m</td>\n",
              "      <td>scorpio and it matters a lot</td>\n",
              "      <td>no</td>\n",
              "      <td>english</td>\n",
              "      <td>available</td>\n",
              "    </tr>\n",
              "    <tr>\n",
              "      <th>4844</th>\n",
              "      <td>40829</td>\n",
              "      <td>31</td>\n",
              "      <td>anything</td>\n",
              "      <td>socially</td>\n",
              "      <td>never</td>\n",
              "      <td>graduated from college/university</td>\n",
              "      <td>white</td>\n",
              "      <td>68.0</td>\n",
              "      <td>-1</td>\n",
              "      <td>executive / management</td>\n",
              "      <td>NaN</td>\n",
              "      <td>gay</td>\n",
              "      <td>has dogs</td>\n",
              "      <td>NaN</td>\n",
              "      <td>m</td>\n",
              "      <td>virgo but it doesn&amp;rsquo;t matter</td>\n",
              "      <td>no</td>\n",
              "      <td>english, portuguese (okay)</td>\n",
              "      <td>single</td>\n",
              "    </tr>\n",
              "    <tr>\n",
              "      <th>14171</th>\n",
              "      <td>43516</td>\n",
              "      <td>38</td>\n",
              "      <td>anything</td>\n",
              "      <td>socially</td>\n",
              "      <td>never</td>\n",
              "      <td>graduated from college/university</td>\n",
              "      <td>white</td>\n",
              "      <td>63.0</td>\n",
              "      <td>-1</td>\n",
              "      <td>clerical / administrative</td>\n",
              "      <td>doesn&amp;rsquo;t have kids</td>\n",
              "      <td>straight</td>\n",
              "      <td>likes dogs and likes cats</td>\n",
              "      <td>christianity and very serious about it</td>\n",
              "      <td>f</td>\n",
              "      <td>NaN</td>\n",
              "      <td>no</td>\n",
              "      <td>english, french (poorly), turkish (poorly)</td>\n",
              "      <td>single</td>\n",
              "    </tr>\n",
              "    <tr>\n",
              "      <th>18294</th>\n",
              "      <td>13478</td>\n",
              "      <td>26</td>\n",
              "      <td>anything</td>\n",
              "      <td>socially</td>\n",
              "      <td>never</td>\n",
              "      <td>graduated from masters program</td>\n",
              "      <td>white</td>\n",
              "      <td>71.0</td>\n",
              "      <td>-1</td>\n",
              "      <td>science / tech / engineering</td>\n",
              "      <td>NaN</td>\n",
              "      <td>straight</td>\n",
              "      <td>likes dogs and likes cats</td>\n",
              "      <td>NaN</td>\n",
              "      <td>m</td>\n",
              "      <td>NaN</td>\n",
              "      <td>no</td>\n",
              "      <td>english</td>\n",
              "      <td>single</td>\n",
              "    </tr>\n",
              "    <tr>\n",
              "      <th>21238</th>\n",
              "      <td>4292</td>\n",
              "      <td>47</td>\n",
              "      <td>anything</td>\n",
              "      <td>socially</td>\n",
              "      <td>never</td>\n",
              "      <td>graduated from college/university</td>\n",
              "      <td>white</td>\n",
              "      <td>71.0</td>\n",
              "      <td>-1</td>\n",
              "      <td>artistic / musical / writer</td>\n",
              "      <td>doesn&amp;rsquo;t want kids</td>\n",
              "      <td>straight</td>\n",
              "      <td>has cats</td>\n",
              "      <td>agnosticism but not too serious about it</td>\n",
              "      <td>m</td>\n",
              "      <td>aquarius but it doesn&amp;rsquo;t matter</td>\n",
              "      <td>no</td>\n",
              "      <td>english</td>\n",
              "      <td>single</td>\n",
              "    </tr>\n",
              "  </tbody>\n",
              "</table>\n",
              "<p>8168 rows × 19 columns</p>\n",
              "</div>\n",
              "    <div class=\"colab-df-buttons\">\n",
              "\n",
              "  <div class=\"colab-df-container\">\n",
              "    <button class=\"colab-df-convert\" onclick=\"convertToInteractive('df-c7b702ad-ac54-4e9a-949a-4564b2a288a8')\"\n",
              "            title=\"Convert this dataframe to an interactive table.\"\n",
              "            style=\"display:none;\">\n",
              "\n",
              "  <svg xmlns=\"http://www.w3.org/2000/svg\" height=\"24px\" viewBox=\"0 -960 960 960\">\n",
              "    <path d=\"M120-120v-720h720v720H120Zm60-500h600v-160H180v160Zm220 220h160v-160H400v160Zm0 220h160v-160H400v160ZM180-400h160v-160H180v160Zm440 0h160v-160H620v160ZM180-180h160v-160H180v160Zm440 0h160v-160H620v160Z\"/>\n",
              "  </svg>\n",
              "    </button>\n",
              "\n",
              "  <style>\n",
              "    .colab-df-container {\n",
              "      display:flex;\n",
              "      gap: 12px;\n",
              "    }\n",
              "\n",
              "    .colab-df-convert {\n",
              "      background-color: #E8F0FE;\n",
              "      border: none;\n",
              "      border-radius: 50%;\n",
              "      cursor: pointer;\n",
              "      display: none;\n",
              "      fill: #1967D2;\n",
              "      height: 32px;\n",
              "      padding: 0 0 0 0;\n",
              "      width: 32px;\n",
              "    }\n",
              "\n",
              "    .colab-df-convert:hover {\n",
              "      background-color: #E2EBFA;\n",
              "      box-shadow: 0px 1px 2px rgba(60, 64, 67, 0.3), 0px 1px 3px 1px rgba(60, 64, 67, 0.15);\n",
              "      fill: #174EA6;\n",
              "    }\n",
              "\n",
              "    .colab-df-buttons div {\n",
              "      margin-bottom: 4px;\n",
              "    }\n",
              "\n",
              "    [theme=dark] .colab-df-convert {\n",
              "      background-color: #3B4455;\n",
              "      fill: #D2E3FC;\n",
              "    }\n",
              "\n",
              "    [theme=dark] .colab-df-convert:hover {\n",
              "      background-color: #434B5C;\n",
              "      box-shadow: 0px 1px 3px 1px rgba(0, 0, 0, 0.15);\n",
              "      filter: drop-shadow(0px 1px 2px rgba(0, 0, 0, 0.3));\n",
              "      fill: #FFFFFF;\n",
              "    }\n",
              "  </style>\n",
              "\n",
              "    <script>\n",
              "      const buttonEl =\n",
              "        document.querySelector('#df-c7b702ad-ac54-4e9a-949a-4564b2a288a8 button.colab-df-convert');\n",
              "      buttonEl.style.display =\n",
              "        google.colab.kernel.accessAllowed ? 'block' : 'none';\n",
              "\n",
              "      async function convertToInteractive(key) {\n",
              "        const element = document.querySelector('#df-c7b702ad-ac54-4e9a-949a-4564b2a288a8');\n",
              "        const dataTable =\n",
              "          await google.colab.kernel.invokeFunction('convertToInteractive',\n",
              "                                                    [key], {});\n",
              "        if (!dataTable) return;\n",
              "\n",
              "        const docLinkHtml = 'Like what you see? Visit the ' +\n",
              "          '<a target=\"_blank\" href=https://colab.research.google.com/notebooks/data_table.ipynb>data table notebook</a>'\n",
              "          + ' to learn more about interactive tables.';\n",
              "        element.innerHTML = '';\n",
              "        dataTable['output_type'] = 'display_data';\n",
              "        await google.colab.output.renderOutput(dataTable, element);\n",
              "        const docLink = document.createElement('div');\n",
              "        docLink.innerHTML = docLinkHtml;\n",
              "        element.appendChild(docLink);\n",
              "      }\n",
              "    </script>\n",
              "  </div>\n",
              "\n",
              "\n",
              "<div id=\"df-e430fa9a-2fc3-4cbf-8c5d-26149ab0faac\">\n",
              "  <button class=\"colab-df-quickchart\" onclick=\"quickchart('df-e430fa9a-2fc3-4cbf-8c5d-26149ab0faac')\"\n",
              "            title=\"Suggest charts\"\n",
              "            style=\"display:none;\">\n",
              "\n",
              "<svg xmlns=\"http://www.w3.org/2000/svg\" height=\"24px\"viewBox=\"0 0 24 24\"\n",
              "     width=\"24px\">\n",
              "    <g>\n",
              "        <path d=\"M19 3H5c-1.1 0-2 .9-2 2v14c0 1.1.9 2 2 2h14c1.1 0 2-.9 2-2V5c0-1.1-.9-2-2-2zM9 17H7v-7h2v7zm4 0h-2V7h2v10zm4 0h-2v-4h2v4z\"/>\n",
              "    </g>\n",
              "</svg>\n",
              "  </button>\n",
              "\n",
              "<style>\n",
              "  .colab-df-quickchart {\n",
              "      --bg-color: #E8F0FE;\n",
              "      --fill-color: #1967D2;\n",
              "      --hover-bg-color: #E2EBFA;\n",
              "      --hover-fill-color: #174EA6;\n",
              "      --disabled-fill-color: #AAA;\n",
              "      --disabled-bg-color: #DDD;\n",
              "  }\n",
              "\n",
              "  [theme=dark] .colab-df-quickchart {\n",
              "      --bg-color: #3B4455;\n",
              "      --fill-color: #D2E3FC;\n",
              "      --hover-bg-color: #434B5C;\n",
              "      --hover-fill-color: #FFFFFF;\n",
              "      --disabled-bg-color: #3B4455;\n",
              "      --disabled-fill-color: #666;\n",
              "  }\n",
              "\n",
              "  .colab-df-quickchart {\n",
              "    background-color: var(--bg-color);\n",
              "    border: none;\n",
              "    border-radius: 50%;\n",
              "    cursor: pointer;\n",
              "    display: none;\n",
              "    fill: var(--fill-color);\n",
              "    height: 32px;\n",
              "    padding: 0;\n",
              "    width: 32px;\n",
              "  }\n",
              "\n",
              "  .colab-df-quickchart:hover {\n",
              "    background-color: var(--hover-bg-color);\n",
              "    box-shadow: 0 1px 2px rgba(60, 64, 67, 0.3), 0 1px 3px 1px rgba(60, 64, 67, 0.15);\n",
              "    fill: var(--button-hover-fill-color);\n",
              "  }\n",
              "\n",
              "  .colab-df-quickchart-complete:disabled,\n",
              "  .colab-df-quickchart-complete:disabled:hover {\n",
              "    background-color: var(--disabled-bg-color);\n",
              "    fill: var(--disabled-fill-color);\n",
              "    box-shadow: none;\n",
              "  }\n",
              "\n",
              "  .colab-df-spinner {\n",
              "    border: 2px solid var(--fill-color);\n",
              "    border-color: transparent;\n",
              "    border-bottom-color: var(--fill-color);\n",
              "    animation:\n",
              "      spin 1s steps(1) infinite;\n",
              "  }\n",
              "\n",
              "  @keyframes spin {\n",
              "    0% {\n",
              "      border-color: transparent;\n",
              "      border-bottom-color: var(--fill-color);\n",
              "      border-left-color: var(--fill-color);\n",
              "    }\n",
              "    20% {\n",
              "      border-color: transparent;\n",
              "      border-left-color: var(--fill-color);\n",
              "      border-top-color: var(--fill-color);\n",
              "    }\n",
              "    30% {\n",
              "      border-color: transparent;\n",
              "      border-left-color: var(--fill-color);\n",
              "      border-top-color: var(--fill-color);\n",
              "      border-right-color: var(--fill-color);\n",
              "    }\n",
              "    40% {\n",
              "      border-color: transparent;\n",
              "      border-right-color: var(--fill-color);\n",
              "      border-top-color: var(--fill-color);\n",
              "    }\n",
              "    60% {\n",
              "      border-color: transparent;\n",
              "      border-right-color: var(--fill-color);\n",
              "    }\n",
              "    80% {\n",
              "      border-color: transparent;\n",
              "      border-right-color: var(--fill-color);\n",
              "      border-bottom-color: var(--fill-color);\n",
              "    }\n",
              "    90% {\n",
              "      border-color: transparent;\n",
              "      border-bottom-color: var(--fill-color);\n",
              "    }\n",
              "  }\n",
              "</style>\n",
              "\n",
              "  <script>\n",
              "    async function quickchart(key) {\n",
              "      const quickchartButtonEl =\n",
              "        document.querySelector('#' + key + ' button');\n",
              "      quickchartButtonEl.disabled = true;  // To prevent multiple clicks.\n",
              "      quickchartButtonEl.classList.add('colab-df-spinner');\n",
              "      try {\n",
              "        const charts = await google.colab.kernel.invokeFunction(\n",
              "            'suggestCharts', [key], {});\n",
              "      } catch (error) {\n",
              "        console.error('Error during call to suggestCharts:', error);\n",
              "      }\n",
              "      quickchartButtonEl.classList.remove('colab-df-spinner');\n",
              "      quickchartButtonEl.classList.add('colab-df-quickchart-complete');\n",
              "    }\n",
              "    (() => {\n",
              "      let quickchartButtonEl =\n",
              "        document.querySelector('#df-e430fa9a-2fc3-4cbf-8c5d-26149ab0faac button');\n",
              "      quickchartButtonEl.style.display =\n",
              "        google.colab.kernel.accessAllowed ? 'block' : 'none';\n",
              "    })();\n",
              "  </script>\n",
              "</div>\n",
              "    </div>\n",
              "  </div>\n"
            ],
            "text/plain": [
              "          id  age             diet      drinks  drugs  \\\n",
              "13618  15107   38         anything    socially  never   \n",
              "7745   39334   32         anything    socially  never   \n",
              "879    17672   35  mostly anything    socially  never   \n",
              "14983   7560   23  mostly anything    socially  never   \n",
              "21865   1434   36         anything    socially  never   \n",
              "...      ...  ...              ...         ...    ...   \n",
              "13542  21898   30     mostly other  not at all  never   \n",
              "4844   40829   31         anything    socially  never   \n",
              "14171  43516   38         anything    socially  never   \n",
              "18294  13478   26         anything    socially  never   \n",
              "21238   4292   47         anything    socially  never   \n",
              "\n",
              "                               education                ethnicity  height  \\\n",
              "13618     graduated from masters program                    other    71.0   \n",
              "7745   graduated from college/university  asian, hispanic / latin    66.0   \n",
              "879                   college/university                    white    77.0   \n",
              "14983  graduated from college/university                    white    72.0   \n",
              "21865            working on ph.d program                    white    72.0   \n",
              "...                                  ...                      ...     ...   \n",
              "13542  graduated from college/university                    white    74.0   \n",
              "4844   graduated from college/university                    white    68.0   \n",
              "14171  graduated from college/university                    white    63.0   \n",
              "18294     graduated from masters program                    white    71.0   \n",
              "21238  graduated from college/university                    white    71.0   \n",
              "\n",
              "       income                             job  \\\n",
              "13618      -1                           other   \n",
              "7745       -1            education / academia   \n",
              "879     80000  computer / hardware / software   \n",
              "14983   60000     artistic / musical / writer   \n",
              "21865      -1                             NaN   \n",
              "...       ...                             ...   \n",
              "13542      -1     artistic / musical / writer   \n",
              "4844       -1          executive / management   \n",
              "14171      -1       clerical / administrative   \n",
              "18294      -1    science / tech / engineering   \n",
              "21238      -1     artistic / musical / writer   \n",
              "\n",
              "                                     offspring orientation  \\\n",
              "13618                                      NaN    straight   \n",
              "7745                                       NaN    straight   \n",
              "879                    doesn&rsquo;t have kids    straight   \n",
              "14983                  doesn&rsquo;t have kids    straight   \n",
              "21865  doesn&rsquo;t have kids, but wants them    straight   \n",
              "...                                        ...         ...   \n",
              "13542                                      NaN         gay   \n",
              "4844                                       NaN         gay   \n",
              "14171                  doesn&rsquo;t have kids    straight   \n",
              "18294                                      NaN    straight   \n",
              "21238                  doesn&rsquo;t want kids    straight   \n",
              "\n",
              "                            pets                                   religion  \\\n",
              "13618                        NaN                                    judaism   \n",
              "7745                  likes dogs                               christianity   \n",
              "879                          NaN  agnosticism and somewhat serious about it   \n",
              "14983  likes dogs and likes cats        other and somewhat serious about it   \n",
              "21865  likes dogs and likes cats                                        NaN   \n",
              "...                          ...                                        ...   \n",
              "13542                 likes dogs                other and laughing about it   \n",
              "4844                    has dogs                                        NaN   \n",
              "14171  likes dogs and likes cats     christianity and very serious about it   \n",
              "18294  likes dogs and likes cats                                        NaN   \n",
              "21238                   has cats   agnosticism but not too serious about it   \n",
              "\n",
              "      sex                                           sign smokes  \\\n",
              "13618   m                                    sagittarius     no   \n",
              "7745    f    capricorn and it&rsquo;s fun to think about     no   \n",
              "879     m                                          libra    NaN   \n",
              "14983   m        sagittarius but it doesn&rsquo;t matter     no   \n",
              "21865   m  sagittarius and it&rsquo;s fun to think about     no   \n",
              "...    ..                                            ...    ...   \n",
              "13542   m                   scorpio and it matters a lot     no   \n",
              "4844    m              virgo but it doesn&rsquo;t matter     no   \n",
              "14171   f                                            NaN     no   \n",
              "18294   m                                            NaN     no   \n",
              "21238   m           aquarius but it doesn&rsquo;t matter     no   \n",
              "\n",
              "                                                  speaks          status  \n",
              "13618                                     english, farsi          single  \n",
              "7745   english (fluently), spanish (okay), japanese (...  seeing someone  \n",
              "879                                              english          single  \n",
              "14983                 english (fluently), czech (poorly)          single  \n",
              "21865                            english, spanish (okay)          single  \n",
              "...                                                  ...             ...  \n",
              "13542                                            english       available  \n",
              "4844                          english, portuguese (okay)          single  \n",
              "14171         english, french (poorly), turkish (poorly)          single  \n",
              "18294                                            english          single  \n",
              "21238                                            english          single  \n",
              "\n",
              "[8168 rows x 19 columns]"
            ]
          },
          "execution_count": 217,
          "metadata": {},
          "output_type": "execute_result"
        }
      ],
      "source": [
        "X_test"
      ]
    },
    {
      "cell_type": "code",
      "execution_count": null,
      "metadata": {
        "id": "-4NVV6axyo7d"
      },
      "outputs": [],
      "source": [
        "y_train = binary_encoder.fit_transform(y_train)\n",
        "y_test = binary_encoder.fit_transform(y_test)"
      ]
    },
    {
      "cell_type": "code",
      "execution_count": null,
      "metadata": {
        "colab": {
          "base_uri": "https://localhost:8080/"
        },
        "id": "2uM70AvYYupw",
        "outputId": "d42f2954-d638-4677-99f5-9a488782ccf0"
      },
      "outputs": [
        {
          "data": {
            "text/plain": [
              "array([[0],\n",
              "       [1],\n",
              "       [0],\n",
              "       ...,\n",
              "       [0],\n",
              "       [0],\n",
              "       [1]])"
            ]
          },
          "execution_count": 219,
          "metadata": {},
          "output_type": "execute_result"
        }
      ],
      "source": [
        "y_train"
      ]
    },
    {
      "cell_type": "code",
      "execution_count": null,
      "metadata": {
        "colab": {
          "base_uri": "https://localhost:8080/"
        },
        "id": "pczCe8q7Ym9g",
        "outputId": "cadedc00-3bb5-4bb6-d112-0cdf05bca78b"
      },
      "outputs": [
        {
          "data": {
            "text/plain": [
              "array([[0],\n",
              "       [1],\n",
              "       [0],\n",
              "       ...,\n",
              "       [0],\n",
              "       [0],\n",
              "       [1]])"
            ]
          },
          "execution_count": 220,
          "metadata": {},
          "output_type": "execute_result"
        }
      ],
      "source": [
        "y_train"
      ]
    },
    {
      "cell_type": "markdown",
      "metadata": {
        "id": "4T37xk2f1BNP"
      },
      "source": [
        "# Classifier"
      ]
    },
    {
      "cell_type": "code",
      "execution_count": null,
      "metadata": {
        "id": "_zPYR07X-aBb"
      },
      "outputs": [],
      "source": [
        "from xgboost import XGBClassifier\n",
        "from sklearn.linear_model import SGDClassifier\n",
        "\n",
        "classifier = XGBClassifier()"
      ]
    },
    {
      "cell_type": "markdown",
      "metadata": {
        "id": "-2wYTRUQ4jNX"
      },
      "source": [
        "# Model Experiment"
      ]
    },
    {
      "cell_type": "markdown",
      "metadata": {
        "id": "NSKyeU3M1SEO"
      },
      "source": [
        "## Model Pipeline #1 XGBClassifier"
      ]
    },
    {
      "cell_type": "markdown",
      "metadata": {
        "id": "wo1BIpqj2e_L"
      },
      "source": [
        "### Creating Pipeline"
      ]
    },
    {
      "cell_type": "code",
      "execution_count": null,
      "metadata": {
        "id": "tqk0g0Xf-JIN"
      },
      "outputs": [],
      "source": [
        "from sklearn.pipeline import make_pipeline\n",
        "\n",
        "pipe = make_pipeline(\n",
        "    fill_na_imputer,\n",
        "    preprocessor,\n",
        "    classifier\n",
        ")"
      ]
    },
    {
      "cell_type": "markdown",
      "metadata": {
        "id": "lTev0xol1b15"
      },
      "source": [
        "### CV Accuracy Mean"
      ]
    },
    {
      "cell_type": "code",
      "execution_count": null,
      "metadata": {
        "colab": {
          "base_uri": "https://localhost:8080/"
        },
        "id": "EOhAfyIx-v9J",
        "outputId": "6d0bca0a-3b4f-441e-87cc-d46bf93b1beb"
      },
      "outputs": [
        {
          "data": {
            "text/plain": [
              "0.5958419115076595"
            ]
          },
          "execution_count": 223,
          "metadata": {},
          "output_type": "execute_result"
        }
      ],
      "source": [
        "from sklearn.model_selection import cross_val_score\n",
        "\n",
        "cross_val_score(pipe, X, y_binary, cv=5, scoring='accuracy').mean()"
      ]
    },
    {
      "cell_type": "markdown",
      "metadata": {
        "id": "lzUJM33X1rHh"
      },
      "source": [
        "### Pipeline Fitting"
      ]
    },
    {
      "cell_type": "code",
      "execution_count": null,
      "metadata": {
        "colab": {
          "base_uri": "https://localhost:8080/"
        },
        "id": "r601jrnqETyc",
        "outputId": "004bf643-b506-40c6-91e6-366ed39f2496"
      },
      "outputs": [
        {
          "data": {
            "text/html": [
              "<style>#sk-container-id-15 {color: black;background-color: white;}#sk-container-id-15 pre{padding: 0;}#sk-container-id-15 div.sk-toggleable {background-color: white;}#sk-container-id-15 label.sk-toggleable__label {cursor: pointer;display: block;width: 100%;margin-bottom: 0;padding: 0.3em;box-sizing: border-box;text-align: center;}#sk-container-id-15 label.sk-toggleable__label-arrow:before {content: \"▸\";float: left;margin-right: 0.25em;color: #696969;}#sk-container-id-15 label.sk-toggleable__label-arrow:hover:before {color: black;}#sk-container-id-15 div.sk-estimator:hover label.sk-toggleable__label-arrow:before {color: black;}#sk-container-id-15 div.sk-toggleable__content {max-height: 0;max-width: 0;overflow: hidden;text-align: left;background-color: #f0f8ff;}#sk-container-id-15 div.sk-toggleable__content pre {margin: 0.2em;color: black;border-radius: 0.25em;background-color: #f0f8ff;}#sk-container-id-15 input.sk-toggleable__control:checked~div.sk-toggleable__content {max-height: 200px;max-width: 100%;overflow: auto;}#sk-container-id-15 input.sk-toggleable__control:checked~label.sk-toggleable__label-arrow:before {content: \"▾\";}#sk-container-id-15 div.sk-estimator input.sk-toggleable__control:checked~label.sk-toggleable__label {background-color: #d4ebff;}#sk-container-id-15 div.sk-label input.sk-toggleable__control:checked~label.sk-toggleable__label {background-color: #d4ebff;}#sk-container-id-15 input.sk-hidden--visually {border: 0;clip: rect(1px 1px 1px 1px);clip: rect(1px, 1px, 1px, 1px);height: 1px;margin: -1px;overflow: hidden;padding: 0;position: absolute;width: 1px;}#sk-container-id-15 div.sk-estimator {font-family: monospace;background-color: #f0f8ff;border: 1px dotted black;border-radius: 0.25em;box-sizing: border-box;margin-bottom: 0.5em;}#sk-container-id-15 div.sk-estimator:hover {background-color: #d4ebff;}#sk-container-id-15 div.sk-parallel-item::after {content: \"\";width: 100%;border-bottom: 1px solid gray;flex-grow: 1;}#sk-container-id-15 div.sk-label:hover label.sk-toggleable__label {background-color: #d4ebff;}#sk-container-id-15 div.sk-serial::before {content: \"\";position: absolute;border-left: 1px solid gray;box-sizing: border-box;top: 0;bottom: 0;left: 50%;z-index: 0;}#sk-container-id-15 div.sk-serial {display: flex;flex-direction: column;align-items: center;background-color: white;padding-right: 0.2em;padding-left: 0.2em;position: relative;}#sk-container-id-15 div.sk-item {position: relative;z-index: 1;}#sk-container-id-15 div.sk-parallel {display: flex;align-items: stretch;justify-content: center;background-color: white;position: relative;}#sk-container-id-15 div.sk-item::before, #sk-container-id-15 div.sk-parallel-item::before {content: \"\";position: absolute;border-left: 1px solid gray;box-sizing: border-box;top: 0;bottom: 0;left: 50%;z-index: -1;}#sk-container-id-15 div.sk-parallel-item {display: flex;flex-direction: column;z-index: 1;position: relative;background-color: white;}#sk-container-id-15 div.sk-parallel-item:first-child::after {align-self: flex-end;width: 50%;}#sk-container-id-15 div.sk-parallel-item:last-child::after {align-self: flex-start;width: 50%;}#sk-container-id-15 div.sk-parallel-item:only-child::after {width: 0;}#sk-container-id-15 div.sk-dashed-wrapped {border: 1px dashed gray;margin: 0 0.4em 0.5em 0.4em;box-sizing: border-box;padding-bottom: 0.4em;background-color: white;}#sk-container-id-15 div.sk-label label {font-family: monospace;font-weight: bold;display: inline-block;line-height: 1.2em;}#sk-container-id-15 div.sk-label-container {text-align: center;}#sk-container-id-15 div.sk-container {/* jupyter's `normalize.less` sets `[hidden] { display: none; }` but bootstrap.min.css set `[hidden] { display: none !important; }` so we also need the `!important` here to be able to override the default hidden behavior on the sphinx rendered scikit-learn.org. See: https://github.com/scikit-learn/scikit-learn/issues/21755 */display: inline-block !important;position: relative;}#sk-container-id-15 div.sk-text-repr-fallback {display: none;}</style><div id=\"sk-container-id-15\" class=\"sk-top-container\"><div class=\"sk-text-repr-fallback\"><pre>Pipeline(steps=[(&#x27;functiontransformer&#x27;,\n",
              "                 FunctionTransformer(func=&lt;function fill_missing_data at 0x7aaa5845b640&gt;)),\n",
              "                (&#x27;columntransformer&#x27;,\n",
              "                 ColumnTransformer(remainder=&#x27;passthrough&#x27;,\n",
              "                                   transformers=[(&#x27;onehotencoder&#x27;,\n",
              "                                                  OneHotEncoder(handle_unknown=&#x27;ignore&#x27;),\n",
              "                                                  [&#x27;diet&#x27;, &#x27;drinks&#x27;, &#x27;drugs&#x27;,\n",
              "                                                   &#x27;education&#x27;, &#x27;ethnicity&#x27;,\n",
              "                                                   &#x27;job&#x27;, &#x27;offspring&#x27;,\n",
              "                                                   &#x27;orientation&#x27;, &#x27;pets&#x27;,\n",
              "                                                   &#x27;religion&#x27;, &#x27;sex&#x27;, &#x27;s...\n",
              "                               feature_types=None, gamma=None, grow_policy=None,\n",
              "                               importance_type=None,\n",
              "                               interaction_constraints=None, learning_rate=None,\n",
              "                               max_bin=None, max_cat_threshold=None,\n",
              "                               max_cat_to_onehot=None, max_delta_step=None,\n",
              "                               max_depth=None, max_leaves=None,\n",
              "                               min_child_weight=None, missing=nan,\n",
              "                               monotone_constraints=None, multi_strategy=None,\n",
              "                               n_estimators=None, n_jobs=None,\n",
              "                               num_parallel_tree=None, random_state=None, ...))])</pre><b>In a Jupyter environment, please rerun this cell to show the HTML representation or trust the notebook. <br />On GitHub, the HTML representation is unable to render, please try loading this page with nbviewer.org.</b></div><div class=\"sk-container\" hidden><div class=\"sk-item sk-dashed-wrapped\"><div class=\"sk-label-container\"><div class=\"sk-label sk-toggleable\"><input class=\"sk-toggleable__control sk-hidden--visually\" id=\"sk-estimator-id-105\" type=\"checkbox\" ><label for=\"sk-estimator-id-105\" class=\"sk-toggleable__label sk-toggleable__label-arrow\">Pipeline</label><div class=\"sk-toggleable__content\"><pre>Pipeline(steps=[(&#x27;functiontransformer&#x27;,\n",
              "                 FunctionTransformer(func=&lt;function fill_missing_data at 0x7aaa5845b640&gt;)),\n",
              "                (&#x27;columntransformer&#x27;,\n",
              "                 ColumnTransformer(remainder=&#x27;passthrough&#x27;,\n",
              "                                   transformers=[(&#x27;onehotencoder&#x27;,\n",
              "                                                  OneHotEncoder(handle_unknown=&#x27;ignore&#x27;),\n",
              "                                                  [&#x27;diet&#x27;, &#x27;drinks&#x27;, &#x27;drugs&#x27;,\n",
              "                                                   &#x27;education&#x27;, &#x27;ethnicity&#x27;,\n",
              "                                                   &#x27;job&#x27;, &#x27;offspring&#x27;,\n",
              "                                                   &#x27;orientation&#x27;, &#x27;pets&#x27;,\n",
              "                                                   &#x27;religion&#x27;, &#x27;sex&#x27;, &#x27;s...\n",
              "                               feature_types=None, gamma=None, grow_policy=None,\n",
              "                               importance_type=None,\n",
              "                               interaction_constraints=None, learning_rate=None,\n",
              "                               max_bin=None, max_cat_threshold=None,\n",
              "                               max_cat_to_onehot=None, max_delta_step=None,\n",
              "                               max_depth=None, max_leaves=None,\n",
              "                               min_child_weight=None, missing=nan,\n",
              "                               monotone_constraints=None, multi_strategy=None,\n",
              "                               n_estimators=None, n_jobs=None,\n",
              "                               num_parallel_tree=None, random_state=None, ...))])</pre></div></div></div><div class=\"sk-serial\"><div class=\"sk-item\"><div class=\"sk-estimator sk-toggleable\"><input class=\"sk-toggleable__control sk-hidden--visually\" id=\"sk-estimator-id-106\" type=\"checkbox\" ><label for=\"sk-estimator-id-106\" class=\"sk-toggleable__label sk-toggleable__label-arrow\">FunctionTransformer</label><div class=\"sk-toggleable__content\"><pre>FunctionTransformer(func=&lt;function fill_missing_data at 0x7aaa5845b640&gt;)</pre></div></div></div><div class=\"sk-item sk-dashed-wrapped\"><div class=\"sk-label-container\"><div class=\"sk-label sk-toggleable\"><input class=\"sk-toggleable__control sk-hidden--visually\" id=\"sk-estimator-id-107\" type=\"checkbox\" ><label for=\"sk-estimator-id-107\" class=\"sk-toggleable__label sk-toggleable__label-arrow\">columntransformer: ColumnTransformer</label><div class=\"sk-toggleable__content\"><pre>ColumnTransformer(remainder=&#x27;passthrough&#x27;,\n",
              "                  transformers=[(&#x27;onehotencoder&#x27;,\n",
              "                                 OneHotEncoder(handle_unknown=&#x27;ignore&#x27;),\n",
              "                                 [&#x27;diet&#x27;, &#x27;drinks&#x27;, &#x27;drugs&#x27;, &#x27;education&#x27;,\n",
              "                                  &#x27;ethnicity&#x27;, &#x27;job&#x27;, &#x27;offspring&#x27;,\n",
              "                                  &#x27;orientation&#x27;, &#x27;pets&#x27;, &#x27;religion&#x27;, &#x27;sex&#x27;,\n",
              "                                  &#x27;sign&#x27;, &#x27;smokes&#x27;, &#x27;speaks&#x27;, &#x27;status&#x27;])])</pre></div></div></div><div class=\"sk-parallel\"><div class=\"sk-parallel-item\"><div class=\"sk-item\"><div class=\"sk-label-container\"><div class=\"sk-label sk-toggleable\"><input class=\"sk-toggleable__control sk-hidden--visually\" id=\"sk-estimator-id-108\" type=\"checkbox\" ><label for=\"sk-estimator-id-108\" class=\"sk-toggleable__label sk-toggleable__label-arrow\">onehotencoder</label><div class=\"sk-toggleable__content\"><pre>[&#x27;diet&#x27;, &#x27;drinks&#x27;, &#x27;drugs&#x27;, &#x27;education&#x27;, &#x27;ethnicity&#x27;, &#x27;job&#x27;, &#x27;offspring&#x27;, &#x27;orientation&#x27;, &#x27;pets&#x27;, &#x27;religion&#x27;, &#x27;sex&#x27;, &#x27;sign&#x27;, &#x27;smokes&#x27;, &#x27;speaks&#x27;, &#x27;status&#x27;]</pre></div></div></div><div class=\"sk-serial\"><div class=\"sk-item\"><div class=\"sk-estimator sk-toggleable\"><input class=\"sk-toggleable__control sk-hidden--visually\" id=\"sk-estimator-id-109\" type=\"checkbox\" ><label for=\"sk-estimator-id-109\" class=\"sk-toggleable__label sk-toggleable__label-arrow\">OneHotEncoder</label><div class=\"sk-toggleable__content\"><pre>OneHotEncoder(handle_unknown=&#x27;ignore&#x27;)</pre></div></div></div></div></div></div><div class=\"sk-parallel-item\"><div class=\"sk-item\"><div class=\"sk-label-container\"><div class=\"sk-label sk-toggleable\"><input class=\"sk-toggleable__control sk-hidden--visually\" id=\"sk-estimator-id-110\" type=\"checkbox\" ><label for=\"sk-estimator-id-110\" class=\"sk-toggleable__label sk-toggleable__label-arrow\">remainder</label><div class=\"sk-toggleable__content\"><pre>[&#x27;id&#x27;, &#x27;age&#x27;, &#x27;height&#x27;, &#x27;income&#x27;]</pre></div></div></div><div class=\"sk-serial\"><div class=\"sk-item\"><div class=\"sk-estimator sk-toggleable\"><input class=\"sk-toggleable__control sk-hidden--visually\" id=\"sk-estimator-id-111\" type=\"checkbox\" ><label for=\"sk-estimator-id-111\" class=\"sk-toggleable__label sk-toggleable__label-arrow\">passthrough</label><div class=\"sk-toggleable__content\"><pre>passthrough</pre></div></div></div></div></div></div></div></div><div class=\"sk-item\"><div class=\"sk-estimator sk-toggleable\"><input class=\"sk-toggleable__control sk-hidden--visually\" id=\"sk-estimator-id-112\" type=\"checkbox\" ><label for=\"sk-estimator-id-112\" class=\"sk-toggleable__label sk-toggleable__label-arrow\">XGBClassifier</label><div class=\"sk-toggleable__content\"><pre>XGBClassifier(base_score=None, booster=None, callbacks=None,\n",
              "              colsample_bylevel=None, colsample_bynode=None,\n",
              "              colsample_bytree=None, device=None, early_stopping_rounds=None,\n",
              "              enable_categorical=False, eval_metric=None, feature_types=None,\n",
              "              gamma=None, grow_policy=None, importance_type=None,\n",
              "              interaction_constraints=None, learning_rate=None, max_bin=None,\n",
              "              max_cat_threshold=None, max_cat_to_onehot=None,\n",
              "              max_delta_step=None, max_depth=None, max_leaves=None,\n",
              "              min_child_weight=None, missing=nan, monotone_constraints=None,\n",
              "              multi_strategy=None, n_estimators=None, n_jobs=None,\n",
              "              num_parallel_tree=None, random_state=None, ...)</pre></div></div></div></div></div></div></div>"
            ],
            "text/plain": [
              "Pipeline(steps=[('functiontransformer',\n",
              "                 FunctionTransformer(func=<function fill_missing_data at 0x7aaa5845b640>)),\n",
              "                ('columntransformer',\n",
              "                 ColumnTransformer(remainder='passthrough',\n",
              "                                   transformers=[('onehotencoder',\n",
              "                                                  OneHotEncoder(handle_unknown='ignore'),\n",
              "                                                  ['diet', 'drinks', 'drugs',\n",
              "                                                   'education', 'ethnicity',\n",
              "                                                   'job', 'offspring',\n",
              "                                                   'orientation', 'pets',\n",
              "                                                   'religion', 'sex', 's...\n",
              "                               feature_types=None, gamma=None, grow_policy=None,\n",
              "                               importance_type=None,\n",
              "                               interaction_constraints=None, learning_rate=None,\n",
              "                               max_bin=None, max_cat_threshold=None,\n",
              "                               max_cat_to_onehot=None, max_delta_step=None,\n",
              "                               max_depth=None, max_leaves=None,\n",
              "                               min_child_weight=None, missing=nan,\n",
              "                               monotone_constraints=None, multi_strategy=None,\n",
              "                               n_estimators=None, n_jobs=None,\n",
              "                               num_parallel_tree=None, random_state=None, ...))])"
            ]
          },
          "execution_count": 224,
          "metadata": {},
          "output_type": "execute_result"
        }
      ],
      "source": [
        "pipe.fit(X_train, y_train)"
      ]
    },
    {
      "cell_type": "markdown",
      "metadata": {
        "id": "xAUtUGeV2nm2"
      },
      "source": [
        "### Pipeline Prediction"
      ]
    },
    {
      "cell_type": "code",
      "execution_count": null,
      "metadata": {
        "id": "nBA1yLBOGvy1"
      },
      "outputs": [],
      "source": [
        "y_pred = pipe.predict(X_test)"
      ]
    },
    {
      "cell_type": "markdown",
      "metadata": {
        "id": "nYhc4_P11w2b"
      },
      "source": [
        "### Pipeline Accuracy"
      ]
    },
    {
      "cell_type": "code",
      "execution_count": null,
      "metadata": {
        "colab": {
          "base_uri": "https://localhost:8080/"
        },
        "id": "AdYCOusWFgvA",
        "outputId": "cbe57cf2-5965-4ecc-f62e-c3fae65664f9"
      },
      "outputs": [
        {
          "name": "stdout",
          "output_type": "stream",
          "text": [
            "Accuracy: 0.593046\n"
          ]
        }
      ],
      "source": [
        "from sklearn.metrics import accuracy_score\n",
        "\n",
        "accuracy = accuracy_score(y_test, y_pred)\n",
        "print(f\"Accuracy: {accuracy:.6f}\")"
      ]
    },
    {
      "cell_type": "code",
      "execution_count": null,
      "metadata": {
        "id": "evhcBSQqAIil"
      },
      "outputs": [],
      "source": [
        "df_pred = X_test[['id']].copy()\n",
        "df_pred['fit_body'] = y_pred\n",
        "df_pred['fit_body'] = df_pred['fit_body'].apply(lambda x: 'yes' if x > 0 else 'no')"
      ]
    },
    {
      "cell_type": "code",
      "execution_count": null,
      "metadata": {
        "id": "dSh5qZ_I4cf5"
      },
      "outputs": [],
      "source": [
        "from matplotlib import pyplot as plt\n",
        "import seaborn as sns"
      ]
    },
    {
      "cell_type": "code",
      "execution_count": null,
      "metadata": {
        "colab": {
          "base_uri": "https://localhost:8080/"
        },
        "id": "RlffNd0R4cf5",
        "outputId": "84024950-d702-4023-e42e-8066642f8f37"
      },
      "outputs": [
        {
          "data": {
            "text/plain": [
              "fit_body\n",
              "yes    5017\n",
              "no     3151\n",
              "Name: count, dtype: int64"
            ]
          },
          "execution_count": 229,
          "metadata": {},
          "output_type": "execute_result"
        }
      ],
      "source": [
        "# @title distribution of fit_body\n",
        "\n",
        "category_counts = df_pred['fit_body'].value_counts()\n",
        "category_counts"
      ]
    },
    {
      "cell_type": "code",
      "execution_count": null,
      "metadata": {
        "colab": {
          "base_uri": "https://localhost:8080/"
        },
        "id": "j1SL-Mo54cf5",
        "outputId": "29e7bfa9-856f-481a-d1e5-c07b365f30d9"
      },
      "outputs": [
        {
          "data": {
            "image/png": "[encoded data removed]",
            "text/plain": [
              "<Figure size 800x800 with 1 Axes>"
            ]
          },
          "metadata": {},
          "output_type": "display_data"
        }
      ],
      "source": [
        "# @title distribution of fit_body\n",
        "\n",
        "plt.figure(figsize=(8, 8))  # Set the figure size\n",
        "plt.pie(category_counts, labels=category_counts.index, autopct='%1.1f%%', startangle=140)\n",
        "plt.title('Distribution of Fit Body')  # Set the title of the pie chart\n",
        "plt.axis('equal')  # Equal aspect ratio ensures that pie is drawn as a circle\n",
        "plt.show()"
      ]
    },
    {
      "cell_type": "code",
      "execution_count": null,
      "metadata": {
        "colab": {
          "base_uri": "https://localhost:8080/"
        },
        "id": "VRytrwj54cf5",
        "outputId": "a5ac62c6-c85a-4a6e-e01a-ed2f2083d572"
      },
      "outputs": [
        {
          "data": {
            "image/png": "[encoded data removed]",
            "text/plain": [
              "<Figure size 640x480 with 1 Axes>"
            ]
          },
          "metadata": {},
          "output_type": "display_data"
        }
      ],
      "source": [
        "# @title fit_body\n",
        "df_pred.groupby('fit_body').size().plot(kind='barh', color=sns.palettes.mpl_palette('Dark2'))\n",
        "plt.gca().spines[['top', 'right',]].set_visible(False)"
      ]
    },
    {
      "cell_type": "markdown",
      "metadata": {
        "id": "WkJrhgi32rA9"
      },
      "source": [
        "## XGBClassifier Hypertuning using Random Search"
      ]
    },
    {
      "cell_type": "markdown",
      "metadata": {
        "id": "v-EChJMe3Apl"
      },
      "source": [
        "### Initialize Tuning Parameter"
      ]
    },
    {
      "cell_type": "code",
      "execution_count": null,
      "metadata": {
        "id": "2NzOwh7GJUll"
      },
      "outputs": [],
      "source": [
        "from sklearn.model_selection import RandomizedSearchCV\n",
        "from xgboost import XGBClassifier\n",
        "\n",
        "# Define the parameter grid for XGBoost\n",
        "param_grid = {\n",
        "    'xgbclassifier__n_estimators': [100, 200, 300],\n",
        "    'xgbclassifier__max_depth': [5, 7, 9, 11, 13],  # Expanded range for high-dimensional data\n",
        "    'xgbclassifier__learning_rate': [0.01, 0.1, 0.2],\n",
        "    'xgbclassifier__subsample': [0.7, 0.8, 0.9],\n",
        "    'xgbclassifier__colsample_bytree': [0.7, 0.8, 0.9],\n",
        "    'xgbclassifier__reg_alpha': [0, 0.1, 0.5],\n",
        "    'xgbclassifier__reg_lambda': [0, 0.1, 1],\n",
        "    'xgbclassifier__min_child_weight': [1, 3, 5, 7, 10, 15, 20],  # Expanded range for high-dimensional data\n",
        "    'xgbclassifier__gamma': [0.0, 0.1, 0.2, 0.3, 0.4]\n",
        "}\n"
      ]
    },
    {
      "cell_type": "markdown",
      "metadata": {
        "id": "AYeosVPf3EAt"
      },
      "source": [
        "### Create Random Search with 10 iteration"
      ]
    },
    {
      "cell_type": "code",
      "execution_count": null,
      "metadata": {
        "id": "Xgcn0iQq2Hml"
      },
      "outputs": [],
      "source": [
        "# Create RandomizedSearchCV object\n",
        "random_search = RandomizedSearchCV(\n",
        "    estimator=pipe,\n",
        "    param_distributions=param_grid,\n",
        "    n_iter=25,\n",
        "    scoring='accuracy',\n",
        "    cv=10,\n",
        "    verbose=1,\n",
        "    n_jobs=-1\n",
        ")"
      ]
    },
    {
      "cell_type": "markdown",
      "metadata": {
        "id": "bJo_Plii3IPL"
      },
      "source": [
        "### Random Search Fit"
      ]
    },
    {
      "cell_type": "code",
      "execution_count": null,
      "metadata": {
        "colab": {
          "background_save": true,
          "base_uri": "https://localhost:8080/",
          "height": 268
        },
        "id": "JYpx6et22Ik_",
        "outputId": "a618fa83-50aa-468a-d473-b588442b8094"
      },
      "outputs": [
        {
          "name": "stdout",
          "output_type": "stream",
          "text": [
            "Fitting 10 folds for each of 25 candidates, totalling 250 fits\n"
          ]
        },
        {
          "data": {
            "text/html": [
              "<style>#sk-container-id-16 {color: black;background-color: white;}#sk-container-id-16 pre{padding: 0;}#sk-container-id-16 div.sk-toggleable {background-color: white;}#sk-container-id-16 label.sk-toggleable__label {cursor: pointer;display: block;width: 100%;margin-bottom: 0;padding: 0.3em;box-sizing: border-box;text-align: center;}#sk-container-id-16 label.sk-toggleable__label-arrow:before {content: \"▸\";float: left;margin-right: 0.25em;color: #696969;}#sk-container-id-16 label.sk-toggleable__label-arrow:hover:before {color: black;}#sk-container-id-16 div.sk-estimator:hover label.sk-toggleable__label-arrow:before {color: black;}#sk-container-id-16 div.sk-toggleable__content {max-height: 0;max-width: 0;overflow: hidden;text-align: left;background-color: #f0f8ff;}#sk-container-id-16 div.sk-toggleable__content pre {margin: 0.2em;color: black;border-radius: 0.25em;background-color: #f0f8ff;}#sk-container-id-16 input.sk-toggleable__control:checked~div.sk-toggleable__content {max-height: 200px;max-width: 100%;overflow: auto;}#sk-container-id-16 input.sk-toggleable__control:checked~label.sk-toggleable__label-arrow:before {content: \"▾\";}#sk-container-id-16 div.sk-estimator input.sk-toggleable__control:checked~label.sk-toggleable__label {background-color: #d4ebff;}#sk-container-id-16 div.sk-label input.sk-toggleable__control:checked~label.sk-toggleable__label {background-color: #d4ebff;}#sk-container-id-16 input.sk-hidden--visually {border: 0;clip: rect(1px 1px 1px 1px);clip: rect(1px, 1px, 1px, 1px);height: 1px;margin: -1px;overflow: hidden;padding: 0;position: absolute;width: 1px;}#sk-container-id-16 div.sk-estimator {font-family: monospace;background-color: #f0f8ff;border: 1px dotted black;border-radius: 0.25em;box-sizing: border-box;margin-bottom: 0.5em;}#sk-container-id-16 div.sk-estimator:hover {background-color: #d4ebff;}#sk-container-id-16 div.sk-parallel-item::after {content: \"\";width: 100%;border-bottom: 1px solid gray;flex-grow: 1;}#sk-container-id-16 div.sk-label:hover label.sk-toggleable__label {background-color: #d4ebff;}#sk-container-id-16 div.sk-serial::before {content: \"\";position: absolute;border-left: 1px solid gray;box-sizing: border-box;top: 0;bottom: 0;left: 50%;z-index: 0;}#sk-container-id-16 div.sk-serial {display: flex;flex-direction: column;align-items: center;background-color: white;padding-right: 0.2em;padding-left: 0.2em;position: relative;}#sk-container-id-16 div.sk-item {position: relative;z-index: 1;}#sk-container-id-16 div.sk-parallel {display: flex;align-items: stretch;justify-content: center;background-color: white;position: relative;}#sk-container-id-16 div.sk-item::before, #sk-container-id-16 div.sk-parallel-item::before {content: \"\";position: absolute;border-left: 1px solid gray;box-sizing: border-box;top: 0;bottom: 0;left: 50%;z-index: -1;}#sk-container-id-16 div.sk-parallel-item {display: flex;flex-direction: column;z-index: 1;position: relative;background-color: white;}#sk-container-id-16 div.sk-parallel-item:first-child::after {align-self: flex-end;width: 50%;}#sk-container-id-16 div.sk-parallel-item:last-child::after {align-self: flex-start;width: 50%;}#sk-container-id-16 div.sk-parallel-item:only-child::after {width: 0;}#sk-container-id-16 div.sk-dashed-wrapped {border: 1px dashed gray;margin: 0 0.4em 0.5em 0.4em;box-sizing: border-box;padding-bottom: 0.4em;background-color: white;}#sk-container-id-16 div.sk-label label {font-family: monospace;font-weight: bold;display: inline-block;line-height: 1.2em;}#sk-container-id-16 div.sk-label-container {text-align: center;}#sk-container-id-16 div.sk-container {/* jupyter's `normalize.less` sets `[hidden] { display: none; }` but bootstrap.min.css set `[hidden] { display: none !important; }` so we also need the `!important` here to be able to override the default hidden behavior on the sphinx rendered scikit-learn.org. See: https://github.com/scikit-learn/scikit-learn/issues/21755 */display: inline-block !important;position: relative;}#sk-container-id-16 div.sk-text-repr-fallback {display: none;}</style><div id=\"sk-container-id-16\" class=\"sk-top-container\"><div class=\"sk-text-repr-fallback\"><pre>RandomizedSearchCV(cv=10,\n",
              "                   estimator=Pipeline(steps=[(&#x27;functiontransformer&#x27;,\n",
              "                                              FunctionTransformer(func=&lt;function fill_missing_data at 0x7aaa5845b640&gt;)),\n",
              "                                             (&#x27;columntransformer&#x27;,\n",
              "                                              ColumnTransformer(remainder=&#x27;passthrough&#x27;,\n",
              "                                                                transformers=[(&#x27;onehotencoder&#x27;,\n",
              "                                                                               OneHotEncoder(handle_unknown=&#x27;ignore&#x27;),\n",
              "                                                                               [&#x27;diet&#x27;,\n",
              "                                                                                &#x27;drinks&#x27;,\n",
              "                                                                                &#x27;drugs&#x27;,\n",
              "                                                                                &#x27;education&#x27;,\n",
              "                                                                                &#x27;ethnicity&#x27;,\n",
              "                                                                                &#x27;job&#x27;,\n",
              "                                                                                &#x27;offspring&#x27;,\n",
              "                                                                                &#x27;orie...\n",
              "                                        &#x27;xgbclassifier__gamma&#x27;: [0.0, 0.1, 0.2,\n",
              "                                                                 0.3, 0.4],\n",
              "                                        &#x27;xgbclassifier__learning_rate&#x27;: [0.01,\n",
              "                                                                         0.1,\n",
              "                                                                         0.2],\n",
              "                                        &#x27;xgbclassifier__max_depth&#x27;: [5, 7, 9,\n",
              "                                                                     11, 13],\n",
              "                                        &#x27;xgbclassifier__min_child_weight&#x27;: [1,\n",
              "                                                                            3,\n",
              "                                                                            5,\n",
              "                                                                            7,\n",
              "                                                                            10,\n",
              "                                                                            15,\n",
              "                                                                            20],\n",
              "                                        &#x27;xgbclassifier__n_estimators&#x27;: [100,\n",
              "                                                                        200,\n",
              "                                                                        300],\n",
              "                                        &#x27;xgbclassifier__reg_alpha&#x27;: [0, 0.1,\n",
              "                                                                     0.5],\n",
              "                                        &#x27;xgbclassifier__reg_lambda&#x27;: [0, 0.1,\n",
              "                                                                      1],\n",
              "                                        &#x27;xgbclassifier__subsample&#x27;: [0.7, 0.8,\n",
              "                                                                     0.9]},\n",
              "                   scoring=&#x27;accuracy&#x27;, verbose=1)</pre><b>In a Jupyter environment, please rerun this cell to show the HTML representation or trust the notebook. <br />On GitHub, the HTML representation is unable to render, please try loading this page with nbviewer.org.</b></div><div class=\"sk-container\" hidden><div class=\"sk-item sk-dashed-wrapped\"><div class=\"sk-label-container\"><div class=\"sk-label sk-toggleable\"><input class=\"sk-toggleable__control sk-hidden--visually\" id=\"sk-estimator-id-113\" type=\"checkbox\" ><label for=\"sk-estimator-id-113\" class=\"sk-toggleable__label sk-toggleable__label-arrow\">RandomizedSearchCV</label><div class=\"sk-toggleable__content\"><pre>RandomizedSearchCV(cv=10,\n",
              "                   estimator=Pipeline(steps=[(&#x27;functiontransformer&#x27;,\n",
              "                                              FunctionTransformer(func=&lt;function fill_missing_data at 0x7aaa5845b640&gt;)),\n",
              "                                             (&#x27;columntransformer&#x27;,\n",
              "                                              ColumnTransformer(remainder=&#x27;passthrough&#x27;,\n",
              "                                                                transformers=[(&#x27;onehotencoder&#x27;,\n",
              "                                                                               OneHotEncoder(handle_unknown=&#x27;ignore&#x27;),\n",
              "                                                                               [&#x27;diet&#x27;,\n",
              "                                                                                &#x27;drinks&#x27;,\n",
              "                                                                                &#x27;drugs&#x27;,\n",
              "                                                                                &#x27;education&#x27;,\n",
              "                                                                                &#x27;ethnicity&#x27;,\n",
              "                                                                                &#x27;job&#x27;,\n",
              "                                                                                &#x27;offspring&#x27;,\n",
              "                                                                                &#x27;orie...\n",
              "                                        &#x27;xgbclassifier__gamma&#x27;: [0.0, 0.1, 0.2,\n",
              "                                                                 0.3, 0.4],\n",
              "                                        &#x27;xgbclassifier__learning_rate&#x27;: [0.01,\n",
              "                                                                         0.1,\n",
              "                                                                         0.2],\n",
              "                                        &#x27;xgbclassifier__max_depth&#x27;: [5, 7, 9,\n",
              "                                                                     11, 13],\n",
              "                                        &#x27;xgbclassifier__min_child_weight&#x27;: [1,\n",
              "                                                                            3,\n",
              "                                                                            5,\n",
              "                                                                            7,\n",
              "                                                                            10,\n",
              "                                                                            15,\n",
              "                                                                            20],\n",
              "                                        &#x27;xgbclassifier__n_estimators&#x27;: [100,\n",
              "                                                                        200,\n",
              "                                                                        300],\n",
              "                                        &#x27;xgbclassifier__reg_alpha&#x27;: [0, 0.1,\n",
              "                                                                     0.5],\n",
              "                                        &#x27;xgbclassifier__reg_lambda&#x27;: [0, 0.1,\n",
              "                                                                      1],\n",
              "                                        &#x27;xgbclassifier__subsample&#x27;: [0.7, 0.8,\n",
              "                                                                     0.9]},\n",
              "                   scoring=&#x27;accuracy&#x27;, verbose=1)</pre></div></div></div><div class=\"sk-parallel\"><div class=\"sk-parallel-item\"><div class=\"sk-item\"><div class=\"sk-label-container\"><div class=\"sk-label sk-toggleable\"><input class=\"sk-toggleable__control sk-hidden--visually\" id=\"sk-estimator-id-114\" type=\"checkbox\" ><label for=\"sk-estimator-id-114\" class=\"sk-toggleable__label sk-toggleable__label-arrow\">estimator: Pipeline</label><div class=\"sk-toggleable__content\"><pre>Pipeline(steps=[(&#x27;functiontransformer&#x27;,\n",
              "                 FunctionTransformer(func=&lt;function fill_missing_data at 0x7aaa5845b640&gt;)),\n",
              "                (&#x27;columntransformer&#x27;,\n",
              "                 ColumnTransformer(remainder=&#x27;passthrough&#x27;,\n",
              "                                   transformers=[(&#x27;onehotencoder&#x27;,\n",
              "                                                  OneHotEncoder(handle_unknown=&#x27;ignore&#x27;),\n",
              "                                                  [&#x27;diet&#x27;, &#x27;drinks&#x27;, &#x27;drugs&#x27;,\n",
              "                                                   &#x27;education&#x27;, &#x27;ethnicity&#x27;,\n",
              "                                                   &#x27;job&#x27;, &#x27;offspring&#x27;,\n",
              "                                                   &#x27;orientation&#x27;, &#x27;pets&#x27;,\n",
              "                                                   &#x27;religion&#x27;, &#x27;sex&#x27;, &#x27;s...\n",
              "                               feature_types=None, gamma=None, grow_policy=None,\n",
              "                               importance_type=None,\n",
              "                               interaction_constraints=None, learning_rate=None,\n",
              "                               max_bin=None, max_cat_threshold=None,\n",
              "                               max_cat_to_onehot=None, max_delta_step=None,\n",
              "                               max_depth=None, max_leaves=None,\n",
              "                               min_child_weight=None, missing=nan,\n",
              "                               monotone_constraints=None, multi_strategy=None,\n",
              "                               n_estimators=None, n_jobs=None,\n",
              "                               num_parallel_tree=None, random_state=None, ...))])</pre></div></div></div><div class=\"sk-serial\"><div class=\"sk-item\"><div class=\"sk-serial\"><div class=\"sk-item\"><div class=\"sk-estimator sk-toggleable\"><input class=\"sk-toggleable__control sk-hidden--visually\" id=\"sk-estimator-id-115\" type=\"checkbox\" ><label for=\"sk-estimator-id-115\" class=\"sk-toggleable__label sk-toggleable__label-arrow\">FunctionTransformer</label><div class=\"sk-toggleable__content\"><pre>FunctionTransformer(func=&lt;function fill_missing_data at 0x7aaa5845b640&gt;)</pre></div></div></div><div class=\"sk-item sk-dashed-wrapped\"><div class=\"sk-label-container\"><div class=\"sk-label sk-toggleable\"><input class=\"sk-toggleable__control sk-hidden--visually\" id=\"sk-estimator-id-116\" type=\"checkbox\" ><label for=\"sk-estimator-id-116\" class=\"sk-toggleable__label sk-toggleable__label-arrow\">columntransformer: ColumnTransformer</label><div class=\"sk-toggleable__content\"><pre>ColumnTransformer(remainder=&#x27;passthrough&#x27;,\n",
              "                  transformers=[(&#x27;onehotencoder&#x27;,\n",
              "                                 OneHotEncoder(handle_unknown=&#x27;ignore&#x27;),\n",
              "                                 [&#x27;diet&#x27;, &#x27;drinks&#x27;, &#x27;drugs&#x27;, &#x27;education&#x27;,\n",
              "                                  &#x27;ethnicity&#x27;, &#x27;job&#x27;, &#x27;offspring&#x27;,\n",
              "                                  &#x27;orientation&#x27;, &#x27;pets&#x27;, &#x27;religion&#x27;, &#x27;sex&#x27;,\n",
              "                                  &#x27;sign&#x27;, &#x27;smokes&#x27;, &#x27;speaks&#x27;, &#x27;status&#x27;])])</pre></div></div></div><div class=\"sk-parallel\"><div class=\"sk-parallel-item\"><div class=\"sk-item\"><div class=\"sk-label-container\"><div class=\"sk-label sk-toggleable\"><input class=\"sk-toggleable__control sk-hidden--visually\" id=\"sk-estimator-id-117\" type=\"checkbox\" ><label for=\"sk-estimator-id-117\" class=\"sk-toggleable__label sk-toggleable__label-arrow\">onehotencoder</label><div class=\"sk-toggleable__content\"><pre>[&#x27;diet&#x27;, &#x27;drinks&#x27;, &#x27;drugs&#x27;, &#x27;education&#x27;, &#x27;ethnicity&#x27;, &#x27;job&#x27;, &#x27;offspring&#x27;, &#x27;orientation&#x27;, &#x27;pets&#x27;, &#x27;religion&#x27;, &#x27;sex&#x27;, &#x27;sign&#x27;, &#x27;smokes&#x27;, &#x27;speaks&#x27;, &#x27;status&#x27;]</pre></div></div></div><div class=\"sk-serial\"><div class=\"sk-item\"><div class=\"sk-estimator sk-toggleable\"><input class=\"sk-toggleable__control sk-hidden--visually\" id=\"sk-estimator-id-118\" type=\"checkbox\" ><label for=\"sk-estimator-id-118\" class=\"sk-toggleable__label sk-toggleable__label-arrow\">OneHotEncoder</label><div class=\"sk-toggleable__content\"><pre>OneHotEncoder(handle_unknown=&#x27;ignore&#x27;)</pre></div></div></div></div></div></div><div class=\"sk-parallel-item\"><div class=\"sk-item\"><div class=\"sk-label-container\"><div class=\"sk-label sk-toggleable\"><input class=\"sk-toggleable__control sk-hidden--visually\" id=\"sk-estimator-id-119\" type=\"checkbox\" ><label for=\"sk-estimator-id-119\" class=\"sk-toggleable__label sk-toggleable__label-arrow\">remainder</label><div class=\"sk-toggleable__content\"><pre>[&#x27;id&#x27;, &#x27;age&#x27;, &#x27;height&#x27;, &#x27;income&#x27;]</pre></div></div></div><div class=\"sk-serial\"><div class=\"sk-item\"><div class=\"sk-estimator sk-toggleable\"><input class=\"sk-toggleable__control sk-hidden--visually\" id=\"sk-estimator-id-120\" type=\"checkbox\" ><label for=\"sk-estimator-id-120\" class=\"sk-toggleable__label sk-toggleable__label-arrow\">passthrough</label><div class=\"sk-toggleable__content\"><pre>passthrough</pre></div></div></div></div></div></div></div></div><div class=\"sk-item\"><div class=\"sk-estimator sk-toggleable\"><input class=\"sk-toggleable__control sk-hidden--visually\" id=\"sk-estimator-id-121\" type=\"checkbox\" ><label for=\"sk-estimator-id-121\" class=\"sk-toggleable__label sk-toggleable__label-arrow\">XGBClassifier</label><div class=\"sk-toggleable__content\"><pre>XGBClassifier(base_score=None, booster=None, callbacks=None,\n",
              "              colsample_bylevel=None, colsample_bynode=None,\n",
              "              colsample_bytree=None, device=None, early_stopping_rounds=None,\n",
              "              enable_categorical=False, eval_metric=None, feature_types=None,\n",
              "              gamma=None, grow_policy=None, importance_type=None,\n",
              "              interaction_constraints=None, learning_rate=None, max_bin=None,\n",
              "              max_cat_threshold=None, max_cat_to_onehot=None,\n",
              "              max_delta_step=None, max_depth=None, max_leaves=None,\n",
              "              min_child_weight=None, missing=nan, monotone_constraints=None,\n",
              "              multi_strategy=None, n_estimators=None, n_jobs=None,\n",
              "              num_parallel_tree=None, random_state=None, ...)</pre></div></div></div></div></div></div></div></div></div></div></div></div>"
            ],
            "text/plain": [
              "RandomizedSearchCV(cv=10,\n",
              "                   estimator=Pipeline(steps=[('functiontransformer',\n",
              "                                              FunctionTransformer(func=<function fill_missing_data at 0x7aaa5845b640>)),\n",
              "                                             ('columntransformer',\n",
              "                                              ColumnTransformer(remainder='passthrough',\n",
              "                                                                transformers=[('onehotencoder',\n",
              "                                                                               OneHotEncoder(handle_unknown='ignore'),\n",
              "                                                                               ['diet',\n",
              "                                                                                'drinks',\n",
              "                                                                                'drugs',\n",
              "                                                                                'education',\n",
              "                                                                                'ethnicity',\n",
              "                                                                                'job',\n",
              "                                                                                'offspring',\n",
              "                                                                                'orie...\n",
              "                                        'xgbclassifier__gamma': [0.0, 0.1, 0.2,\n",
              "                                                                 0.3, 0.4],\n",
              "                                        'xgbclassifier__learning_rate': [0.01,\n",
              "                                                                         0.1,\n",
              "                                                                         0.2],\n",
              "                                        'xgbclassifier__max_depth': [5, 7, 9,\n",
              "                                                                     11, 13],\n",
              "                                        'xgbclassifier__min_child_weight': [1,\n",
              "                                                                            3,\n",
              "                                                                            5,\n",
              "                                                                            7,\n",
              "                                                                            10,\n",
              "                                                                            15,\n",
              "                                                                            20],\n",
              "                                        'xgbclassifier__n_estimators': [100,\n",
              "                                                                        200,\n",
              "                                                                        300],\n",
              "                                        'xgbclassifier__reg_alpha': [0, 0.1,\n",
              "                                                                     0.5],\n",
              "                                        'xgbclassifier__reg_lambda': [0, 0.1,\n",
              "                                                                      1],\n",
              "                                        'xgbclassifier__subsample': [0.7, 0.8,\n",
              "                                                                     0.9]},\n",
              "                   scoring='accuracy', verbose=1)"
            ]
          },
          "execution_count": 234,
          "metadata": {},
          "output_type": "execute_result"
        }
      ],
      "source": [
        "# Fit the RandomizedSearchCV object on your training data\n",
        "random_search.fit(X_train, y_train)"
      ]
    },
    {
      "cell_type": "markdown",
      "metadata": {
        "id": "mfD1I5-Y3MJh"
      },
      "source": [
        "### Result of Random Search"
      ]
    },
    {
      "cell_type": "code",
      "execution_count": null,
      "metadata": {
        "colab": {
          "background_save": true,
          "base_uri": "https://localhost:8080/"
        },
        "id": "woYDhD9Y2Jr8",
        "outputId": "a2b6124a-6377-4c7a-9e30-37b510db99c3"
      },
      "outputs": [
        {
          "name": "stdout",
          "output_type": "stream",
          "text": [
            "Best Parameters: {'xgbclassifier__subsample': 0.7, 'xgbclassifier__reg_lambda': 0, 'xgbclassifier__reg_alpha': 0.1, 'xgbclassifier__n_estimators': 200, 'xgbclassifier__min_child_weight': 20, 'xgbclassifier__max_depth': 5, 'xgbclassifier__learning_rate': 0.1, 'xgbclassifier__gamma': 0.0, 'xgbclassifier__colsample_bytree': 0.7}\n",
            "Best Score: 0.6042546678910314\n",
            "Test Accuracy: 0.6059010773751224\n"
          ]
        }
      ],
      "source": [
        "# Print the best parameters and best score\n",
        "print(\"Best Parameters:\", random_search.best_params_)\n",
        "print(\"Best Score:\", random_search.best_score_)\n",
        "\n",
        "# Evaluate the best model on the test set\n",
        "best_model = random_search.best_estimator_\n",
        "test_accuracy = best_model.score(X_test, y_test)\n",
        "print(\"Test Accuracy:\", test_accuracy)"
      ]
    },
    {
      "cell_type": "markdown",
      "metadata": {
        "id": "vyk-tqxwFiCK"
      },
      "source": [
        "Best Parameters: {'xgbclassifier__subsample': 0.9, 'xgbclassifier__reg_lambda': 0.1, 'xgbclassifier__reg_alpha': 0.5, 'xgbclassifier__n_estimators': 200, 'xgbclassifier__max_depth': 3, 'xgbclassifier__learning_rate': 0.2, 'xgbclassifier__colsample_bytree': 0.9}\n",
        "Best Score: 0.6017265324408678\n",
        "Test Accuracy: 0.6003917727717923"
      ]
    },
    {
      "cell_type": "markdown",
      "metadata": {
        "id": "zt4T-Z7w-w2Y"
      },
      "source": [
        "Best Parameters: {'xgbclassifier__subsample': 0.7, 'xgbclassifier__reg_lambda': 1, 'xgbclassifier__reg_alpha': 0.1, 'xgbclassifier__n_estimators': 200, 'xgbclassifier__min_child_weight': 5, 'xgbclassifier__max_depth': 5, 'xgbclassifier__learning_rate': 0.1, 'xgbclassifier__gamma': 0.2, 'xgbclassifier__colsample_bytree': 0.9}\n",
        "Best Score: 0.602308026123843\n",
        "Test Accuracy: 0.6034524975514202"
      ]
    },
    {
      "cell_type": "markdown",
      "metadata": {
        "id": "dborpPbMAqlm"
      },
      "source": [
        "Best Parameters: {'xgbclassifier__subsample': 0.8, 'xgbclassifier__reg_lambda': 1, 'xgbclassifier__reg_alpha': 0.5, 'xgbclassifier__n_estimators': 200, 'xgbclassifier__min_child_weight': 5, 'xgbclassifier__max_depth': 3, 'xgbclassifier__learning_rate': 0.2, 'xgbclassifier__gamma': 0.0, 'xgbclassifier__colsample_bytree': 0.9}\n",
        "Best Score: 0.6029996939087849\n",
        "Test Accuracy: 0.6047992164544564"
      ]
    },
    {
      "cell_type": "code",
      "execution_count": null,
      "metadata": {
        "colab": {
          "background_save": true,
          "base_uri": "https://localhost:8080/",
          "height": 981
        },
        "id": "j5xN9JNh4C93",
        "outputId": "e7218704-98b7-4d3c-87d7-9d95ee933fbc"
      },
      "outputs": [
        {
          "data": {
            "application/vnd.google.colaboratory.intrinsic+json": {
              "summary": "{\n  \"name\": \"df_test\",\n  \"rows\": 13613,\n  \"fields\": [\n    {\n      \"column\": \"id\",\n      \"properties\": {\n        \"dtype\": \"number\",\n        \"std\": 15759,\n        \"min\": 1,\n        \"max\": 54451,\n        \"num_unique_values\": 13613,\n        \"samples\": [\n          5479,\n          43772,\n          49735\n        ],\n        \"semantic_type\": \"\",\n        \"description\": \"\"\n      }\n    },\n    {\n      \"column\": \"age\",\n      \"properties\": {\n        \"dtype\": \"number\",\n        \"std\": 9,\n        \"min\": 17,\n        \"max\": 109,\n        \"num_unique_values\": 55,\n        \"samples\": [\n          58,\n          54,\n          52\n        ],\n        \"semantic_type\": \"\",\n        \"description\": \"\"\n      }\n    },\n    {\n      \"column\": \"diet\",\n      \"properties\": {\n        \"dtype\": \"category\",\n        \"num_unique_values\": 18,\n        \"samples\": [\n          \"mostly anything\",\n          \"strictly anything\",\n          \"vegetarian\"\n        ],\n        \"semantic_type\": \"\",\n        \"description\": \"\"\n      }\n    },\n    {\n      \"column\": \"drinks\",\n      \"properties\": {\n        \"dtype\": \"category\",\n        \"num_unique_values\": 6,\n        \"samples\": [\n          \"socially\",\n          \"often\",\n          \"desperately\"\n        ],\n        \"semantic_type\": \"\",\n        \"description\": \"\"\n      }\n    },\n    {\n      \"column\": \"drugs\",\n      \"properties\": {\n        \"dtype\": \"category\",\n        \"num_unique_values\": 3,\n        \"samples\": [\n          \"never\",\n          \"sometimes\",\n          \"often\"\n        ],\n        \"semantic_type\": \"\",\n        \"description\": \"\"\n      }\n    },\n    {\n      \"column\": \"education\",\n      \"properties\": {\n        \"dtype\": \"category\",\n        \"num_unique_values\": 32,\n        \"samples\": [\n          \"space camp\",\n          \"dropped out of college/university\",\n          \"masters program\"\n        ],\n        \"semantic_type\": \"\",\n        \"description\": \"\"\n      }\n    },\n    {\n      \"column\": \"ethnicity\",\n      \"properties\": {\n        \"dtype\": \"category\",\n        \"num_unique_values\": 137,\n        \"samples\": [\n          \"native american, pacific islander, white, other\",\n          \"asian, middle eastern\",\n          \"asian, other\"\n        ],\n        \"semantic_type\": \"\",\n        \"description\": \"\"\n      }\n    },\n    {\n      \"column\": \"height\",\n      \"properties\": {\n        \"dtype\": \"number\",\n        \"std\": 3.9946629536962157,\n        \"min\": 6.0,\n        \"max\": 95.0,\n        \"num_unique_values\": 38,\n        \"samples\": [\n          80.0,\n          88.0,\n          68.0\n        ],\n        \"semantic_type\": \"\",\n        \"description\": \"\"\n      }\n    },\n    {\n      \"column\": \"income\",\n      \"properties\": {\n        \"dtype\": \"number\",\n        \"std\": 99866,\n        \"min\": -1,\n        \"max\": 1000000,\n        \"num_unique_values\": 13,\n        \"samples\": [\n          70000,\n          40000,\n          -1\n        ],\n        \"semantic_type\": \"\",\n        \"description\": \"\"\n      }\n    },\n    {\n      \"column\": \"job\",\n      \"properties\": {\n        \"dtype\": \"category\",\n        \"num_unique_values\": 21,\n        \"samples\": [\n          \"computer / hardware / software\",\n          \"clerical / administrative\",\n          \"rather not say\"\n        ],\n        \"semantic_type\": \"\",\n        \"description\": \"\"\n      }\n    },\n    {\n      \"column\": \"offspring\",\n      \"properties\": {\n        \"dtype\": \"category\",\n        \"num_unique_values\": 15,\n        \"samples\": [\n          \"has kids, and wants more\",\n          \"doesn&rsquo;t have kids, and doesn&rsquo;t want any\",\n          \"doesn&rsquo;t have kids, but might want them\"\n        ],\n        \"semantic_type\": \"\",\n        \"description\": \"\"\n      }\n    },\n    {\n      \"column\": \"orientation\",\n      \"properties\": {\n        \"dtype\": \"category\",\n        \"num_unique_values\": 3,\n        \"samples\": [\n          \"straight\",\n          \"gay\",\n          \"bisexual\"\n        ],\n        \"semantic_type\": \"\",\n        \"description\": \"\"\n      }\n    },\n    {\n      \"column\": \"pets\",\n      \"properties\": {\n        \"dtype\": \"category\",\n        \"num_unique_values\": 15,\n        \"samples\": [\n          \"dislikes dogs and dislikes cats\",\n          \"dislikes dogs and has cats\",\n          \"has cats\"\n        ],\n        \"semantic_type\": \"\",\n        \"description\": \"\"\n      }\n    },\n    {\n      \"column\": \"religion\",\n      \"properties\": {\n        \"dtype\": \"category\",\n        \"num_unique_values\": 45,\n        \"samples\": [\n          \"islam but not too serious about it\",\n          \"catholicism and somewhat serious about it\",\n          \"hinduism and laughing about it\"\n        ],\n        \"semantic_type\": \"\",\n        \"description\": \"\"\n      }\n    },\n    {\n      \"column\": \"sex\",\n      \"properties\": {\n        \"dtype\": \"category\",\n        \"num_unique_values\": 2,\n        \"samples\": [\n          \"f\",\n          \"m\"\n        ],\n        \"semantic_type\": \"\",\n        \"description\": \"\"\n      }\n    },\n    {\n      \"column\": \"sign\",\n      \"properties\": {\n        \"dtype\": \"category\",\n        \"num_unique_values\": 48,\n        \"samples\": [\n          \"taurus but it doesn&rsquo;t matter\",\n          \"aquarius and it matters a lot\"\n        ],\n        \"semantic_type\": \"\",\n        \"description\": \"\"\n      }\n    },\n    {\n      \"column\": \"smokes\",\n      \"properties\": {\n        \"dtype\": \"category\",\n        \"num_unique_values\": 5,\n        \"samples\": [\n          \"sometimes\",\n          \"yes\"\n        ],\n        \"semantic_type\": \"\",\n        \"description\": \"\"\n      }\n    },\n    {\n      \"column\": \"speaks\",\n      \"properties\": {\n        \"dtype\": \"category\",\n        \"num_unique_values\": 2368,\n        \"samples\": [\n          \"english (fluently), french (okay), chinese (okay), arabic (poorly), hebrew (okay)\",\n          \"english, indonesian, portuguese\"\n        ],\n        \"semantic_type\": \"\",\n        \"description\": \"\"\n      }\n    },\n    {\n      \"column\": \"status\",\n      \"properties\": {\n        \"dtype\": \"category\",\n        \"num_unique_values\": 5,\n        \"samples\": [\n          \"married\",\n          \"unknown\"\n        ],\n        \"semantic_type\": \"\",\n        \"description\": \"\"\n      }\n    }\n  ]\n}",
              "type": "dataframe",
              "variable_name": "df_test"
            },
            "text/html": [
              "\n",
              "  <div id=\"df-c48c5354-17e2-4e4f-a0d0-fe808f3a5edc\" class=\"colab-df-container\">\n",
              "    <div>\n",
              "<style scoped>\n",
              "    .dataframe tbody tr th:only-of-type {\n",
              "        vertical-align: middle;\n",
              "    }\n",
              "\n",
              "    .dataframe tbody tr th {\n",
              "        vertical-align: top;\n",
              "    }\n",
              "\n",
              "    .dataframe thead th {\n",
              "        text-align: right;\n",
              "    }\n",
              "</style>\n",
              "<table border=\"1\" class=\"dataframe\">\n",
              "  <thead>\n",
              "    <tr style=\"text-align: right;\">\n",
              "      <th></th>\n",
              "      <th>id</th>\n",
              "      <th>age</th>\n",
              "      <th>diet</th>\n",
              "      <th>drinks</th>\n",
              "      <th>drugs</th>\n",
              "      <th>education</th>\n",
              "      <th>ethnicity</th>\n",
              "      <th>height</th>\n",
              "      <th>income</th>\n",
              "      <th>job</th>\n",
              "      <th>offspring</th>\n",
              "      <th>orientation</th>\n",
              "      <th>pets</th>\n",
              "      <th>religion</th>\n",
              "      <th>sex</th>\n",
              "      <th>sign</th>\n",
              "      <th>smokes</th>\n",
              "      <th>speaks</th>\n",
              "      <th>status</th>\n",
              "    </tr>\n",
              "  </thead>\n",
              "  <tbody>\n",
              "    <tr>\n",
              "      <th>0</th>\n",
              "      <td>30968</td>\n",
              "      <td>25</td>\n",
              "      <td>mostly anything</td>\n",
              "      <td>socially</td>\n",
              "      <td>never</td>\n",
              "      <td>graduated from college/university</td>\n",
              "      <td>asian, white</td>\n",
              "      <td>73.0</td>\n",
              "      <td>-1</td>\n",
              "      <td>computer / hardware / software</td>\n",
              "      <td>NaN</td>\n",
              "      <td>straight</td>\n",
              "      <td>NaN</td>\n",
              "      <td>agnosticism but not too serious about it</td>\n",
              "      <td>m</td>\n",
              "      <td>aquarius and it&amp;rsquo;s fun to think about</td>\n",
              "      <td>no</td>\n",
              "      <td>english</td>\n",
              "      <td>single</td>\n",
              "    </tr>\n",
              "    <tr>\n",
              "      <th>1</th>\n",
              "      <td>36173</td>\n",
              "      <td>22</td>\n",
              "      <td>NaN</td>\n",
              "      <td>often</td>\n",
              "      <td>NaN</td>\n",
              "      <td>working on college/university</td>\n",
              "      <td>asian, pacific islander</td>\n",
              "      <td>64.0</td>\n",
              "      <td>-1</td>\n",
              "      <td>student</td>\n",
              "      <td>NaN</td>\n",
              "      <td>straight</td>\n",
              "      <td>has cats</td>\n",
              "      <td>other but not too serious about it</td>\n",
              "      <td>f</td>\n",
              "      <td>libra and it&amp;rsquo;s fun to think about</td>\n",
              "      <td>sometimes</td>\n",
              "      <td>english (fluently), tagalog (okay), french (po...</td>\n",
              "      <td>single</td>\n",
              "    </tr>\n",
              "    <tr>\n",
              "      <th>2</th>\n",
              "      <td>32466</td>\n",
              "      <td>44</td>\n",
              "      <td>mostly anything</td>\n",
              "      <td>socially</td>\n",
              "      <td>never</td>\n",
              "      <td>graduated from college/university</td>\n",
              "      <td>white</td>\n",
              "      <td>73.0</td>\n",
              "      <td>-1</td>\n",
              "      <td>artistic / musical / writer</td>\n",
              "      <td>doesn&amp;rsquo;t have kids, but might want them</td>\n",
              "      <td>gay</td>\n",
              "      <td>has dogs</td>\n",
              "      <td>NaN</td>\n",
              "      <td>m</td>\n",
              "      <td>virgo but it doesn&amp;rsquo;t matter</td>\n",
              "      <td>no</td>\n",
              "      <td>english (fluently), italian (okay)</td>\n",
              "      <td>single</td>\n",
              "    </tr>\n",
              "    <tr>\n",
              "      <th>3</th>\n",
              "      <td>27038</td>\n",
              "      <td>28</td>\n",
              "      <td>NaN</td>\n",
              "      <td>socially</td>\n",
              "      <td>never</td>\n",
              "      <td>graduated from masters program</td>\n",
              "      <td>white</td>\n",
              "      <td>71.0</td>\n",
              "      <td>-1</td>\n",
              "      <td>NaN</td>\n",
              "      <td>NaN</td>\n",
              "      <td>straight</td>\n",
              "      <td>NaN</td>\n",
              "      <td>NaN</td>\n",
              "      <td>f</td>\n",
              "      <td>libra but it doesn&amp;rsquo;t matter</td>\n",
              "      <td>no</td>\n",
              "      <td>english (fluently), german (fluently), czech (...</td>\n",
              "      <td>single</td>\n",
              "    </tr>\n",
              "    <tr>\n",
              "      <th>4</th>\n",
              "      <td>17610</td>\n",
              "      <td>26</td>\n",
              "      <td>strictly anything</td>\n",
              "      <td>socially</td>\n",
              "      <td>sometimes</td>\n",
              "      <td>graduated from masters program</td>\n",
              "      <td>NaN</td>\n",
              "      <td>74.0</td>\n",
              "      <td>-1</td>\n",
              "      <td>education / academia</td>\n",
              "      <td>doesn&amp;rsquo;t want kids</td>\n",
              "      <td>straight</td>\n",
              "      <td>likes dogs</td>\n",
              "      <td>atheism and somewhat serious about it</td>\n",
              "      <td>m</td>\n",
              "      <td>scorpio but it doesn&amp;rsquo;t matter</td>\n",
              "      <td>NaN</td>\n",
              "      <td>english (fluently), french, japanese, spanish,...</td>\n",
              "      <td>single</td>\n",
              "    </tr>\n",
              "    <tr>\n",
              "      <th>...</th>\n",
              "      <td>...</td>\n",
              "      <td>...</td>\n",
              "      <td>...</td>\n",
              "      <td>...</td>\n",
              "      <td>...</td>\n",
              "      <td>...</td>\n",
              "      <td>...</td>\n",
              "      <td>...</td>\n",
              "      <td>...</td>\n",
              "      <td>...</td>\n",
              "      <td>...</td>\n",
              "      <td>...</td>\n",
              "      <td>...</td>\n",
              "      <td>...</td>\n",
              "      <td>...</td>\n",
              "      <td>...</td>\n",
              "      <td>...</td>\n",
              "      <td>...</td>\n",
              "      <td>...</td>\n",
              "    </tr>\n",
              "    <tr>\n",
              "      <th>13608</th>\n",
              "      <td>20510</td>\n",
              "      <td>28</td>\n",
              "      <td>NaN</td>\n",
              "      <td>socially</td>\n",
              "      <td>NaN</td>\n",
              "      <td>dropped out of college/university</td>\n",
              "      <td>white</td>\n",
              "      <td>66.0</td>\n",
              "      <td>80000</td>\n",
              "      <td>law / legal services</td>\n",
              "      <td>doesn&amp;rsquo;t have kids</td>\n",
              "      <td>straight</td>\n",
              "      <td>likes dogs and has cats</td>\n",
              "      <td>agnosticism</td>\n",
              "      <td>f</td>\n",
              "      <td>virgo</td>\n",
              "      <td>no</td>\n",
              "      <td>english</td>\n",
              "      <td>single</td>\n",
              "    </tr>\n",
              "    <tr>\n",
              "      <th>13609</th>\n",
              "      <td>54432</td>\n",
              "      <td>32</td>\n",
              "      <td>NaN</td>\n",
              "      <td>socially</td>\n",
              "      <td>never</td>\n",
              "      <td>graduated from masters program</td>\n",
              "      <td>NaN</td>\n",
              "      <td>63.0</td>\n",
              "      <td>-1</td>\n",
              "      <td>entertainment / media</td>\n",
              "      <td>NaN</td>\n",
              "      <td>straight</td>\n",
              "      <td>has dogs</td>\n",
              "      <td>agnosticism</td>\n",
              "      <td>f</td>\n",
              "      <td>NaN</td>\n",
              "      <td>NaN</td>\n",
              "      <td>english</td>\n",
              "      <td>single</td>\n",
              "    </tr>\n",
              "    <tr>\n",
              "      <th>13610</th>\n",
              "      <td>49664</td>\n",
              "      <td>25</td>\n",
              "      <td>mostly vegetarian</td>\n",
              "      <td>NaN</td>\n",
              "      <td>sometimes</td>\n",
              "      <td>NaN</td>\n",
              "      <td>white</td>\n",
              "      <td>70.0</td>\n",
              "      <td>-1</td>\n",
              "      <td>NaN</td>\n",
              "      <td>NaN</td>\n",
              "      <td>straight</td>\n",
              "      <td>has dogs</td>\n",
              "      <td>NaN</td>\n",
              "      <td>m</td>\n",
              "      <td>NaN</td>\n",
              "      <td>NaN</td>\n",
              "      <td>english</td>\n",
              "      <td>single</td>\n",
              "    </tr>\n",
              "    <tr>\n",
              "      <th>13611</th>\n",
              "      <td>43797</td>\n",
              "      <td>45</td>\n",
              "      <td>strictly anything</td>\n",
              "      <td>socially</td>\n",
              "      <td>never</td>\n",
              "      <td>graduated from college/university</td>\n",
              "      <td>white</td>\n",
              "      <td>62.0</td>\n",
              "      <td>80000</td>\n",
              "      <td>other</td>\n",
              "      <td>has kids</td>\n",
              "      <td>straight</td>\n",
              "      <td>NaN</td>\n",
              "      <td>NaN</td>\n",
              "      <td>f</td>\n",
              "      <td>pisces and it&amp;rsquo;s fun to think about</td>\n",
              "      <td>no</td>\n",
              "      <td>english</td>\n",
              "      <td>single</td>\n",
              "    </tr>\n",
              "    <tr>\n",
              "      <th>13612</th>\n",
              "      <td>15637</td>\n",
              "      <td>43</td>\n",
              "      <td>mostly anything</td>\n",
              "      <td>socially</td>\n",
              "      <td>sometimes</td>\n",
              "      <td>graduated from college/university</td>\n",
              "      <td>white</td>\n",
              "      <td>69.0</td>\n",
              "      <td>-1</td>\n",
              "      <td>computer / hardware / software</td>\n",
              "      <td>has kids, but doesn&amp;rsquo;t want more</td>\n",
              "      <td>straight</td>\n",
              "      <td>likes dogs and likes cats</td>\n",
              "      <td>atheism and somewhat serious about it</td>\n",
              "      <td>m</td>\n",
              "      <td>cancer and it&amp;rsquo;s fun to think about</td>\n",
              "      <td>no</td>\n",
              "      <td>english (fluently), french (fluently), spanish...</td>\n",
              "      <td>single</td>\n",
              "    </tr>\n",
              "  </tbody>\n",
              "</table>\n",
              "<p>13613 rows × 19 columns</p>\n",
              "</div>\n",
              "    <div class=\"colab-df-buttons\">\n",
              "\n",
              "  <div class=\"colab-df-container\">\n",
              "    <button class=\"colab-df-convert\" onclick=\"convertToInteractive('df-c48c5354-17e2-4e4f-a0d0-fe808f3a5edc')\"\n",
              "            title=\"Convert this dataframe to an interactive table.\"\n",
              "            style=\"display:none;\">\n",
              "\n",
              "  <svg xmlns=\"http://www.w3.org/2000/svg\" height=\"24px\" viewBox=\"0 -960 960 960\">\n",
              "    <path d=\"M120-120v-720h720v720H120Zm60-500h600v-160H180v160Zm220 220h160v-160H400v160Zm0 220h160v-160H400v160ZM180-400h160v-160H180v160Zm440 0h160v-160H620v160ZM180-180h160v-160H180v160Zm440 0h160v-160H620v160Z\"/>\n",
              "  </svg>\n",
              "    </button>\n",
              "\n",
              "  <style>\n",
              "    .colab-df-container {\n",
              "      display:flex;\n",
              "      gap: 12px;\n",
              "    }\n",
              "\n",
              "    .colab-df-convert {\n",
              "      background-color: #E8F0FE;\n",
              "      border: none;\n",
              "      border-radius: 50%;\n",
              "      cursor: pointer;\n",
              "      display: none;\n",
              "      fill: #1967D2;\n",
              "      height: 32px;\n",
              "      padding: 0 0 0 0;\n",
              "      width: 32px;\n",
              "    }\n",
              "\n",
              "    .colab-df-convert:hover {\n",
              "      background-color: #E2EBFA;\n",
              "      box-shadow: 0px 1px 2px rgba(60, 64, 67, 0.3), 0px 1px 3px 1px rgba(60, 64, 67, 0.15);\n",
              "      fill: #174EA6;\n",
              "    }\n",
              "\n",
              "    .colab-df-buttons div {\n",
              "      margin-bottom: 4px;\n",
              "    }\n",
              "\n",
              "    [theme=dark] .colab-df-convert {\n",
              "      background-color: #3B4455;\n",
              "      fill: #D2E3FC;\n",
              "    }\n",
              "\n",
              "    [theme=dark] .colab-df-convert:hover {\n",
              "      background-color: #434B5C;\n",
              "      box-shadow: 0px 1px 3px 1px rgba(0, 0, 0, 0.15);\n",
              "      filter: drop-shadow(0px 1px 2px rgba(0, 0, 0, 0.3));\n",
              "      fill: #FFFFFF;\n",
              "    }\n",
              "  </style>\n",
              "\n",
              "    <script>\n",
              "      const buttonEl =\n",
              "        document.querySelector('#df-c48c5354-17e2-4e4f-a0d0-fe808f3a5edc button.colab-df-convert');\n",
              "      buttonEl.style.display =\n",
              "        google.colab.kernel.accessAllowed ? 'block' : 'none';\n",
              "\n",
              "      async function convertToInteractive(key) {\n",
              "        const element = document.querySelector('#df-c48c5354-17e2-4e4f-a0d0-fe808f3a5edc');\n",
              "        const dataTable =\n",
              "          await google.colab.kernel.invokeFunction('convertToInteractive',\n",
              "                                                    [key], {});\n",
              "        if (!dataTable) return;\n",
              "\n",
              "        const docLinkHtml = 'Like what you see? Visit the ' +\n",
              "          '<a target=\"_blank\" href=https://colab.research.google.com/notebooks/data_table.ipynb>data table notebook</a>'\n",
              "          + ' to learn more about interactive tables.';\n",
              "        element.innerHTML = '';\n",
              "        dataTable['output_type'] = 'display_data';\n",
              "        await google.colab.output.renderOutput(dataTable, element);\n",
              "        const docLink = document.createElement('div');\n",
              "        docLink.innerHTML = docLinkHtml;\n",
              "        element.appendChild(docLink);\n",
              "      }\n",
              "    </script>\n",
              "  </div>\n",
              "\n",
              "\n",
              "<div id=\"df-ee74bf1b-02f6-433c-8ec4-a86f7a1dc78a\">\n",
              "  <button class=\"colab-df-quickchart\" onclick=\"quickchart('df-ee74bf1b-02f6-433c-8ec4-a86f7a1dc78a')\"\n",
              "            title=\"Suggest charts\"\n",
              "            style=\"display:none;\">\n",
              "\n",
              "<svg xmlns=\"http://www.w3.org/2000/svg\" height=\"24px\"viewBox=\"0 0 24 24\"\n",
              "     width=\"24px\">\n",
              "    <g>\n",
              "        <path d=\"M19 3H5c-1.1 0-2 .9-2 2v14c0 1.1.9 2 2 2h14c1.1 0 2-.9 2-2V5c0-1.1-.9-2-2-2zM9 17H7v-7h2v7zm4 0h-2V7h2v10zm4 0h-2v-4h2v4z\"/>\n",
              "    </g>\n",
              "</svg>\n",
              "  </button>\n",
              "\n",
              "<style>\n",
              "  .colab-df-quickchart {\n",
              "      --bg-color: #E8F0FE;\n",
              "      --fill-color: #1967D2;\n",
              "      --hover-bg-color: #E2EBFA;\n",
              "      --hover-fill-color: #174EA6;\n",
              "      --disabled-fill-color: #AAA;\n",
              "      --disabled-bg-color: #DDD;\n",
              "  }\n",
              "\n",
              "  [theme=dark] .colab-df-quickchart {\n",
              "      --bg-color: #3B4455;\n",
              "      --fill-color: #D2E3FC;\n",
              "      --hover-bg-color: #434B5C;\n",
              "      --hover-fill-color: #FFFFFF;\n",
              "      --disabled-bg-color: #3B4455;\n",
              "      --disabled-fill-color: #666;\n",
              "  }\n",
              "\n",
              "  .colab-df-quickchart {\n",
              "    background-color: var(--bg-color);\n",
              "    border: none;\n",
              "    border-radius: 50%;\n",
              "    cursor: pointer;\n",
              "    display: none;\n",
              "    fill: var(--fill-color);\n",
              "    height: 32px;\n",
              "    padding: 0;\n",
              "    width: 32px;\n",
              "  }\n",
              "\n",
              "  .colab-df-quickchart:hover {\n",
              "    background-color: var(--hover-bg-color);\n",
              "    box-shadow: 0 1px 2px rgba(60, 64, 67, 0.3), 0 1px 3px 1px rgba(60, 64, 67, 0.15);\n",
              "    fill: var(--button-hover-fill-color);\n",
              "  }\n",
              "\n",
              "  .colab-df-quickchart-complete:disabled,\n",
              "  .colab-df-quickchart-complete:disabled:hover {\n",
              "    background-color: var(--disabled-bg-color);\n",
              "    fill: var(--disabled-fill-color);\n",
              "    box-shadow: none;\n",
              "  }\n",
              "\n",
              "  .colab-df-spinner {\n",
              "    border: 2px solid var(--fill-color);\n",
              "    border-color: transparent;\n",
              "    border-bottom-color: var(--fill-color);\n",
              "    animation:\n",
              "      spin 1s steps(1) infinite;\n",
              "  }\n",
              "\n",
              "  @keyframes spin {\n",
              "    0% {\n",
              "      border-color: transparent;\n",
              "      border-bottom-color: var(--fill-color);\n",
              "      border-left-color: var(--fill-color);\n",
              "    }\n",
              "    20% {\n",
              "      border-color: transparent;\n",
              "      border-left-color: var(--fill-color);\n",
              "      border-top-color: var(--fill-color);\n",
              "    }\n",
              "    30% {\n",
              "      border-color: transparent;\n",
              "      border-left-color: var(--fill-color);\n",
              "      border-top-color: var(--fill-color);\n",
              "      border-right-color: var(--fill-color);\n",
              "    }\n",
              "    40% {\n",
              "      border-color: transparent;\n",
              "      border-right-color: var(--fill-color);\n",
              "      border-top-color: var(--fill-color);\n",
              "    }\n",
              "    60% {\n",
              "      border-color: transparent;\n",
              "      border-right-color: var(--fill-color);\n",
              "    }\n",
              "    80% {\n",
              "      border-color: transparent;\n",
              "      border-right-color: var(--fill-color);\n",
              "      border-bottom-color: var(--fill-color);\n",
              "    }\n",
              "    90% {\n",
              "      border-color: transparent;\n",
              "      border-bottom-color: var(--fill-color);\n",
              "    }\n",
              "  }\n",
              "</style>\n",
              "\n",
              "  <script>\n",
              "    async function quickchart(key) {\n",
              "      const quickchartButtonEl =\n",
              "        document.querySelector('#' + key + ' button');\n",
              "      quickchartButtonEl.disabled = true;  // To prevent multiple clicks.\n",
              "      quickchartButtonEl.classList.add('colab-df-spinner');\n",
              "      try {\n",
              "        const charts = await google.colab.kernel.invokeFunction(\n",
              "            'suggestCharts', [key], {});\n",
              "      } catch (error) {\n",
              "        console.error('Error during call to suggestCharts:', error);\n",
              "      }\n",
              "      quickchartButtonEl.classList.remove('colab-df-spinner');\n",
              "      quickchartButtonEl.classList.add('colab-df-quickchart-complete');\n",
              "    }\n",
              "    (() => {\n",
              "      let quickchartButtonEl =\n",
              "        document.querySelector('#df-ee74bf1b-02f6-433c-8ec4-a86f7a1dc78a button');\n",
              "      quickchartButtonEl.style.display =\n",
              "        google.colab.kernel.accessAllowed ? 'block' : 'none';\n",
              "    })();\n",
              "  </script>\n",
              "</div>\n",
              "    </div>\n",
              "  </div>\n"
            ],
            "text/plain": [
              "          id  age               diet    drinks      drugs  \\\n",
              "0      30968   25    mostly anything  socially      never   \n",
              "1      36173   22                NaN     often        NaN   \n",
              "2      32466   44    mostly anything  socially      never   \n",
              "3      27038   28                NaN  socially      never   \n",
              "4      17610   26  strictly anything  socially  sometimes   \n",
              "...      ...  ...                ...       ...        ...   \n",
              "13608  20510   28                NaN  socially        NaN   \n",
              "13609  54432   32                NaN  socially      never   \n",
              "13610  49664   25  mostly vegetarian       NaN  sometimes   \n",
              "13611  43797   45  strictly anything  socially      never   \n",
              "13612  15637   43    mostly anything  socially  sometimes   \n",
              "\n",
              "                               education                ethnicity  height  \\\n",
              "0      graduated from college/university             asian, white    73.0   \n",
              "1          working on college/university  asian, pacific islander    64.0   \n",
              "2      graduated from college/university                    white    73.0   \n",
              "3         graduated from masters program                    white    71.0   \n",
              "4         graduated from masters program                      NaN    74.0   \n",
              "...                                  ...                      ...     ...   \n",
              "13608  dropped out of college/university                    white    66.0   \n",
              "13609     graduated from masters program                      NaN    63.0   \n",
              "13610                                NaN                    white    70.0   \n",
              "13611  graduated from college/university                    white    62.0   \n",
              "13612  graduated from college/university                    white    69.0   \n",
              "\n",
              "       income                             job  \\\n",
              "0          -1  computer / hardware / software   \n",
              "1          -1                         student   \n",
              "2          -1     artistic / musical / writer   \n",
              "3          -1                             NaN   \n",
              "4          -1            education / academia   \n",
              "...       ...                             ...   \n",
              "13608   80000            law / legal services   \n",
              "13609      -1           entertainment / media   \n",
              "13610      -1                             NaN   \n",
              "13611   80000                           other   \n",
              "13612      -1  computer / hardware / software   \n",
              "\n",
              "                                          offspring orientation  \\\n",
              "0                                               NaN    straight   \n",
              "1                                               NaN    straight   \n",
              "2      doesn&rsquo;t have kids, but might want them         gay   \n",
              "3                                               NaN    straight   \n",
              "4                           doesn&rsquo;t want kids    straight   \n",
              "...                                             ...         ...   \n",
              "13608                       doesn&rsquo;t have kids    straight   \n",
              "13609                                           NaN    straight   \n",
              "13610                                           NaN    straight   \n",
              "13611                                      has kids    straight   \n",
              "13612         has kids, but doesn&rsquo;t want more    straight   \n",
              "\n",
              "                            pets                                  religion  \\\n",
              "0                            NaN  agnosticism but not too serious about it   \n",
              "1                       has cats        other but not too serious about it   \n",
              "2                       has dogs                                       NaN   \n",
              "3                            NaN                                       NaN   \n",
              "4                     likes dogs     atheism and somewhat serious about it   \n",
              "...                          ...                                       ...   \n",
              "13608    likes dogs and has cats                               agnosticism   \n",
              "13609                   has dogs                               agnosticism   \n",
              "13610                   has dogs                                       NaN   \n",
              "13611                        NaN                                       NaN   \n",
              "13612  likes dogs and likes cats     atheism and somewhat serious about it   \n",
              "\n",
              "      sex                                        sign     smokes  \\\n",
              "0       m  aquarius and it&rsquo;s fun to think about         no   \n",
              "1       f     libra and it&rsquo;s fun to think about  sometimes   \n",
              "2       m           virgo but it doesn&rsquo;t matter         no   \n",
              "3       f           libra but it doesn&rsquo;t matter         no   \n",
              "4       m         scorpio but it doesn&rsquo;t matter        NaN   \n",
              "...    ..                                         ...        ...   \n",
              "13608   f                                       virgo         no   \n",
              "13609   f                                         NaN        NaN   \n",
              "13610   m                                         NaN        NaN   \n",
              "13611   f    pisces and it&rsquo;s fun to think about         no   \n",
              "13612   m    cancer and it&rsquo;s fun to think about         no   \n",
              "\n",
              "                                                  speaks  status  \n",
              "0                                                english  single  \n",
              "1      english (fluently), tagalog (okay), french (po...  single  \n",
              "2                     english (fluently), italian (okay)  single  \n",
              "3      english (fluently), german (fluently), czech (...  single  \n",
              "4      english (fluently), french, japanese, spanish,...  single  \n",
              "...                                                  ...     ...  \n",
              "13608                                            english  single  \n",
              "13609                                            english  single  \n",
              "13610                                            english  single  \n",
              "13611                                            english  single  \n",
              "13612  english (fluently), french (fluently), spanish...  single  \n",
              "\n",
              "[13613 rows x 19 columns]"
            ]
          },
          "execution_count": 236,
          "metadata": {},
          "output_type": "execute_result"
        }
      ],
      "source": [
        "df_test = pd.read_csv('test.csv')\n",
        "df_test"
      ]
    },
    {
      "cell_type": "code",
      "execution_count": null,
      "metadata": {
        "colab": {
          "background_save": true
        },
        "id": "ERh4rPpM4K9z"
      },
      "outputs": [],
      "source": [
        "y_pred = random_search.predict(df_test)"
      ]
    },
    {
      "cell_type": "code",
      "execution_count": null,
      "metadata": {
        "colab": {
          "background_save": true
        },
        "id": "mQddqBP74K9z"
      },
      "outputs": [],
      "source": [
        "df_pred = df_test[['id']].copy()\n",
        "df_pred['fit_body'] = y_pred\n",
        "df_pred['fit_body'] = df_pred['fit_body'].apply(lambda x: 'yes' if x > 0 else 'no')"
      ]
    },
    {
      "cell_type": "code",
      "execution_count": null,
      "metadata": {
        "colab": {
          "background_save": true,
          "base_uri": "https://localhost:8080/",
          "height": 423
        },
        "id": "qZzGeuyv4K9z",
        "outputId": "c67bdba0-13f1-49e2-963c-50b69b6c787d"
      },
      "outputs": [
        {
          "data": {
            "application/vnd.google.colaboratory.intrinsic+json": {
              "summary": "{\n  \"name\": \"df_pred\",\n  \"rows\": 13613,\n  \"fields\": [\n    {\n      \"column\": \"id\",\n      \"properties\": {\n        \"dtype\": \"number\",\n        \"std\": 15759,\n        \"min\": 1,\n        \"max\": 54451,\n        \"num_unique_values\": 13613,\n        \"samples\": [\n          5479,\n          43772,\n          49735\n        ],\n        \"semantic_type\": \"\",\n        \"description\": \"\"\n      }\n    },\n    {\n      \"column\": \"fit_body\",\n      \"properties\": {\n        \"dtype\": \"category\",\n        \"num_unique_values\": 2,\n        \"samples\": [\n          \"no\",\n          \"yes\"\n        ],\n        \"semantic_type\": \"\",\n        \"description\": \"\"\n      }\n    }\n  ]\n}",
              "type": "dataframe",
              "variable_name": "df_pred"
            },
            "text/html": [
              "\n",
              "  <div id=\"df-6ae31e05-8b89-46e1-a5a8-793f33457780\" class=\"colab-df-container\">\n",
              "    <div>\n",
              "<style scoped>\n",
              "    .dataframe tbody tr th:only-of-type {\n",
              "        vertical-align: middle;\n",
              "    }\n",
              "\n",
              "    .dataframe tbody tr th {\n",
              "        vertical-align: top;\n",
              "    }\n",
              "\n",
              "    .dataframe thead th {\n",
              "        text-align: right;\n",
              "    }\n",
              "</style>\n",
              "<table border=\"1\" class=\"dataframe\">\n",
              "  <thead>\n",
              "    <tr style=\"text-align: right;\">\n",
              "      <th></th>\n",
              "      <th>id</th>\n",
              "      <th>fit_body</th>\n",
              "    </tr>\n",
              "  </thead>\n",
              "  <tbody>\n",
              "    <tr>\n",
              "      <th>0</th>\n",
              "      <td>30968</td>\n",
              "      <td>yes</td>\n",
              "    </tr>\n",
              "    <tr>\n",
              "      <th>1</th>\n",
              "      <td>36173</td>\n",
              "      <td>no</td>\n",
              "    </tr>\n",
              "    <tr>\n",
              "      <th>2</th>\n",
              "      <td>32466</td>\n",
              "      <td>yes</td>\n",
              "    </tr>\n",
              "    <tr>\n",
              "      <th>3</th>\n",
              "      <td>27038</td>\n",
              "      <td>yes</td>\n",
              "    </tr>\n",
              "    <tr>\n",
              "      <th>4</th>\n",
              "      <td>17610</td>\n",
              "      <td>yes</td>\n",
              "    </tr>\n",
              "    <tr>\n",
              "      <th>...</th>\n",
              "      <td>...</td>\n",
              "      <td>...</td>\n",
              "    </tr>\n",
              "    <tr>\n",
              "      <th>13608</th>\n",
              "      <td>20510</td>\n",
              "      <td>no</td>\n",
              "    </tr>\n",
              "    <tr>\n",
              "      <th>13609</th>\n",
              "      <td>54432</td>\n",
              "      <td>no</td>\n",
              "    </tr>\n",
              "    <tr>\n",
              "      <th>13610</th>\n",
              "      <td>49664</td>\n",
              "      <td>yes</td>\n",
              "    </tr>\n",
              "    <tr>\n",
              "      <th>13611</th>\n",
              "      <td>43797</td>\n",
              "      <td>yes</td>\n",
              "    </tr>\n",
              "    <tr>\n",
              "      <th>13612</th>\n",
              "      <td>15637</td>\n",
              "      <td>no</td>\n",
              "    </tr>\n",
              "  </tbody>\n",
              "</table>\n",
              "<p>13613 rows × 2 columns</p>\n",
              "</div>\n",
              "    <div class=\"colab-df-buttons\">\n",
              "\n",
              "  <div class=\"colab-df-container\">\n",
              "    <button class=\"colab-df-convert\" onclick=\"convertToInteractive('df-6ae31e05-8b89-46e1-a5a8-793f33457780')\"\n",
              "            title=\"Convert this dataframe to an interactive table.\"\n",
              "            style=\"display:none;\">\n",
              "\n",
              "  <svg xmlns=\"http://www.w3.org/2000/svg\" height=\"24px\" viewBox=\"0 -960 960 960\">\n",
              "    <path d=\"M120-120v-720h720v720H120Zm60-500h600v-160H180v160Zm220 220h160v-160H400v160Zm0 220h160v-160H400v160ZM180-400h160v-160H180v160Zm440 0h160v-160H620v160ZM180-180h160v-160H180v160Zm440 0h160v-160H620v160Z\"/>\n",
              "  </svg>\n",
              "    </button>\n",
              "\n",
              "  <style>\n",
              "    .colab-df-container {\n",
              "      display:flex;\n",
              "      gap: 12px;\n",
              "    }\n",
              "\n",
              "    .colab-df-convert {\n",
              "      background-color: #E8F0FE;\n",
              "      border: none;\n",
              "      border-radius: 50%;\n",
              "      cursor: pointer;\n",
              "      display: none;\n",
              "      fill: #1967D2;\n",
              "      height: 32px;\n",
              "      padding: 0 0 0 0;\n",
              "      width: 32px;\n",
              "    }\n",
              "\n",
              "    .colab-df-convert:hover {\n",
              "      background-color: #E2EBFA;\n",
              "      box-shadow: 0px 1px 2px rgba(60, 64, 67, 0.3), 0px 1px 3px 1px rgba(60, 64, 67, 0.15);\n",
              "      fill: #174EA6;\n",
              "    }\n",
              "\n",
              "    .colab-df-buttons div {\n",
              "      margin-bottom: 4px;\n",
              "    }\n",
              "\n",
              "    [theme=dark] .colab-df-convert {\n",
              "      background-color: #3B4455;\n",
              "      fill: #D2E3FC;\n",
              "    }\n",
              "\n",
              "    [theme=dark] .colab-df-convert:hover {\n",
              "      background-color: #434B5C;\n",
              "      box-shadow: 0px 1px 3px 1px rgba(0, 0, 0, 0.15);\n",
              "      filter: drop-shadow(0px 1px 2px rgba(0, 0, 0, 0.3));\n",
              "      fill: #FFFFFF;\n",
              "    }\n",
              "  </style>\n",
              "\n",
              "    <script>\n",
              "      const buttonEl =\n",
              "        document.querySelector('#df-6ae31e05-8b89-46e1-a5a8-793f33457780 button.colab-df-convert');\n",
              "      buttonEl.style.display =\n",
              "        google.colab.kernel.accessAllowed ? 'block' : 'none';\n",
              "\n",
              "      async function convertToInteractive(key) {\n",
              "        const element = document.querySelector('#df-6ae31e05-8b89-46e1-a5a8-793f33457780');\n",
              "        const dataTable =\n",
              "          await google.colab.kernel.invokeFunction('convertToInteractive',\n",
              "                                                    [key], {});\n",
              "        if (!dataTable) return;\n",
              "\n",
              "        const docLinkHtml = 'Like what you see? Visit the ' +\n",
              "          '<a target=\"_blank\" href=https://colab.research.google.com/notebooks/data_table.ipynb>data table notebook</a>'\n",
              "          + ' to learn more about interactive tables.';\n",
              "        element.innerHTML = '';\n",
              "        dataTable['output_type'] = 'display_data';\n",
              "        await google.colab.output.renderOutput(dataTable, element);\n",
              "        const docLink = document.createElement('div');\n",
              "        docLink.innerHTML = docLinkHtml;\n",
              "        element.appendChild(docLink);\n",
              "      }\n",
              "    </script>\n",
              "  </div>\n",
              "\n",
              "\n",
              "<div id=\"df-3e68d56c-cbcc-4dde-9ad0-67102d1dadcf\">\n",
              "  <button class=\"colab-df-quickchart\" onclick=\"quickchart('df-3e68d56c-cbcc-4dde-9ad0-67102d1dadcf')\"\n",
              "            title=\"Suggest charts\"\n",
              "            style=\"display:none;\">\n",
              "\n",
              "<svg xmlns=\"http://www.w3.org/2000/svg\" height=\"24px\"viewBox=\"0 0 24 24\"\n",
              "     width=\"24px\">\n",
              "    <g>\n",
              "        <path d=\"M19 3H5c-1.1 0-2 .9-2 2v14c0 1.1.9 2 2 2h14c1.1 0 2-.9 2-2V5c0-1.1-.9-2-2-2zM9 17H7v-7h2v7zm4 0h-2V7h2v10zm4 0h-2v-4h2v4z\"/>\n",
              "    </g>\n",
              "</svg>\n",
              "  </button>\n",
              "\n",
              "<style>\n",
              "  .colab-df-quickchart {\n",
              "      --bg-color: #E8F0FE;\n",
              "      --fill-color: #1967D2;\n",
              "      --hover-bg-color: #E2EBFA;\n",
              "      --hover-fill-color: #174EA6;\n",
              "      --disabled-fill-color: #AAA;\n",
              "      --disabled-bg-color: #DDD;\n",
              "  }\n",
              "\n",
              "  [theme=dark] .colab-df-quickchart {\n",
              "      --bg-color: #3B4455;\n",
              "      --fill-color: #D2E3FC;\n",
              "      --hover-bg-color: #434B5C;\n",
              "      --hover-fill-color: #FFFFFF;\n",
              "      --disabled-bg-color: #3B4455;\n",
              "      --disabled-fill-color: #666;\n",
              "  }\n",
              "\n",
              "  .colab-df-quickchart {\n",
              "    background-color: var(--bg-color);\n",
              "    border: none;\n",
              "    border-radius: 50%;\n",
              "    cursor: pointer;\n",
              "    display: none;\n",
              "    fill: var(--fill-color);\n",
              "    height: 32px;\n",
              "    padding: 0;\n",
              "    width: 32px;\n",
              "  }\n",
              "\n",
              "  .colab-df-quickchart:hover {\n",
              "    background-color: var(--hover-bg-color);\n",
              "    box-shadow: 0 1px 2px rgba(60, 64, 67, 0.3), 0 1px 3px 1px rgba(60, 64, 67, 0.15);\n",
              "    fill: var(--button-hover-fill-color);\n",
              "  }\n",
              "\n",
              "  .colab-df-quickchart-complete:disabled,\n",
              "  .colab-df-quickchart-complete:disabled:hover {\n",
              "    background-color: var(--disabled-bg-color);\n",
              "    fill: var(--disabled-fill-color);\n",
              "    box-shadow: none;\n",
              "  }\n",
              "\n",
              "  .colab-df-spinner {\n",
              "    border: 2px solid var(--fill-color);\n",
              "    border-color: transparent;\n",
              "    border-bottom-color: var(--fill-color);\n",
              "    animation:\n",
              "      spin 1s steps(1) infinite;\n",
              "  }\n",
              "\n",
              "  @keyframes spin {\n",
              "    0% {\n",
              "      border-color: transparent;\n",
              "      border-bottom-color: var(--fill-color);\n",
              "      border-left-color: var(--fill-color);\n",
              "    }\n",
              "    20% {\n",
              "      border-color: transparent;\n",
              "      border-left-color: var(--fill-color);\n",
              "      border-top-color: var(--fill-color);\n",
              "    }\n",
              "    30% {\n",
              "      border-color: transparent;\n",
              "      border-left-color: var(--fill-color);\n",
              "      border-top-color: var(--fill-color);\n",
              "      border-right-color: var(--fill-color);\n",
              "    }\n",
              "    40% {\n",
              "      border-color: transparent;\n",
              "      border-right-color: var(--fill-color);\n",
              "      border-top-color: var(--fill-color);\n",
              "    }\n",
              "    60% {\n",
              "      border-color: transparent;\n",
              "      border-right-color: var(--fill-color);\n",
              "    }\n",
              "    80% {\n",
              "      border-color: transparent;\n",
              "      border-right-color: var(--fill-color);\n",
              "      border-bottom-color: var(--fill-color);\n",
              "    }\n",
              "    90% {\n",
              "      border-color: transparent;\n",
              "      border-bottom-color: var(--fill-color);\n",
              "    }\n",
              "  }\n",
              "</style>\n",
              "\n",
              "  <script>\n",
              "    async function quickchart(key) {\n",
              "      const quickchartButtonEl =\n",
              "        document.querySelector('#' + key + ' button');\n",
              "      quickchartButtonEl.disabled = true;  // To prevent multiple clicks.\n",
              "      quickchartButtonEl.classList.add('colab-df-spinner');\n",
              "      try {\n",
              "        const charts = await google.colab.kernel.invokeFunction(\n",
              "            'suggestCharts', [key], {});\n",
              "      } catch (error) {\n",
              "        console.error('Error during call to suggestCharts:', error);\n",
              "      }\n",
              "      quickchartButtonEl.classList.remove('colab-df-spinner');\n",
              "      quickchartButtonEl.classList.add('colab-df-quickchart-complete');\n",
              "    }\n",
              "    (() => {\n",
              "      let quickchartButtonEl =\n",
              "        document.querySelector('#df-3e68d56c-cbcc-4dde-9ad0-67102d1dadcf button');\n",
              "      quickchartButtonEl.style.display =\n",
              "        google.colab.kernel.accessAllowed ? 'block' : 'none';\n",
              "    })();\n",
              "  </script>\n",
              "</div>\n",
              "    </div>\n",
              "  </div>\n"
            ],
            "text/plain": [
              "          id fit_body\n",
              "0      30968      yes\n",
              "1      36173       no\n",
              "2      32466      yes\n",
              "3      27038      yes\n",
              "4      17610      yes\n",
              "...      ...      ...\n",
              "13608  20510       no\n",
              "13609  54432       no\n",
              "13610  49664      yes\n",
              "13611  43797      yes\n",
              "13612  15637       no\n",
              "\n",
              "[13613 rows x 2 columns]"
            ]
          },
          "execution_count": 239,
          "metadata": {},
          "output_type": "execute_result"
        }
      ],
      "source": [
        "df_pred"
      ]
    },
    {
      "cell_type": "markdown",
      "metadata": {
        "id": "lqiy2Ntn2z6Y"
      },
      "source": [
        "## Model Pipeline #2 XGBClassifier with RandomSearch"
      ]
    },
    {
      "cell_type": "markdown",
      "metadata": {
        "id": "RsYiEOYc3SNC"
      },
      "source": [
        "### Creating Pipeline"
      ]
    },
    {
      "cell_type": "code",
      "execution_count": null,
      "metadata": {
        "colab": {
          "background_save": true
        },
        "id": "P-SgBjnXL6cX"
      },
      "outputs": [],
      "source": [
        "best_params_prefix = random_search.best_params_\n",
        "\n",
        "# Initialize an empty dictionary for storing cleaned parameters\n",
        "best_params = {}\n",
        "\n",
        "# Iterate over the parameters and remove the 'xgbclassifier__' prefix\n",
        "for key, value in best_params_prefix.items():\n",
        "    clean_key = key.replace('xgbclassifier__', '')\n",
        "    best_params[clean_key] = value\n",
        "\n",
        "\n",
        "best_classifier = XGBClassifier(**best_params)\n",
        "\n",
        "best_pipe = make_pipeline(\n",
        "    fill_na_imputer,\n",
        "    preprocessor,\n",
        "    best_classifier\n",
        ")"
      ]
    },
    {
      "cell_type": "code",
      "execution_count": null,
      "metadata": {
        "colab": {
          "background_save": true,
          "base_uri": "https://localhost:8080/",
          "height": 248
        },
        "id": "zA1tmRCq8mSp",
        "outputId": "bc93f5b4-9588-4bfe-b500-b51314a0f363"
      },
      "outputs": [
        {
          "data": {
            "text/html": [
              "<style>#sk-container-id-17 {color: black;background-color: white;}#sk-container-id-17 pre{padding: 0;}#sk-container-id-17 div.sk-toggleable {background-color: white;}#sk-container-id-17 label.sk-toggleable__label {cursor: pointer;display: block;width: 100%;margin-bottom: 0;padding: 0.3em;box-sizing: border-box;text-align: center;}#sk-container-id-17 label.sk-toggleable__label-arrow:before {content: \"▸\";float: left;margin-right: 0.25em;color: #696969;}#sk-container-id-17 label.sk-toggleable__label-arrow:hover:before {color: black;}#sk-container-id-17 div.sk-estimator:hover label.sk-toggleable__label-arrow:before {color: black;}#sk-container-id-17 div.sk-toggleable__content {max-height: 0;max-width: 0;overflow: hidden;text-align: left;background-color: #f0f8ff;}#sk-container-id-17 div.sk-toggleable__content pre {margin: 0.2em;color: black;border-radius: 0.25em;background-color: #f0f8ff;}#sk-container-id-17 input.sk-toggleable__control:checked~div.sk-toggleable__content {max-height: 200px;max-width: 100%;overflow: auto;}#sk-container-id-17 input.sk-toggleable__control:checked~label.sk-toggleable__label-arrow:before {content: \"▾\";}#sk-container-id-17 div.sk-estimator input.sk-toggleable__control:checked~label.sk-toggleable__label {background-color: #d4ebff;}#sk-container-id-17 div.sk-label input.sk-toggleable__control:checked~label.sk-toggleable__label {background-color: #d4ebff;}#sk-container-id-17 input.sk-hidden--visually {border: 0;clip: rect(1px 1px 1px 1px);clip: rect(1px, 1px, 1px, 1px);height: 1px;margin: -1px;overflow: hidden;padding: 0;position: absolute;width: 1px;}#sk-container-id-17 div.sk-estimator {font-family: monospace;background-color: #f0f8ff;border: 1px dotted black;border-radius: 0.25em;box-sizing: border-box;margin-bottom: 0.5em;}#sk-container-id-17 div.sk-estimator:hover {background-color: #d4ebff;}#sk-container-id-17 div.sk-parallel-item::after {content: \"\";width: 100%;border-bottom: 1px solid gray;flex-grow: 1;}#sk-container-id-17 div.sk-label:hover label.sk-toggleable__label {background-color: #d4ebff;}#sk-container-id-17 div.sk-serial::before {content: \"\";position: absolute;border-left: 1px solid gray;box-sizing: border-box;top: 0;bottom: 0;left: 50%;z-index: 0;}#sk-container-id-17 div.sk-serial {display: flex;flex-direction: column;align-items: center;background-color: white;padding-right: 0.2em;padding-left: 0.2em;position: relative;}#sk-container-id-17 div.sk-item {position: relative;z-index: 1;}#sk-container-id-17 div.sk-parallel {display: flex;align-items: stretch;justify-content: center;background-color: white;position: relative;}#sk-container-id-17 div.sk-item::before, #sk-container-id-17 div.sk-parallel-item::before {content: \"\";position: absolute;border-left: 1px solid gray;box-sizing: border-box;top: 0;bottom: 0;left: 50%;z-index: -1;}#sk-container-id-17 div.sk-parallel-item {display: flex;flex-direction: column;z-index: 1;position: relative;background-color: white;}#sk-container-id-17 div.sk-parallel-item:first-child::after {align-self: flex-end;width: 50%;}#sk-container-id-17 div.sk-parallel-item:last-child::after {align-self: flex-start;width: 50%;}#sk-container-id-17 div.sk-parallel-item:only-child::after {width: 0;}#sk-container-id-17 div.sk-dashed-wrapped {border: 1px dashed gray;margin: 0 0.4em 0.5em 0.4em;box-sizing: border-box;padding-bottom: 0.4em;background-color: white;}#sk-container-id-17 div.sk-label label {font-family: monospace;font-weight: bold;display: inline-block;line-height: 1.2em;}#sk-container-id-17 div.sk-label-container {text-align: center;}#sk-container-id-17 div.sk-container {/* jupyter's `normalize.less` sets `[hidden] { display: none; }` but bootstrap.min.css set `[hidden] { display: none !important; }` so we also need the `!important` here to be able to override the default hidden behavior on the sphinx rendered scikit-learn.org. See: https://github.com/scikit-learn/scikit-learn/issues/21755 */display: inline-block !important;position: relative;}#sk-container-id-17 div.sk-text-repr-fallback {display: none;}</style><div id=\"sk-container-id-17\" class=\"sk-top-container\"><div class=\"sk-text-repr-fallback\"><pre>XGBClassifier(base_score=None, booster=None, callbacks=None,\n",
              "              colsample_bylevel=None, colsample_bynode=None,\n",
              "              colsample_bytree=0.7, device=None, early_stopping_rounds=None,\n",
              "              enable_categorical=False, eval_metric=None, feature_types=None,\n",
              "              gamma=0.0, grow_policy=None, importance_type=None,\n",
              "              interaction_constraints=None, learning_rate=0.1, max_bin=None,\n",
              "              max_cat_threshold=None, max_cat_to_onehot=None,\n",
              "              max_delta_step=None, max_depth=5, max_leaves=None,\n",
              "              min_child_weight=20, missing=nan, monotone_constraints=None,\n",
              "              multi_strategy=None, n_estimators=200, n_jobs=None,\n",
              "              num_parallel_tree=None, random_state=None, ...)</pre><b>In a Jupyter environment, please rerun this cell to show the HTML representation or trust the notebook. <br />On GitHub, the HTML representation is unable to render, please try loading this page with nbviewer.org.</b></div><div class=\"sk-container\" hidden><div class=\"sk-item\"><div class=\"sk-estimator sk-toggleable\"><input class=\"sk-toggleable__control sk-hidden--visually\" id=\"sk-estimator-id-122\" type=\"checkbox\" checked><label for=\"sk-estimator-id-122\" class=\"sk-toggleable__label sk-toggleable__label-arrow\">XGBClassifier</label><div class=\"sk-toggleable__content\"><pre>XGBClassifier(base_score=None, booster=None, callbacks=None,\n",
              "              colsample_bylevel=None, colsample_bynode=None,\n",
              "              colsample_bytree=0.7, device=None, early_stopping_rounds=None,\n",
              "              enable_categorical=False, eval_metric=None, feature_types=None,\n",
              "              gamma=0.0, grow_policy=None, importance_type=None,\n",
              "              interaction_constraints=None, learning_rate=0.1, max_bin=None,\n",
              "              max_cat_threshold=None, max_cat_to_onehot=None,\n",
              "              max_delta_step=None, max_depth=5, max_leaves=None,\n",
              "              min_child_weight=20, missing=nan, monotone_constraints=None,\n",
              "              multi_strategy=None, n_estimators=200, n_jobs=None,\n",
              "              num_parallel_tree=None, random_state=None, ...)</pre></div></div></div></div></div>"
            ],
            "text/plain": [
              "XGBClassifier(base_score=None, booster=None, callbacks=None,\n",
              "              colsample_bylevel=None, colsample_bynode=None,\n",
              "              colsample_bytree=0.7, device=None, early_stopping_rounds=None,\n",
              "              enable_categorical=False, eval_metric=None, feature_types=None,\n",
              "              gamma=0.0, grow_policy=None, importance_type=None,\n",
              "              interaction_constraints=None, learning_rate=0.1, max_bin=None,\n",
              "              max_cat_threshold=None, max_cat_to_onehot=None,\n",
              "              max_delta_step=None, max_depth=5, max_leaves=None,\n",
              "              min_child_weight=20, missing=nan, monotone_constraints=None,\n",
              "              multi_strategy=None, n_estimators=200, n_jobs=None,\n",
              "              num_parallel_tree=None, random_state=None, ...)"
            ]
          },
          "execution_count": 241,
          "metadata": {},
          "output_type": "execute_result"
        }
      ],
      "source": [
        "best_classifier"
      ]
    },
    {
      "cell_type": "markdown",
      "metadata": {
        "id": "0lLRH-Uj3T2h"
      },
      "source": [
        "### Pipeline Fitting"
      ]
    },
    {
      "cell_type": "code",
      "execution_count": null,
      "metadata": {
        "colab": {
          "background_save": true
        },
        "id": "mkiXCYe-MLmd",
        "outputId": "49f7040d-e38b-463f-ec64-ca18bd9c3402"
      },
      "outputs": [
        {
          "data": {
            "text/html": [
              "<style>#sk-container-id-18 {color: black;background-color: white;}#sk-container-id-18 pre{padding: 0;}#sk-container-id-18 div.sk-toggleable {background-color: white;}#sk-container-id-18 label.sk-toggleable__label {cursor: pointer;display: block;width: 100%;margin-bottom: 0;padding: 0.3em;box-sizing: border-box;text-align: center;}#sk-container-id-18 label.sk-toggleable__label-arrow:before {content: \"▸\";float: left;margin-right: 0.25em;color: #696969;}#sk-container-id-18 label.sk-toggleable__label-arrow:hover:before {color: black;}#sk-container-id-18 div.sk-estimator:hover label.sk-toggleable__label-arrow:before {color: black;}#sk-container-id-18 div.sk-toggleable__content {max-height: 0;max-width: 0;overflow: hidden;text-align: left;background-color: #f0f8ff;}#sk-container-id-18 div.sk-toggleable__content pre {margin: 0.2em;color: black;border-radius: 0.25em;background-color: #f0f8ff;}#sk-container-id-18 input.sk-toggleable__control:checked~div.sk-toggleable__content {max-height: 200px;max-width: 100%;overflow: auto;}#sk-container-id-18 input.sk-toggleable__control:checked~label.sk-toggleable__label-arrow:before {content: \"▾\";}#sk-container-id-18 div.sk-estimator input.sk-toggleable__control:checked~label.sk-toggleable__label {background-color: #d4ebff;}#sk-container-id-18 div.sk-label input.sk-toggleable__control:checked~label.sk-toggleable__label {background-color: #d4ebff;}#sk-container-id-18 input.sk-hidden--visually {border: 0;clip: rect(1px 1px 1px 1px);clip: rect(1px, 1px, 1px, 1px);height: 1px;margin: -1px;overflow: hidden;padding: 0;position: absolute;width: 1px;}#sk-container-id-18 div.sk-estimator {font-family: monospace;background-color: #f0f8ff;border: 1px dotted black;border-radius: 0.25em;box-sizing: border-box;margin-bottom: 0.5em;}#sk-container-id-18 div.sk-estimator:hover {background-color: #d4ebff;}#sk-container-id-18 div.sk-parallel-item::after {content: \"\";width: 100%;border-bottom: 1px solid gray;flex-grow: 1;}#sk-container-id-18 div.sk-label:hover label.sk-toggleable__label {background-color: #d4ebff;}#sk-container-id-18 div.sk-serial::before {content: \"\";position: absolute;border-left: 1px solid gray;box-sizing: border-box;top: 0;bottom: 0;left: 50%;z-index: 0;}#sk-container-id-18 div.sk-serial {display: flex;flex-direction: column;align-items: center;background-color: white;padding-right: 0.2em;padding-left: 0.2em;position: relative;}#sk-container-id-18 div.sk-item {position: relative;z-index: 1;}#sk-container-id-18 div.sk-parallel {display: flex;align-items: stretch;justify-content: center;background-color: white;position: relative;}#sk-container-id-18 div.sk-item::before, #sk-container-id-18 div.sk-parallel-item::before {content: \"\";position: absolute;border-left: 1px solid gray;box-sizing: border-box;top: 0;bottom: 0;left: 50%;z-index: -1;}#sk-container-id-18 div.sk-parallel-item {display: flex;flex-direction: column;z-index: 1;position: relative;background-color: white;}#sk-container-id-18 div.sk-parallel-item:first-child::after {align-self: flex-end;width: 50%;}#sk-container-id-18 div.sk-parallel-item:last-child::after {align-self: flex-start;width: 50%;}#sk-container-id-18 div.sk-parallel-item:only-child::after {width: 0;}#sk-container-id-18 div.sk-dashed-wrapped {border: 1px dashed gray;margin: 0 0.4em 0.5em 0.4em;box-sizing: border-box;padding-bottom: 0.4em;background-color: white;}#sk-container-id-18 div.sk-label label {font-family: monospace;font-weight: bold;display: inline-block;line-height: 1.2em;}#sk-container-id-18 div.sk-label-container {text-align: center;}#sk-container-id-18 div.sk-container {/* jupyter's `normalize.less` sets `[hidden] { display: none; }` but bootstrap.min.css set `[hidden] { display: none !important; }` so we also need the `!important` here to be able to override the default hidden behavior on the sphinx rendered scikit-learn.org. See: https://github.com/scikit-learn/scikit-learn/issues/21755 */display: inline-block !important;position: relative;}#sk-container-id-18 div.sk-text-repr-fallback {display: none;}</style><div id=\"sk-container-id-18\" class=\"sk-top-container\"><div class=\"sk-text-repr-fallback\"><pre>Pipeline(steps=[(&#x27;functiontransformer&#x27;,\n",
              "                 FunctionTransformer(func=&lt;function fill_missing_data at 0x7aaa5845b640&gt;)),\n",
              "                (&#x27;columntransformer&#x27;,\n",
              "                 ColumnTransformer(remainder=&#x27;passthrough&#x27;,\n",
              "                                   transformers=[(&#x27;onehotencoder&#x27;,\n",
              "                                                  OneHotEncoder(handle_unknown=&#x27;ignore&#x27;),\n",
              "                                                  [&#x27;diet&#x27;, &#x27;drinks&#x27;, &#x27;drugs&#x27;,\n",
              "                                                   &#x27;education&#x27;, &#x27;ethnicity&#x27;,\n",
              "                                                   &#x27;job&#x27;, &#x27;offspring&#x27;,\n",
              "                                                   &#x27;orientation&#x27;, &#x27;pets&#x27;,\n",
              "                                                   &#x27;religion&#x27;, &#x27;sex&#x27;, &#x27;s...\n",
              "                               feature_types=None, gamma=0.0, grow_policy=None,\n",
              "                               importance_type=None,\n",
              "                               interaction_constraints=None, learning_rate=0.1,\n",
              "                               max_bin=None, max_cat_threshold=None,\n",
              "                               max_cat_to_onehot=None, max_delta_step=None,\n",
              "                               max_depth=5, max_leaves=None,\n",
              "                               min_child_weight=20, missing=nan,\n",
              "                               monotone_constraints=None, multi_strategy=None,\n",
              "                               n_estimators=200, n_jobs=None,\n",
              "                               num_parallel_tree=None, random_state=None, ...))])</pre><b>In a Jupyter environment, please rerun this cell to show the HTML representation or trust the notebook. <br />On GitHub, the HTML representation is unable to render, please try loading this page with nbviewer.org.</b></div><div class=\"sk-container\" hidden><div class=\"sk-item sk-dashed-wrapped\"><div class=\"sk-label-container\"><div class=\"sk-label sk-toggleable\"><input class=\"sk-toggleable__control sk-hidden--visually\" id=\"sk-estimator-id-123\" type=\"checkbox\" ><label for=\"sk-estimator-id-123\" class=\"sk-toggleable__label sk-toggleable__label-arrow\">Pipeline</label><div class=\"sk-toggleable__content\"><pre>Pipeline(steps=[(&#x27;functiontransformer&#x27;,\n",
              "                 FunctionTransformer(func=&lt;function fill_missing_data at 0x7aaa5845b640&gt;)),\n",
              "                (&#x27;columntransformer&#x27;,\n",
              "                 ColumnTransformer(remainder=&#x27;passthrough&#x27;,\n",
              "                                   transformers=[(&#x27;onehotencoder&#x27;,\n",
              "                                                  OneHotEncoder(handle_unknown=&#x27;ignore&#x27;),\n",
              "                                                  [&#x27;diet&#x27;, &#x27;drinks&#x27;, &#x27;drugs&#x27;,\n",
              "                                                   &#x27;education&#x27;, &#x27;ethnicity&#x27;,\n",
              "                                                   &#x27;job&#x27;, &#x27;offspring&#x27;,\n",
              "                                                   &#x27;orientation&#x27;, &#x27;pets&#x27;,\n",
              "                                                   &#x27;religion&#x27;, &#x27;sex&#x27;, &#x27;s...\n",
              "                               feature_types=None, gamma=0.0, grow_policy=None,\n",
              "                               importance_type=None,\n",
              "                               interaction_constraints=None, learning_rate=0.1,\n",
              "                               max_bin=None, max_cat_threshold=None,\n",
              "                               max_cat_to_onehot=None, max_delta_step=None,\n",
              "                               max_depth=5, max_leaves=None,\n",
              "                               min_child_weight=20, missing=nan,\n",
              "                               monotone_constraints=None, multi_strategy=None,\n",
              "                               n_estimators=200, n_jobs=None,\n",
              "                               num_parallel_tree=None, random_state=None, ...))])</pre></div></div></div><div class=\"sk-serial\"><div class=\"sk-item\"><div class=\"sk-estimator sk-toggleable\"><input class=\"sk-toggleable__control sk-hidden--visually\" id=\"sk-estimator-id-124\" type=\"checkbox\" ><label for=\"sk-estimator-id-124\" class=\"sk-toggleable__label sk-toggleable__label-arrow\">FunctionTransformer</label><div class=\"sk-toggleable__content\"><pre>FunctionTransformer(func=&lt;function fill_missing_data at 0x7aaa5845b640&gt;)</pre></div></div></div><div class=\"sk-item sk-dashed-wrapped\"><div class=\"sk-label-container\"><div class=\"sk-label sk-toggleable\"><input class=\"sk-toggleable__control sk-hidden--visually\" id=\"sk-estimator-id-125\" type=\"checkbox\" ><label for=\"sk-estimator-id-125\" class=\"sk-toggleable__label sk-toggleable__label-arrow\">columntransformer: ColumnTransformer</label><div class=\"sk-toggleable__content\"><pre>ColumnTransformer(remainder=&#x27;passthrough&#x27;,\n",
              "                  transformers=[(&#x27;onehotencoder&#x27;,\n",
              "                                 OneHotEncoder(handle_unknown=&#x27;ignore&#x27;),\n",
              "                                 [&#x27;diet&#x27;, &#x27;drinks&#x27;, &#x27;drugs&#x27;, &#x27;education&#x27;,\n",
              "                                  &#x27;ethnicity&#x27;, &#x27;job&#x27;, &#x27;offspring&#x27;,\n",
              "                                  &#x27;orientation&#x27;, &#x27;pets&#x27;, &#x27;religion&#x27;, &#x27;sex&#x27;,\n",
              "                                  &#x27;sign&#x27;, &#x27;smokes&#x27;, &#x27;speaks&#x27;, &#x27;status&#x27;])])</pre></div></div></div><div class=\"sk-parallel\"><div class=\"sk-parallel-item\"><div class=\"sk-item\"><div class=\"sk-label-container\"><div class=\"sk-label sk-toggleable\"><input class=\"sk-toggleable__control sk-hidden--visually\" id=\"sk-estimator-id-126\" type=\"checkbox\" ><label for=\"sk-estimator-id-126\" class=\"sk-toggleable__label sk-toggleable__label-arrow\">onehotencoder</label><div class=\"sk-toggleable__content\"><pre>[&#x27;diet&#x27;, &#x27;drinks&#x27;, &#x27;drugs&#x27;, &#x27;education&#x27;, &#x27;ethnicity&#x27;, &#x27;job&#x27;, &#x27;offspring&#x27;, &#x27;orientation&#x27;, &#x27;pets&#x27;, &#x27;religion&#x27;, &#x27;sex&#x27;, &#x27;sign&#x27;, &#x27;smokes&#x27;, &#x27;speaks&#x27;, &#x27;status&#x27;]</pre></div></div></div><div class=\"sk-serial\"><div class=\"sk-item\"><div class=\"sk-estimator sk-toggleable\"><input class=\"sk-toggleable__control sk-hidden--visually\" id=\"sk-estimator-id-127\" type=\"checkbox\" ><label for=\"sk-estimator-id-127\" class=\"sk-toggleable__label sk-toggleable__label-arrow\">OneHotEncoder</label><div class=\"sk-toggleable__content\"><pre>OneHotEncoder(handle_unknown=&#x27;ignore&#x27;)</pre></div></div></div></div></div></div><div class=\"sk-parallel-item\"><div class=\"sk-item\"><div class=\"sk-label-container\"><div class=\"sk-label sk-toggleable\"><input class=\"sk-toggleable__control sk-hidden--visually\" id=\"sk-estimator-id-128\" type=\"checkbox\" ><label for=\"sk-estimator-id-128\" class=\"sk-toggleable__label sk-toggleable__label-arrow\">remainder</label><div class=\"sk-toggleable__content\"><pre>[&#x27;id&#x27;, &#x27;age&#x27;, &#x27;height&#x27;, &#x27;income&#x27;]</pre></div></div></div><div class=\"sk-serial\"><div class=\"sk-item\"><div class=\"sk-estimator sk-toggleable\"><input class=\"sk-toggleable__control sk-hidden--visually\" id=\"sk-estimator-id-129\" type=\"checkbox\" ><label for=\"sk-estimator-id-129\" class=\"sk-toggleable__label sk-toggleable__label-arrow\">passthrough</label><div class=\"sk-toggleable__content\"><pre>passthrough</pre></div></div></div></div></div></div></div></div><div class=\"sk-item\"><div class=\"sk-estimator sk-toggleable\"><input class=\"sk-toggleable__control sk-hidden--visually\" id=\"sk-estimator-id-130\" type=\"checkbox\" ><label for=\"sk-estimator-id-130\" class=\"sk-toggleable__label sk-toggleable__label-arrow\">XGBClassifier</label><div class=\"sk-toggleable__content\"><pre>XGBClassifier(base_score=None, booster=None, callbacks=None,\n",
              "              colsample_bylevel=None, colsample_bynode=None,\n",
              "              colsample_bytree=0.7, device=None, early_stopping_rounds=None,\n",
              "              enable_categorical=False, eval_metric=None, feature_types=None,\n",
              "              gamma=0.0, grow_policy=None, importance_type=None,\n",
              "              interaction_constraints=None, learning_rate=0.1, max_bin=None,\n",
              "              max_cat_threshold=None, max_cat_to_onehot=None,\n",
              "              max_delta_step=None, max_depth=5, max_leaves=None,\n",
              "              min_child_weight=20, missing=nan, monotone_constraints=None,\n",
              "              multi_strategy=None, n_estimators=200, n_jobs=None,\n",
              "              num_parallel_tree=None, random_state=None, ...)</pre></div></div></div></div></div></div></div>"
            ],
            "text/plain": [
              "Pipeline(steps=[('functiontransformer',\n",
              "                 FunctionTransformer(func=<function fill_missing_data at 0x7aaa5845b640>)),\n",
              "                ('columntransformer',\n",
              "                 ColumnTransformer(remainder='passthrough',\n",
              "                                   transformers=[('onehotencoder',\n",
              "                                                  OneHotEncoder(handle_unknown='ignore'),\n",
              "                                                  ['diet', 'drinks', 'drugs',\n",
              "                                                   'education', 'ethnicity',\n",
              "                                                   'job', 'offspring',\n",
              "                                                   'orientation', 'pets',\n",
              "                                                   'religion', 'sex', 's...\n",
              "                               feature_types=None, gamma=0.0, grow_policy=None,\n",
              "                               importance_type=None,\n",
              "                               interaction_constraints=None, learning_rate=0.1,\n",
              "                               max_bin=None, max_cat_threshold=None,\n",
              "                               max_cat_to_onehot=None, max_delta_step=None,\n",
              "                               max_depth=5, max_leaves=None,\n",
              "                               min_child_weight=20, missing=nan,\n",
              "                               monotone_constraints=None, multi_strategy=None,\n",
              "                               n_estimators=200, n_jobs=None,\n",
              "                               num_parallel_tree=None, random_state=None, ...))])"
            ]
          },
          "execution_count": 242,
          "metadata": {},
          "output_type": "execute_result"
        }
      ],
      "source": [
        "best_pipe.fit(X_train, y_train)"
      ]
    },
    {
      "cell_type": "markdown",
      "metadata": {
        "id": "SDMH03YE3Z9V"
      },
      "source": [
        "### Pipeline Prediction"
      ]
    },
    {
      "cell_type": "code",
      "execution_count": null,
      "metadata": {
        "colab": {
          "background_save": true
        },
        "id": "udEMAkAUMNMH"
      },
      "outputs": [],
      "source": [
        "y_pred = best_pipe.predict(X_test)"
      ]
    },
    {
      "cell_type": "markdown",
      "metadata": {
        "id": "MUO9fZuD3bLT"
      },
      "source": [
        "### Pipeline Accuracy"
      ]
    },
    {
      "cell_type": "code",
      "execution_count": null,
      "metadata": {
        "colab": {
          "background_save": true
        },
        "id": "5LOgROl4MNgH",
        "outputId": "0ab77eb7-02cc-44b0-8528-63d9f58abc31"
      },
      "outputs": [
        {
          "name": "stdout",
          "output_type": "stream",
          "text": [
            "Accuracy: 0.60590\n"
          ]
        }
      ],
      "source": [
        "accuracy = accuracy_score(y_test, y_pred)\n",
        "print(f\"Accuracy: {accuracy:.5f}\")"
      ]
    },
    {
      "cell_type": "code",
      "execution_count": null,
      "metadata": {
        "colab": {
          "background_save": true
        },
        "id": "vdhzneBp85O7"
      },
      "outputs": [],
      "source": [
        "df_test = pd.read_csv('test.csv')\n",
        "y_pred = best_pipe.predict(df_test)"
      ]
    },
    {
      "cell_type": "code",
      "execution_count": null,
      "metadata": {
        "colab": {
          "background_save": true
        },
        "id": "DqC2oHMT_rxK"
      },
      "outputs": [],
      "source": [
        "df_pred = df_test[['id']].copy()\n",
        "df_pred['fit_body'] = y_pred\n",
        "df_pred['fit_body'] = df_pred['fit_body'].apply(lambda x: 'yes' if x > 0 else 'no')"
      ]
    },
    {
      "cell_type": "code",
      "execution_count": null,
      "metadata": {
        "colab": {
          "background_save": true
        },
        "id": "yc630MgJ6SgI"
      },
      "outputs": [],
      "source": [
        "df_pred.to_csv('submission_no2.csv', index=False)"
      ]
    },
    {
      "cell_type": "code",
      "execution_count": null,
      "metadata": {
        "colab": {
          "background_save": true
        },
        "id": "dN6sR0SE4X4h"
      },
      "outputs": [],
      "source": [
        "from matplotlib import pyplot as plt\n",
        "import seaborn as sns"
      ]
    },
    {
      "cell_type": "code",
      "execution_count": null,
      "metadata": {
        "colab": {
          "background_save": true
        },
        "id": "8A5VbGaM4X4h",
        "outputId": "a7222c27-d4cd-44c3-91d7-75eb6e9d6b8b"
      },
      "outputs": [
        {
          "data": {
            "text/plain": [
              "fit_body\n",
              "yes    8314\n",
              "no     5299\n",
              "Name: count, dtype: int64"
            ]
          },
          "execution_count": 249,
          "metadata": {},
          "output_type": "execute_result"
        }
      ],
      "source": [
        "# @title distribution of fit_body\n",
        "\n",
        "category_counts = df_pred['fit_body'].value_counts()\n",
        "category_counts"
      ]
    },
    {
      "cell_type": "code",
      "execution_count": null,
      "metadata": {
        "colab": {
          "background_save": true
        },
        "id": "hcV6GcA04X4h",
        "outputId": "014b065c-fc71-4ec6-8cf1-b7b3db094fee"
      },
      "outputs": [
        {
          "data": {
            "image/png": "[encoded data removed]",
            "text/plain": [
              "<Figure size 800x800 with 1 Axes>"
            ]
          },
          "metadata": {},
          "output_type": "display_data"
        }
      ],
      "source": [
        "# @title distribution of fit_body\n",
        "\n",
        "plt.figure(figsize=(8, 8))  # Set the figure size\n",
        "plt.pie(category_counts, labels=category_counts.index, autopct='%1.1f%%', startangle=140)\n",
        "plt.title('Distribution of Fit Body')  # Set the title of the pie chart\n",
        "plt.axis('equal')  # Equal aspect ratio ensures that pie is drawn as a circle\n",
        "plt.show()"
      ]
    },
    {
      "cell_type": "code",
      "execution_count": null,
      "metadata": {
        "colab": {
          "background_save": true
        },
        "id": "ZImUmGhA4X4h",
        "outputId": "90bcfc62-7ab2-4740-9641-0b9a5b47267c"
      },
      "outputs": [
        {
          "data": {
            "image/png": "[encoded data removed]",
            "text/plain": [
              "<Figure size 640x480 with 1 Axes>"
            ]
          },
          "metadata": {},
          "output_type": "display_data"
        }
      ],
      "source": [
        "# @title fit_body\n",
        "df_pred.groupby('fit_body').size().plot(kind='barh', color=sns.palettes.mpl_palette('Dark2'))\n",
        "plt.gca().spines[['top', 'right',]].set_visible(False)"
      ]
    },
    {
      "cell_type": "markdown",
      "metadata": {
        "id": "OfQCMzsp3i8E"
      },
      "source": [
        "## Model Pipeline #3 XGBClassifier with SelectFromModel"
      ]
    },
    {
      "cell_type": "markdown",
      "metadata": {
        "id": "co1ecNKr3w3f"
      },
      "source": [
        "### SelectFromModel Feature Selection"
      ]
    },
    {
      "cell_type": "code",
      "execution_count": null,
      "metadata": {
        "colab": {
          "background_save": true
        },
        "id": "Y5f3hvIKMojx"
      },
      "outputs": [],
      "source": [
        "from sklearn.feature_selection import SelectFromModel\n",
        "\n",
        "# Get feature importances\n",
        "importances = pipe.named_steps['xgbclassifier'].feature_importances_"
      ]
    },
    {
      "cell_type": "code",
      "execution_count": null,
      "metadata": {
        "colab": {
          "background_save": true
        },
        "id": "DmYN5cdUNXNZ"
      },
      "outputs": [],
      "source": [
        "# Determine threshold for feature selection (e.g., top 10% important features)\n",
        "threshold = np.percentile(importances, 50)\n",
        "\n",
        "# Create a feature selector based on XGBoost feature importances\n",
        "selector = SelectFromModel(pipe.named_steps['xgbclassifier'], threshold=threshold)"
      ]
    },
    {
      "cell_type": "markdown",
      "metadata": {
        "id": "8dJAbu2Z37MZ"
      },
      "source": [
        "### Creating Pipeline"
      ]
    },
    {
      "cell_type": "code",
      "execution_count": null,
      "metadata": {
        "colab": {
          "background_save": true
        },
        "id": "4LXZllbfNZyF"
      },
      "outputs": [],
      "source": [
        "from sklearn.decomposition import TruncatedSVD\n",
        "from imblearn.over_sampling import SMOTE\n",
        "from sklearn.preprocessing import StandardScaler\n",
        "\n",
        "# Update pipeline with feature selector\n",
        "final_pipe = make_pipeline(\n",
        "    preprocessor,\n",
        "    selector,\n",
        "    XGBClassifier(random_state=42)  # XGBoost classifier\n",
        ")"
      ]
    },
    {
      "cell_type": "markdown",
      "metadata": {
        "id": "n7wHR73f4H6h"
      },
      "source": [
        "### Pipeline Fitting"
      ]
    },
    {
      "cell_type": "code",
      "execution_count": null,
      "metadata": {
        "colab": {
          "background_save": true
        },
        "id": "_3wYieFc4IVN",
        "outputId": "cf3cac52-79b2-471b-fd80-38f0277d8249"
      },
      "outputs": [
        {
          "data": {
            "text/html": [
              "<style>#sk-container-id-19 {color: black;background-color: white;}#sk-container-id-19 pre{padding: 0;}#sk-container-id-19 div.sk-toggleable {background-color: white;}#sk-container-id-19 label.sk-toggleable__label {cursor: pointer;display: block;width: 100%;margin-bottom: 0;padding: 0.3em;box-sizing: border-box;text-align: center;}#sk-container-id-19 label.sk-toggleable__label-arrow:before {content: \"▸\";float: left;margin-right: 0.25em;color: #696969;}#sk-container-id-19 label.sk-toggleable__label-arrow:hover:before {color: black;}#sk-container-id-19 div.sk-estimator:hover label.sk-toggleable__label-arrow:before {color: black;}#sk-container-id-19 div.sk-toggleable__content {max-height: 0;max-width: 0;overflow: hidden;text-align: left;background-color: #f0f8ff;}#sk-container-id-19 div.sk-toggleable__content pre {margin: 0.2em;color: black;border-radius: 0.25em;background-color: #f0f8ff;}#sk-container-id-19 input.sk-toggleable__control:checked~div.sk-toggleable__content {max-height: 200px;max-width: 100%;overflow: auto;}#sk-container-id-19 input.sk-toggleable__control:checked~label.sk-toggleable__label-arrow:before {content: \"▾\";}#sk-container-id-19 div.sk-estimator input.sk-toggleable__control:checked~label.sk-toggleable__label {background-color: #d4ebff;}#sk-container-id-19 div.sk-label input.sk-toggleable__control:checked~label.sk-toggleable__label {background-color: #d4ebff;}#sk-container-id-19 input.sk-hidden--visually {border: 0;clip: rect(1px 1px 1px 1px);clip: rect(1px, 1px, 1px, 1px);height: 1px;margin: -1px;overflow: hidden;padding: 0;position: absolute;width: 1px;}#sk-container-id-19 div.sk-estimator {font-family: monospace;background-color: #f0f8ff;border: 1px dotted black;border-radius: 0.25em;box-sizing: border-box;margin-bottom: 0.5em;}#sk-container-id-19 div.sk-estimator:hover {background-color: #d4ebff;}#sk-container-id-19 div.sk-parallel-item::after {content: \"\";width: 100%;border-bottom: 1px solid gray;flex-grow: 1;}#sk-container-id-19 div.sk-label:hover label.sk-toggleable__label {background-color: #d4ebff;}#sk-container-id-19 div.sk-serial::before {content: \"\";position: absolute;border-left: 1px solid gray;box-sizing: border-box;top: 0;bottom: 0;left: 50%;z-index: 0;}#sk-container-id-19 div.sk-serial {display: flex;flex-direction: column;align-items: center;background-color: white;padding-right: 0.2em;padding-left: 0.2em;position: relative;}#sk-container-id-19 div.sk-item {position: relative;z-index: 1;}#sk-container-id-19 div.sk-parallel {display: flex;align-items: stretch;justify-content: center;background-color: white;position: relative;}#sk-container-id-19 div.sk-item::before, #sk-container-id-19 div.sk-parallel-item::before {content: \"\";position: absolute;border-left: 1px solid gray;box-sizing: border-box;top: 0;bottom: 0;left: 50%;z-index: -1;}#sk-container-id-19 div.sk-parallel-item {display: flex;flex-direction: column;z-index: 1;position: relative;background-color: white;}#sk-container-id-19 div.sk-parallel-item:first-child::after {align-self: flex-end;width: 50%;}#sk-container-id-19 div.sk-parallel-item:last-child::after {align-self: flex-start;width: 50%;}#sk-container-id-19 div.sk-parallel-item:only-child::after {width: 0;}#sk-container-id-19 div.sk-dashed-wrapped {border: 1px dashed gray;margin: 0 0.4em 0.5em 0.4em;box-sizing: border-box;padding-bottom: 0.4em;background-color: white;}#sk-container-id-19 div.sk-label label {font-family: monospace;font-weight: bold;display: inline-block;line-height: 1.2em;}#sk-container-id-19 div.sk-label-container {text-align: center;}#sk-container-id-19 div.sk-container {/* jupyter's `normalize.less` sets `[hidden] { display: none; }` but bootstrap.min.css set `[hidden] { display: none !important; }` so we also need the `!important` here to be able to override the default hidden behavior on the sphinx rendered scikit-learn.org. See: https://github.com/scikit-learn/scikit-learn/issues/21755 */display: inline-block !important;position: relative;}#sk-container-id-19 div.sk-text-repr-fallback {display: none;}</style><div id=\"sk-container-id-19\" class=\"sk-top-container\"><div class=\"sk-text-repr-fallback\"><pre>Pipeline(steps=[(&#x27;columntransformer&#x27;,\n",
              "                 ColumnTransformer(remainder=&#x27;passthrough&#x27;,\n",
              "                                   transformers=[(&#x27;onehotencoder&#x27;,\n",
              "                                                  OneHotEncoder(handle_unknown=&#x27;ignore&#x27;),\n",
              "                                                  [&#x27;diet&#x27;, &#x27;drinks&#x27;, &#x27;drugs&#x27;,\n",
              "                                                   &#x27;education&#x27;, &#x27;ethnicity&#x27;,\n",
              "                                                   &#x27;job&#x27;, &#x27;offspring&#x27;,\n",
              "                                                   &#x27;orientation&#x27;, &#x27;pets&#x27;,\n",
              "                                                   &#x27;religion&#x27;, &#x27;sex&#x27;, &#x27;sign&#x27;,\n",
              "                                                   &#x27;smokes&#x27;, &#x27;speaks&#x27;,\n",
              "                                                   &#x27;status&#x27;])])),\n",
              "                (&#x27;selectfrommodel&#x27;,\n",
              "                 SelectFromModel(estimator=XGBClassifie...\n",
              "                               feature_types=None, gamma=None, grow_policy=None,\n",
              "                               importance_type=None,\n",
              "                               interaction_constraints=None, learning_rate=None,\n",
              "                               max_bin=None, max_cat_threshold=None,\n",
              "                               max_cat_to_onehot=None, max_delta_step=None,\n",
              "                               max_depth=None, max_leaves=None,\n",
              "                               min_child_weight=None, missing=nan,\n",
              "                               monotone_constraints=None, multi_strategy=None,\n",
              "                               n_estimators=None, n_jobs=None,\n",
              "                               num_parallel_tree=None, random_state=42, ...))])</pre><b>In a Jupyter environment, please rerun this cell to show the HTML representation or trust the notebook. <br />On GitHub, the HTML representation is unable to render, please try loading this page with nbviewer.org.</b></div><div class=\"sk-container\" hidden><div class=\"sk-item sk-dashed-wrapped\"><div class=\"sk-label-container\"><div class=\"sk-label sk-toggleable\"><input class=\"sk-toggleable__control sk-hidden--visually\" id=\"sk-estimator-id-131\" type=\"checkbox\" ><label for=\"sk-estimator-id-131\" class=\"sk-toggleable__label sk-toggleable__label-arrow\">Pipeline</label><div class=\"sk-toggleable__content\"><pre>Pipeline(steps=[(&#x27;columntransformer&#x27;,\n",
              "                 ColumnTransformer(remainder=&#x27;passthrough&#x27;,\n",
              "                                   transformers=[(&#x27;onehotencoder&#x27;,\n",
              "                                                  OneHotEncoder(handle_unknown=&#x27;ignore&#x27;),\n",
              "                                                  [&#x27;diet&#x27;, &#x27;drinks&#x27;, &#x27;drugs&#x27;,\n",
              "                                                   &#x27;education&#x27;, &#x27;ethnicity&#x27;,\n",
              "                                                   &#x27;job&#x27;, &#x27;offspring&#x27;,\n",
              "                                                   &#x27;orientation&#x27;, &#x27;pets&#x27;,\n",
              "                                                   &#x27;religion&#x27;, &#x27;sex&#x27;, &#x27;sign&#x27;,\n",
              "                                                   &#x27;smokes&#x27;, &#x27;speaks&#x27;,\n",
              "                                                   &#x27;status&#x27;])])),\n",
              "                (&#x27;selectfrommodel&#x27;,\n",
              "                 SelectFromModel(estimator=XGBClassifie...\n",
              "                               feature_types=None, gamma=None, grow_policy=None,\n",
              "                               importance_type=None,\n",
              "                               interaction_constraints=None, learning_rate=None,\n",
              "                               max_bin=None, max_cat_threshold=None,\n",
              "                               max_cat_to_onehot=None, max_delta_step=None,\n",
              "                               max_depth=None, max_leaves=None,\n",
              "                               min_child_weight=None, missing=nan,\n",
              "                               monotone_constraints=None, multi_strategy=None,\n",
              "                               n_estimators=None, n_jobs=None,\n",
              "                               num_parallel_tree=None, random_state=42, ...))])</pre></div></div></div><div class=\"sk-serial\"><div class=\"sk-item sk-dashed-wrapped\"><div class=\"sk-label-container\"><div class=\"sk-label sk-toggleable\"><input class=\"sk-toggleable__control sk-hidden--visually\" id=\"sk-estimator-id-132\" type=\"checkbox\" ><label for=\"sk-estimator-id-132\" class=\"sk-toggleable__label sk-toggleable__label-arrow\">columntransformer: ColumnTransformer</label><div class=\"sk-toggleable__content\"><pre>ColumnTransformer(remainder=&#x27;passthrough&#x27;,\n",
              "                  transformers=[(&#x27;onehotencoder&#x27;,\n",
              "                                 OneHotEncoder(handle_unknown=&#x27;ignore&#x27;),\n",
              "                                 [&#x27;diet&#x27;, &#x27;drinks&#x27;, &#x27;drugs&#x27;, &#x27;education&#x27;,\n",
              "                                  &#x27;ethnicity&#x27;, &#x27;job&#x27;, &#x27;offspring&#x27;,\n",
              "                                  &#x27;orientation&#x27;, &#x27;pets&#x27;, &#x27;religion&#x27;, &#x27;sex&#x27;,\n",
              "                                  &#x27;sign&#x27;, &#x27;smokes&#x27;, &#x27;speaks&#x27;, &#x27;status&#x27;])])</pre></div></div></div><div class=\"sk-parallel\"><div class=\"sk-parallel-item\"><div class=\"sk-item\"><div class=\"sk-label-container\"><div class=\"sk-label sk-toggleable\"><input class=\"sk-toggleable__control sk-hidden--visually\" id=\"sk-estimator-id-133\" type=\"checkbox\" ><label for=\"sk-estimator-id-133\" class=\"sk-toggleable__label sk-toggleable__label-arrow\">onehotencoder</label><div class=\"sk-toggleable__content\"><pre>[&#x27;diet&#x27;, &#x27;drinks&#x27;, &#x27;drugs&#x27;, &#x27;education&#x27;, &#x27;ethnicity&#x27;, &#x27;job&#x27;, &#x27;offspring&#x27;, &#x27;orientation&#x27;, &#x27;pets&#x27;, &#x27;religion&#x27;, &#x27;sex&#x27;, &#x27;sign&#x27;, &#x27;smokes&#x27;, &#x27;speaks&#x27;, &#x27;status&#x27;]</pre></div></div></div><div class=\"sk-serial\"><div class=\"sk-item\"><div class=\"sk-estimator sk-toggleable\"><input class=\"sk-toggleable__control sk-hidden--visually\" id=\"sk-estimator-id-134\" type=\"checkbox\" ><label for=\"sk-estimator-id-134\" class=\"sk-toggleable__label sk-toggleable__label-arrow\">OneHotEncoder</label><div class=\"sk-toggleable__content\"><pre>OneHotEncoder(handle_unknown=&#x27;ignore&#x27;)</pre></div></div></div></div></div></div><div class=\"sk-parallel-item\"><div class=\"sk-item\"><div class=\"sk-label-container\"><div class=\"sk-label sk-toggleable\"><input class=\"sk-toggleable__control sk-hidden--visually\" id=\"sk-estimator-id-135\" type=\"checkbox\" ><label for=\"sk-estimator-id-135\" class=\"sk-toggleable__label sk-toggleable__label-arrow\">remainder</label><div class=\"sk-toggleable__content\"><pre>[&#x27;id&#x27;, &#x27;age&#x27;, &#x27;height&#x27;, &#x27;income&#x27;]</pre></div></div></div><div class=\"sk-serial\"><div class=\"sk-item\"><div class=\"sk-estimator sk-toggleable\"><input class=\"sk-toggleable__control sk-hidden--visually\" id=\"sk-estimator-id-136\" type=\"checkbox\" ><label for=\"sk-estimator-id-136\" class=\"sk-toggleable__label sk-toggleable__label-arrow\">passthrough</label><div class=\"sk-toggleable__content\"><pre>passthrough</pre></div></div></div></div></div></div></div></div><div class=\"sk-item sk-dashed-wrapped\"><div class=\"sk-label-container\"><div class=\"sk-label sk-toggleable\"><input class=\"sk-toggleable__control sk-hidden--visually\" id=\"sk-estimator-id-137\" type=\"checkbox\" ><label for=\"sk-estimator-id-137\" class=\"sk-toggleable__label sk-toggleable__label-arrow\">selectfrommodel: SelectFromModel</label><div class=\"sk-toggleable__content\"><pre>SelectFromModel(estimator=XGBClassifier(base_score=None, booster=None,\n",
              "                                        callbacks=None, colsample_bylevel=None,\n",
              "                                        colsample_bynode=None,\n",
              "                                        colsample_bytree=None, device=None,\n",
              "                                        early_stopping_rounds=None,\n",
              "                                        enable_categorical=False,\n",
              "                                        eval_metric=None, feature_types=None,\n",
              "                                        gamma=None, grow_policy=None,\n",
              "                                        importance_type=None,\n",
              "                                        interaction_constraints=None,\n",
              "                                        learning_rate=None, max_bin=None,\n",
              "                                        max_cat_threshold=None,\n",
              "                                        max_cat_to_onehot=None,\n",
              "                                        max_delta_step=None, max_depth=None,\n",
              "                                        max_leaves=None, min_child_weight=None,\n",
              "                                        missing=nan, monotone_constraints=None,\n",
              "                                        multi_strategy=None, n_estimators=None,\n",
              "                                        n_jobs=None, num_parallel_tree=None,\n",
              "                                        random_state=None, ...),\n",
              "                threshold=0.0)</pre></div></div></div><div class=\"sk-parallel\"><div class=\"sk-parallel-item\"><div class=\"sk-item\"><div class=\"sk-label-container\"><div class=\"sk-label sk-toggleable\"><input class=\"sk-toggleable__control sk-hidden--visually\" id=\"sk-estimator-id-138\" type=\"checkbox\" ><label for=\"sk-estimator-id-138\" class=\"sk-toggleable__label sk-toggleable__label-arrow\">estimator: XGBClassifier</label><div class=\"sk-toggleable__content\"><pre>XGBClassifier(base_score=None, booster=None, callbacks=None,\n",
              "              colsample_bylevel=None, colsample_bynode=None,\n",
              "              colsample_bytree=None, device=None, early_stopping_rounds=None,\n",
              "              enable_categorical=False, eval_metric=None, feature_types=None,\n",
              "              gamma=None, grow_policy=None, importance_type=None,\n",
              "              interaction_constraints=None, learning_rate=None, max_bin=None,\n",
              "              max_cat_threshold=None, max_cat_to_onehot=None,\n",
              "              max_delta_step=None, max_depth=None, max_leaves=None,\n",
              "              min_child_weight=None, missing=nan, monotone_constraints=None,\n",
              "              multi_strategy=None, n_estimators=None, n_jobs=None,\n",
              "              num_parallel_tree=None, random_state=None, ...)</pre></div></div></div><div class=\"sk-serial\"><div class=\"sk-item\"><div class=\"sk-estimator sk-toggleable\"><input class=\"sk-toggleable__control sk-hidden--visually\" id=\"sk-estimator-id-139\" type=\"checkbox\" ><label for=\"sk-estimator-id-139\" class=\"sk-toggleable__label sk-toggleable__label-arrow\">XGBClassifier</label><div class=\"sk-toggleable__content\"><pre>XGBClassifier(base_score=None, booster=None, callbacks=None,\n",
              "              colsample_bylevel=None, colsample_bynode=None,\n",
              "              colsample_bytree=None, device=None, early_stopping_rounds=None,\n",
              "              enable_categorical=False, eval_metric=None, feature_types=None,\n",
              "              gamma=None, grow_policy=None, importance_type=None,\n",
              "              interaction_constraints=None, learning_rate=None, max_bin=None,\n",
              "              max_cat_threshold=None, max_cat_to_onehot=None,\n",
              "              max_delta_step=None, max_depth=None, max_leaves=None,\n",
              "              min_child_weight=None, missing=nan, monotone_constraints=None,\n",
              "              multi_strategy=None, n_estimators=None, n_jobs=None,\n",
              "              num_parallel_tree=None, random_state=None, ...)</pre></div></div></div></div></div></div></div></div><div class=\"sk-item\"><div class=\"sk-estimator sk-toggleable\"><input class=\"sk-toggleable__control sk-hidden--visually\" id=\"sk-estimator-id-140\" type=\"checkbox\" ><label for=\"sk-estimator-id-140\" class=\"sk-toggleable__label sk-toggleable__label-arrow\">XGBClassifier</label><div class=\"sk-toggleable__content\"><pre>XGBClassifier(base_score=None, booster=None, callbacks=None,\n",
              "              colsample_bylevel=None, colsample_bynode=None,\n",
              "              colsample_bytree=None, device=None, early_stopping_rounds=None,\n",
              "              enable_categorical=False, eval_metric=None, feature_types=None,\n",
              "              gamma=None, grow_policy=None, importance_type=None,\n",
              "              interaction_constraints=None, learning_rate=None, max_bin=None,\n",
              "              max_cat_threshold=None, max_cat_to_onehot=None,\n",
              "              max_delta_step=None, max_depth=None, max_leaves=None,\n",
              "              min_child_weight=None, missing=nan, monotone_constraints=None,\n",
              "              multi_strategy=None, n_estimators=None, n_jobs=None,\n",
              "              num_parallel_tree=None, random_state=42, ...)</pre></div></div></div></div></div></div></div>"
            ],
            "text/plain": [
              "Pipeline(steps=[('columntransformer',\n",
              "                 ColumnTransformer(remainder='passthrough',\n",
              "                                   transformers=[('onehotencoder',\n",
              "                                                  OneHotEncoder(handle_unknown='ignore'),\n",
              "                                                  ['diet', 'drinks', 'drugs',\n",
              "                                                   'education', 'ethnicity',\n",
              "                                                   'job', 'offspring',\n",
              "                                                   'orientation', 'pets',\n",
              "                                                   'religion', 'sex', 'sign',\n",
              "                                                   'smokes', 'speaks',\n",
              "                                                   'status'])])),\n",
              "                ('selectfrommodel',\n",
              "                 SelectFromModel(estimator=XGBClassifie...\n",
              "                               feature_types=None, gamma=None, grow_policy=None,\n",
              "                               importance_type=None,\n",
              "                               interaction_constraints=None, learning_rate=None,\n",
              "                               max_bin=None, max_cat_threshold=None,\n",
              "                               max_cat_to_onehot=None, max_delta_step=None,\n",
              "                               max_depth=None, max_leaves=None,\n",
              "                               min_child_weight=None, missing=nan,\n",
              "                               monotone_constraints=None, multi_strategy=None,\n",
              "                               n_estimators=None, n_jobs=None,\n",
              "                               num_parallel_tree=None, random_state=42, ...))])"
            ]
          },
          "execution_count": 255,
          "metadata": {},
          "output_type": "execute_result"
        }
      ],
      "source": [
        "final_pipe.fit(X_train, y_train)"
      ]
    },
    {
      "cell_type": "markdown",
      "metadata": {
        "id": "0A4kKIp4393d"
      },
      "source": [
        "### Pipeline Evaluation"
      ]
    },
    {
      "cell_type": "code",
      "execution_count": null,
      "metadata": {
        "id": "oWDu7kTiPNwB"
      },
      "outputs": [],
      "source": [
        "# Evaluate final pipeline using cross-validation\n",
        "cv_scores = cross_val_score(final_pipe, X_train, y_train, cv=5, scoring='accuracy')\n",
        "print(\"Cross-Validation Scores:\", cv_scores)\n",
        "print(\"Mean CV Score:\", np.mean(cv_scores))"
      ]
    },
    {
      "cell_type": "markdown",
      "metadata": {
        "id": "Z-NjvU8M4Aiv"
      },
      "source": [
        "### Pipeline Prediction"
      ]
    },
    {
      "cell_type": "code",
      "execution_count": null,
      "metadata": {
        "colab": {
          "background_save": true
        },
        "id": "QyFsTIfZNf7X"
      },
      "outputs": [],
      "source": [
        "y_pred = final_pipe.predict(X_test)"
      ]
    },
    {
      "cell_type": "markdown",
      "metadata": {
        "id": "z7i-4lde4C4T"
      },
      "source": [
        "### Pipeline Accuracy"
      ]
    },
    {
      "cell_type": "code",
      "execution_count": null,
      "metadata": {
        "colab": {
          "background_save": true
        },
        "id": "x5sj6O5mNjHb",
        "outputId": "df9fa4c4-d7bd-4ffb-b4b9-46520035bee5"
      },
      "outputs": [
        {
          "name": "stdout",
          "output_type": "stream",
          "text": [
            "Accuracy: 0.589128\n"
          ]
        }
      ],
      "source": [
        "accuracy = accuracy_score(y_test, y_pred)\n",
        "print(f\"Accuracy: {accuracy:.6f}\")"
      ]
    },
    {
      "cell_type": "code",
      "execution_count": null,
      "metadata": {
        "colab": {
          "background_save": true
        },
        "id": "Dr3m8iozVNEd",
        "outputId": "7d8a1e67-6a31-474c-c12e-fffeb8194cfc"
      },
      "outputs": [
        {
          "data": {
            "application/vnd.google.colaboratory.intrinsic+json": {
              "summary": "{\n  \"name\": \"df_test\",\n  \"rows\": 13613,\n  \"fields\": [\n    {\n      \"column\": \"id\",\n      \"properties\": {\n        \"dtype\": \"number\",\n        \"std\": 15759,\n        \"min\": 1,\n        \"max\": 54451,\n        \"num_unique_values\": 13613,\n        \"samples\": [\n          5479,\n          43772,\n          49735\n        ],\n        \"semantic_type\": \"\",\n        \"description\": \"\"\n      }\n    },\n    {\n      \"column\": \"age\",\n      \"properties\": {\n        \"dtype\": \"number\",\n        \"std\": 9,\n        \"min\": 17,\n        \"max\": 109,\n        \"num_unique_values\": 55,\n        \"samples\": [\n          58,\n          54,\n          52\n        ],\n        \"semantic_type\": \"\",\n        \"description\": \"\"\n      }\n    },\n    {\n      \"column\": \"diet\",\n      \"properties\": {\n        \"dtype\": \"category\",\n        \"num_unique_values\": 18,\n        \"samples\": [\n          \"mostly anything\",\n          \"strictly anything\",\n          \"vegetarian\"\n        ],\n        \"semantic_type\": \"\",\n        \"description\": \"\"\n      }\n    },\n    {\n      \"column\": \"drinks\",\n      \"properties\": {\n        \"dtype\": \"category\",\n        \"num_unique_values\": 6,\n        \"samples\": [\n          \"socially\",\n          \"often\",\n          \"desperately\"\n        ],\n        \"semantic_type\": \"\",\n        \"description\": \"\"\n      }\n    },\n    {\n      \"column\": \"drugs\",\n      \"properties\": {\n        \"dtype\": \"category\",\n        \"num_unique_values\": 3,\n        \"samples\": [\n          \"never\",\n          \"sometimes\",\n          \"often\"\n        ],\n        \"semantic_type\": \"\",\n        \"description\": \"\"\n      }\n    },\n    {\n      \"column\": \"education\",\n      \"properties\": {\n        \"dtype\": \"category\",\n        \"num_unique_values\": 32,\n        \"samples\": [\n          \"space camp\",\n          \"dropped out of college/university\",\n          \"masters program\"\n        ],\n        \"semantic_type\": \"\",\n        \"description\": \"\"\n      }\n    },\n    {\n      \"column\": \"ethnicity\",\n      \"properties\": {\n        \"dtype\": \"category\",\n        \"num_unique_values\": 137,\n        \"samples\": [\n          \"native american, pacific islander, white, other\",\n          \"asian, middle eastern\",\n          \"asian, other\"\n        ],\n        \"semantic_type\": \"\",\n        \"description\": \"\"\n      }\n    },\n    {\n      \"column\": \"height\",\n      \"properties\": {\n        \"dtype\": \"number\",\n        \"std\": 3.9946629536962157,\n        \"min\": 6.0,\n        \"max\": 95.0,\n        \"num_unique_values\": 38,\n        \"samples\": [\n          80.0,\n          88.0,\n          68.0\n        ],\n        \"semantic_type\": \"\",\n        \"description\": \"\"\n      }\n    },\n    {\n      \"column\": \"income\",\n      \"properties\": {\n        \"dtype\": \"number\",\n        \"std\": 99866,\n        \"min\": -1,\n        \"max\": 1000000,\n        \"num_unique_values\": 13,\n        \"samples\": [\n          70000,\n          40000,\n          -1\n        ],\n        \"semantic_type\": \"\",\n        \"description\": \"\"\n      }\n    },\n    {\n      \"column\": \"job\",\n      \"properties\": {\n        \"dtype\": \"category\",\n        \"num_unique_values\": 21,\n        \"samples\": [\n          \"computer / hardware / software\",\n          \"clerical / administrative\",\n          \"rather not say\"\n        ],\n        \"semantic_type\": \"\",\n        \"description\": \"\"\n      }\n    },\n    {\n      \"column\": \"offspring\",\n      \"properties\": {\n        \"dtype\": \"category\",\n        \"num_unique_values\": 15,\n        \"samples\": [\n          \"has kids, and wants more\",\n          \"doesn&rsquo;t have kids, and doesn&rsquo;t want any\",\n          \"doesn&rsquo;t have kids, but might want them\"\n        ],\n        \"semantic_type\": \"\",\n        \"description\": \"\"\n      }\n    },\n    {\n      \"column\": \"orientation\",\n      \"properties\": {\n        \"dtype\": \"category\",\n        \"num_unique_values\": 3,\n        \"samples\": [\n          \"straight\",\n          \"gay\",\n          \"bisexual\"\n        ],\n        \"semantic_type\": \"\",\n        \"description\": \"\"\n      }\n    },\n    {\n      \"column\": \"pets\",\n      \"properties\": {\n        \"dtype\": \"category\",\n        \"num_unique_values\": 15,\n        \"samples\": [\n          \"dislikes dogs and dislikes cats\",\n          \"dislikes dogs and has cats\",\n          \"has cats\"\n        ],\n        \"semantic_type\": \"\",\n        \"description\": \"\"\n      }\n    },\n    {\n      \"column\": \"religion\",\n      \"properties\": {\n        \"dtype\": \"category\",\n        \"num_unique_values\": 45,\n        \"samples\": [\n          \"islam but not too serious about it\",\n          \"catholicism and somewhat serious about it\",\n          \"hinduism and laughing about it\"\n        ],\n        \"semantic_type\": \"\",\n        \"description\": \"\"\n      }\n    },\n    {\n      \"column\": \"sex\",\n      \"properties\": {\n        \"dtype\": \"category\",\n        \"num_unique_values\": 2,\n        \"samples\": [\n          \"f\",\n          \"m\"\n        ],\n        \"semantic_type\": \"\",\n        \"description\": \"\"\n      }\n    },\n    {\n      \"column\": \"sign\",\n      \"properties\": {\n        \"dtype\": \"category\",\n        \"num_unique_values\": 48,\n        \"samples\": [\n          \"taurus but it doesn&rsquo;t matter\",\n          \"aquarius and it matters a lot\"\n        ],\n        \"semantic_type\": \"\",\n        \"description\": \"\"\n      }\n    },\n    {\n      \"column\": \"smokes\",\n      \"properties\": {\n        \"dtype\": \"category\",\n        \"num_unique_values\": 5,\n        \"samples\": [\n          \"sometimes\",\n          \"yes\"\n        ],\n        \"semantic_type\": \"\",\n        \"description\": \"\"\n      }\n    },\n    {\n      \"column\": \"speaks\",\n      \"properties\": {\n        \"dtype\": \"category\",\n        \"num_unique_values\": 2368,\n        \"samples\": [\n          \"english (fluently), french (okay), chinese (okay), arabic (poorly), hebrew (okay)\",\n          \"english, indonesian, portuguese\"\n        ],\n        \"semantic_type\": \"\",\n        \"description\": \"\"\n      }\n    },\n    {\n      \"column\": \"status\",\n      \"properties\": {\n        \"dtype\": \"category\",\n        \"num_unique_values\": 5,\n        \"samples\": [\n          \"married\",\n          \"unknown\"\n        ],\n        \"semantic_type\": \"\",\n        \"description\": \"\"\n      }\n    }\n  ]\n}",
              "type": "dataframe",
              "variable_name": "df_test"
            },
            "text/html": [
              "\n",
              "  <div id=\"df-5a2e9caf-c1d7-4770-a697-1e3df3ba3ca4\" class=\"colab-df-container\">\n",
              "    <div>\n",
              "<style scoped>\n",
              "    .dataframe tbody tr th:only-of-type {\n",
              "        vertical-align: middle;\n",
              "    }\n",
              "\n",
              "    .dataframe tbody tr th {\n",
              "        vertical-align: top;\n",
              "    }\n",
              "\n",
              "    .dataframe thead th {\n",
              "        text-align: right;\n",
              "    }\n",
              "</style>\n",
              "<table border=\"1\" class=\"dataframe\">\n",
              "  <thead>\n",
              "    <tr style=\"text-align: right;\">\n",
              "      <th></th>\n",
              "      <th>id</th>\n",
              "      <th>age</th>\n",
              "      <th>diet</th>\n",
              "      <th>drinks</th>\n",
              "      <th>drugs</th>\n",
              "      <th>education</th>\n",
              "      <th>ethnicity</th>\n",
              "      <th>height</th>\n",
              "      <th>income</th>\n",
              "      <th>job</th>\n",
              "      <th>offspring</th>\n",
              "      <th>orientation</th>\n",
              "      <th>pets</th>\n",
              "      <th>religion</th>\n",
              "      <th>sex</th>\n",
              "      <th>sign</th>\n",
              "      <th>smokes</th>\n",
              "      <th>speaks</th>\n",
              "      <th>status</th>\n",
              "    </tr>\n",
              "  </thead>\n",
              "  <tbody>\n",
              "    <tr>\n",
              "      <th>0</th>\n",
              "      <td>30968</td>\n",
              "      <td>25</td>\n",
              "      <td>mostly anything</td>\n",
              "      <td>socially</td>\n",
              "      <td>never</td>\n",
              "      <td>graduated from college/university</td>\n",
              "      <td>asian, white</td>\n",
              "      <td>73.0</td>\n",
              "      <td>-1</td>\n",
              "      <td>computer / hardware / software</td>\n",
              "      <td>NaN</td>\n",
              "      <td>straight</td>\n",
              "      <td>NaN</td>\n",
              "      <td>agnosticism but not too serious about it</td>\n",
              "      <td>m</td>\n",
              "      <td>aquarius and it&amp;rsquo;s fun to think about</td>\n",
              "      <td>no</td>\n",
              "      <td>english</td>\n",
              "      <td>single</td>\n",
              "    </tr>\n",
              "    <tr>\n",
              "      <th>1</th>\n",
              "      <td>36173</td>\n",
              "      <td>22</td>\n",
              "      <td>NaN</td>\n",
              "      <td>often</td>\n",
              "      <td>NaN</td>\n",
              "      <td>working on college/university</td>\n",
              "      <td>asian, pacific islander</td>\n",
              "      <td>64.0</td>\n",
              "      <td>-1</td>\n",
              "      <td>student</td>\n",
              "      <td>NaN</td>\n",
              "      <td>straight</td>\n",
              "      <td>has cats</td>\n",
              "      <td>other but not too serious about it</td>\n",
              "      <td>f</td>\n",
              "      <td>libra and it&amp;rsquo;s fun to think about</td>\n",
              "      <td>sometimes</td>\n",
              "      <td>english (fluently), tagalog (okay), french (po...</td>\n",
              "      <td>single</td>\n",
              "    </tr>\n",
              "    <tr>\n",
              "      <th>2</th>\n",
              "      <td>32466</td>\n",
              "      <td>44</td>\n",
              "      <td>mostly anything</td>\n",
              "      <td>socially</td>\n",
              "      <td>never</td>\n",
              "      <td>graduated from college/university</td>\n",
              "      <td>white</td>\n",
              "      <td>73.0</td>\n",
              "      <td>-1</td>\n",
              "      <td>artistic / musical / writer</td>\n",
              "      <td>doesn&amp;rsquo;t have kids, but might want them</td>\n",
              "      <td>gay</td>\n",
              "      <td>has dogs</td>\n",
              "      <td>NaN</td>\n",
              "      <td>m</td>\n",
              "      <td>virgo but it doesn&amp;rsquo;t matter</td>\n",
              "      <td>no</td>\n",
              "      <td>english (fluently), italian (okay)</td>\n",
              "      <td>single</td>\n",
              "    </tr>\n",
              "    <tr>\n",
              "      <th>3</th>\n",
              "      <td>27038</td>\n",
              "      <td>28</td>\n",
              "      <td>NaN</td>\n",
              "      <td>socially</td>\n",
              "      <td>never</td>\n",
              "      <td>graduated from masters program</td>\n",
              "      <td>white</td>\n",
              "      <td>71.0</td>\n",
              "      <td>-1</td>\n",
              "      <td>NaN</td>\n",
              "      <td>NaN</td>\n",
              "      <td>straight</td>\n",
              "      <td>NaN</td>\n",
              "      <td>NaN</td>\n",
              "      <td>f</td>\n",
              "      <td>libra but it doesn&amp;rsquo;t matter</td>\n",
              "      <td>no</td>\n",
              "      <td>english (fluently), german (fluently), czech (...</td>\n",
              "      <td>single</td>\n",
              "    </tr>\n",
              "    <tr>\n",
              "      <th>4</th>\n",
              "      <td>17610</td>\n",
              "      <td>26</td>\n",
              "      <td>strictly anything</td>\n",
              "      <td>socially</td>\n",
              "      <td>sometimes</td>\n",
              "      <td>graduated from masters program</td>\n",
              "      <td>NaN</td>\n",
              "      <td>74.0</td>\n",
              "      <td>-1</td>\n",
              "      <td>education / academia</td>\n",
              "      <td>doesn&amp;rsquo;t want kids</td>\n",
              "      <td>straight</td>\n",
              "      <td>likes dogs</td>\n",
              "      <td>atheism and somewhat serious about it</td>\n",
              "      <td>m</td>\n",
              "      <td>scorpio but it doesn&amp;rsquo;t matter</td>\n",
              "      <td>NaN</td>\n",
              "      <td>english (fluently), french, japanese, spanish,...</td>\n",
              "      <td>single</td>\n",
              "    </tr>\n",
              "    <tr>\n",
              "      <th>...</th>\n",
              "      <td>...</td>\n",
              "      <td>...</td>\n",
              "      <td>...</td>\n",
              "      <td>...</td>\n",
              "      <td>...</td>\n",
              "      <td>...</td>\n",
              "      <td>...</td>\n",
              "      <td>...</td>\n",
              "      <td>...</td>\n",
              "      <td>...</td>\n",
              "      <td>...</td>\n",
              "      <td>...</td>\n",
              "      <td>...</td>\n",
              "      <td>...</td>\n",
              "      <td>...</td>\n",
              "      <td>...</td>\n",
              "      <td>...</td>\n",
              "      <td>...</td>\n",
              "      <td>...</td>\n",
              "    </tr>\n",
              "    <tr>\n",
              "      <th>13608</th>\n",
              "      <td>20510</td>\n",
              "      <td>28</td>\n",
              "      <td>NaN</td>\n",
              "      <td>socially</td>\n",
              "      <td>NaN</td>\n",
              "      <td>dropped out of college/university</td>\n",
              "      <td>white</td>\n",
              "      <td>66.0</td>\n",
              "      <td>80000</td>\n",
              "      <td>law / legal services</td>\n",
              "      <td>doesn&amp;rsquo;t have kids</td>\n",
              "      <td>straight</td>\n",
              "      <td>likes dogs and has cats</td>\n",
              "      <td>agnosticism</td>\n",
              "      <td>f</td>\n",
              "      <td>virgo</td>\n",
              "      <td>no</td>\n",
              "      <td>english</td>\n",
              "      <td>single</td>\n",
              "    </tr>\n",
              "    <tr>\n",
              "      <th>13609</th>\n",
              "      <td>54432</td>\n",
              "      <td>32</td>\n",
              "      <td>NaN</td>\n",
              "      <td>socially</td>\n",
              "      <td>never</td>\n",
              "      <td>graduated from masters program</td>\n",
              "      <td>NaN</td>\n",
              "      <td>63.0</td>\n",
              "      <td>-1</td>\n",
              "      <td>entertainment / media</td>\n",
              "      <td>NaN</td>\n",
              "      <td>straight</td>\n",
              "      <td>has dogs</td>\n",
              "      <td>agnosticism</td>\n",
              "      <td>f</td>\n",
              "      <td>NaN</td>\n",
              "      <td>NaN</td>\n",
              "      <td>english</td>\n",
              "      <td>single</td>\n",
              "    </tr>\n",
              "    <tr>\n",
              "      <th>13610</th>\n",
              "      <td>49664</td>\n",
              "      <td>25</td>\n",
              "      <td>mostly vegetarian</td>\n",
              "      <td>NaN</td>\n",
              "      <td>sometimes</td>\n",
              "      <td>NaN</td>\n",
              "      <td>white</td>\n",
              "      <td>70.0</td>\n",
              "      <td>-1</td>\n",
              "      <td>NaN</td>\n",
              "      <td>NaN</td>\n",
              "      <td>straight</td>\n",
              "      <td>has dogs</td>\n",
              "      <td>NaN</td>\n",
              "      <td>m</td>\n",
              "      <td>NaN</td>\n",
              "      <td>NaN</td>\n",
              "      <td>english</td>\n",
              "      <td>single</td>\n",
              "    </tr>\n",
              "    <tr>\n",
              "      <th>13611</th>\n",
              "      <td>43797</td>\n",
              "      <td>45</td>\n",
              "      <td>strictly anything</td>\n",
              "      <td>socially</td>\n",
              "      <td>never</td>\n",
              "      <td>graduated from college/university</td>\n",
              "      <td>white</td>\n",
              "      <td>62.0</td>\n",
              "      <td>80000</td>\n",
              "      <td>other</td>\n",
              "      <td>has kids</td>\n",
              "      <td>straight</td>\n",
              "      <td>NaN</td>\n",
              "      <td>NaN</td>\n",
              "      <td>f</td>\n",
              "      <td>pisces and it&amp;rsquo;s fun to think about</td>\n",
              "      <td>no</td>\n",
              "      <td>english</td>\n",
              "      <td>single</td>\n",
              "    </tr>\n",
              "    <tr>\n",
              "      <th>13612</th>\n",
              "      <td>15637</td>\n",
              "      <td>43</td>\n",
              "      <td>mostly anything</td>\n",
              "      <td>socially</td>\n",
              "      <td>sometimes</td>\n",
              "      <td>graduated from college/university</td>\n",
              "      <td>white</td>\n",
              "      <td>69.0</td>\n",
              "      <td>-1</td>\n",
              "      <td>computer / hardware / software</td>\n",
              "      <td>has kids, but doesn&amp;rsquo;t want more</td>\n",
              "      <td>straight</td>\n",
              "      <td>likes dogs and likes cats</td>\n",
              "      <td>atheism and somewhat serious about it</td>\n",
              "      <td>m</td>\n",
              "      <td>cancer and it&amp;rsquo;s fun to think about</td>\n",
              "      <td>no</td>\n",
              "      <td>english (fluently), french (fluently), spanish...</td>\n",
              "      <td>single</td>\n",
              "    </tr>\n",
              "  </tbody>\n",
              "</table>\n",
              "<p>13613 rows × 19 columns</p>\n",
              "</div>\n",
              "    <div class=\"colab-df-buttons\">\n",
              "\n",
              "  <div class=\"colab-df-container\">\n",
              "    <button class=\"colab-df-convert\" onclick=\"convertToInteractive('df-5a2e9caf-c1d7-4770-a697-1e3df3ba3ca4')\"\n",
              "            title=\"Convert this dataframe to an interactive table.\"\n",
              "            style=\"display:none;\">\n",
              "\n",
              "  <svg xmlns=\"http://www.w3.org/2000/svg\" height=\"24px\" viewBox=\"0 -960 960 960\">\n",
              "    <path d=\"M120-120v-720h720v720H120Zm60-500h600v-160H180v160Zm220 220h160v-160H400v160Zm0 220h160v-160H400v160ZM180-400h160v-160H180v160Zm440 0h160v-160H620v160ZM180-180h160v-160H180v160Zm440 0h160v-160H620v160Z\"/>\n",
              "  </svg>\n",
              "    </button>\n",
              "\n",
              "  <style>\n",
              "    .colab-df-container {\n",
              "      display:flex;\n",
              "      gap: 12px;\n",
              "    }\n",
              "\n",
              "    .colab-df-convert {\n",
              "      background-color: #E8F0FE;\n",
              "      border: none;\n",
              "      border-radius: 50%;\n",
              "      cursor: pointer;\n",
              "      display: none;\n",
              "      fill: #1967D2;\n",
              "      height: 32px;\n",
              "      padding: 0 0 0 0;\n",
              "      width: 32px;\n",
              "    }\n",
              "\n",
              "    .colab-df-convert:hover {\n",
              "      background-color: #E2EBFA;\n",
              "      box-shadow: 0px 1px 2px rgba(60, 64, 67, 0.3), 0px 1px 3px 1px rgba(60, 64, 67, 0.15);\n",
              "      fill: #174EA6;\n",
              "    }\n",
              "\n",
              "    .colab-df-buttons div {\n",
              "      margin-bottom: 4px;\n",
              "    }\n",
              "\n",
              "    [theme=dark] .colab-df-convert {\n",
              "      background-color: #3B4455;\n",
              "      fill: #D2E3FC;\n",
              "    }\n",
              "\n",
              "    [theme=dark] .colab-df-convert:hover {\n",
              "      background-color: #434B5C;\n",
              "      box-shadow: 0px 1px 3px 1px rgba(0, 0, 0, 0.15);\n",
              "      filter: drop-shadow(0px 1px 2px rgba(0, 0, 0, 0.3));\n",
              "      fill: #FFFFFF;\n",
              "    }\n",
              "  </style>\n",
              "\n",
              "    <script>\n",
              "      const buttonEl =\n",
              "        document.querySelector('#df-5a2e9caf-c1d7-4770-a697-1e3df3ba3ca4 button.colab-df-convert');\n",
              "      buttonEl.style.display =\n",
              "        google.colab.kernel.accessAllowed ? 'block' : 'none';\n",
              "\n",
              "      async function convertToInteractive(key) {\n",
              "        const element = document.querySelector('#df-5a2e9caf-c1d7-4770-a697-1e3df3ba3ca4');\n",
              "        const dataTable =\n",
              "          await google.colab.kernel.invokeFunction('convertToInteractive',\n",
              "                                                    [key], {});\n",
              "        if (!dataTable) return;\n",
              "\n",
              "        const docLinkHtml = 'Like what you see? Visit the ' +\n",
              "          '<a target=\"_blank\" href=https://colab.research.google.com/notebooks/data_table.ipynb>data table notebook</a>'\n",
              "          + ' to learn more about interactive tables.';\n",
              "        element.innerHTML = '';\n",
              "        dataTable['output_type'] = 'display_data';\n",
              "        await google.colab.output.renderOutput(dataTable, element);\n",
              "        const docLink = document.createElement('div');\n",
              "        docLink.innerHTML = docLinkHtml;\n",
              "        element.appendChild(docLink);\n",
              "      }\n",
              "    </script>\n",
              "  </div>\n",
              "\n",
              "\n",
              "<div id=\"df-6cc8d8d4-a820-4a38-a6cb-e95fc53725ed\">\n",
              "  <button class=\"colab-df-quickchart\" onclick=\"quickchart('df-6cc8d8d4-a820-4a38-a6cb-e95fc53725ed')\"\n",
              "            title=\"Suggest charts\"\n",
              "            style=\"display:none;\">\n",
              "\n",
              "<svg xmlns=\"http://www.w3.org/2000/svg\" height=\"24px\"viewBox=\"0 0 24 24\"\n",
              "     width=\"24px\">\n",
              "    <g>\n",
              "        <path d=\"M19 3H5c-1.1 0-2 .9-2 2v14c0 1.1.9 2 2 2h14c1.1 0 2-.9 2-2V5c0-1.1-.9-2-2-2zM9 17H7v-7h2v7zm4 0h-2V7h2v10zm4 0h-2v-4h2v4z\"/>\n",
              "    </g>\n",
              "</svg>\n",
              "  </button>\n",
              "\n",
              "<style>\n",
              "  .colab-df-quickchart {\n",
              "      --bg-color: #E8F0FE;\n",
              "      --fill-color: #1967D2;\n",
              "      --hover-bg-color: #E2EBFA;\n",
              "      --hover-fill-color: #174EA6;\n",
              "      --disabled-fill-color: #AAA;\n",
              "      --disabled-bg-color: #DDD;\n",
              "  }\n",
              "\n",
              "  [theme=dark] .colab-df-quickchart {\n",
              "      --bg-color: #3B4455;\n",
              "      --fill-color: #D2E3FC;\n",
              "      --hover-bg-color: #434B5C;\n",
              "      --hover-fill-color: #FFFFFF;\n",
              "      --disabled-bg-color: #3B4455;\n",
              "      --disabled-fill-color: #666;\n",
              "  }\n",
              "\n",
              "  .colab-df-quickchart {\n",
              "    background-color: var(--bg-color);\n",
              "    border: none;\n",
              "    border-radius: 50%;\n",
              "    cursor: pointer;\n",
              "    display: none;\n",
              "    fill: var(--fill-color);\n",
              "    height: 32px;\n",
              "    padding: 0;\n",
              "    width: 32px;\n",
              "  }\n",
              "\n",
              "  .colab-df-quickchart:hover {\n",
              "    background-color: var(--hover-bg-color);\n",
              "    box-shadow: 0 1px 2px rgba(60, 64, 67, 0.3), 0 1px 3px 1px rgba(60, 64, 67, 0.15);\n",
              "    fill: var(--button-hover-fill-color);\n",
              "  }\n",
              "\n",
              "  .colab-df-quickchart-complete:disabled,\n",
              "  .colab-df-quickchart-complete:disabled:hover {\n",
              "    background-color: var(--disabled-bg-color);\n",
              "    fill: var(--disabled-fill-color);\n",
              "    box-shadow: none;\n",
              "  }\n",
              "\n",
              "  .colab-df-spinner {\n",
              "    border: 2px solid var(--fill-color);\n",
              "    border-color: transparent;\n",
              "    border-bottom-color: var(--fill-color);\n",
              "    animation:\n",
              "      spin 1s steps(1) infinite;\n",
              "  }\n",
              "\n",
              "  @keyframes spin {\n",
              "    0% {\n",
              "      border-color: transparent;\n",
              "      border-bottom-color: var(--fill-color);\n",
              "      border-left-color: var(--fill-color);\n",
              "    }\n",
              "    20% {\n",
              "      border-color: transparent;\n",
              "      border-left-color: var(--fill-color);\n",
              "      border-top-color: var(--fill-color);\n",
              "    }\n",
              "    30% {\n",
              "      border-color: transparent;\n",
              "      border-left-color: var(--fill-color);\n",
              "      border-top-color: var(--fill-color);\n",
              "      border-right-color: var(--fill-color);\n",
              "    }\n",
              "    40% {\n",
              "      border-color: transparent;\n",
              "      border-right-color: var(--fill-color);\n",
              "      border-top-color: var(--fill-color);\n",
              "    }\n",
              "    60% {\n",
              "      border-color: transparent;\n",
              "      border-right-color: var(--fill-color);\n",
              "    }\n",
              "    80% {\n",
              "      border-color: transparent;\n",
              "      border-right-color: var(--fill-color);\n",
              "      border-bottom-color: var(--fill-color);\n",
              "    }\n",
              "    90% {\n",
              "      border-color: transparent;\n",
              "      border-bottom-color: var(--fill-color);\n",
              "    }\n",
              "  }\n",
              "</style>\n",
              "\n",
              "  <script>\n",
              "    async function quickchart(key) {\n",
              "      const quickchartButtonEl =\n",
              "        document.querySelector('#' + key + ' button');\n",
              "      quickchartButtonEl.disabled = true;  // To prevent multiple clicks.\n",
              "      quickchartButtonEl.classList.add('colab-df-spinner');\n",
              "      try {\n",
              "        const charts = await google.colab.kernel.invokeFunction(\n",
              "            'suggestCharts', [key], {});\n",
              "      } catch (error) {\n",
              "        console.error('Error during call to suggestCharts:', error);\n",
              "      }\n",
              "      quickchartButtonEl.classList.remove('colab-df-spinner');\n",
              "      quickchartButtonEl.classList.add('colab-df-quickchart-complete');\n",
              "    }\n",
              "    (() => {\n",
              "      let quickchartButtonEl =\n",
              "        document.querySelector('#df-6cc8d8d4-a820-4a38-a6cb-e95fc53725ed button');\n",
              "      quickchartButtonEl.style.display =\n",
              "        google.colab.kernel.accessAllowed ? 'block' : 'none';\n",
              "    })();\n",
              "  </script>\n",
              "</div>\n",
              "    </div>\n",
              "  </div>\n"
            ],
            "text/plain": [
              "          id  age               diet    drinks      drugs  \\\n",
              "0      30968   25    mostly anything  socially      never   \n",
              "1      36173   22                NaN     often        NaN   \n",
              "2      32466   44    mostly anything  socially      never   \n",
              "3      27038   28                NaN  socially      never   \n",
              "4      17610   26  strictly anything  socially  sometimes   \n",
              "...      ...  ...                ...       ...        ...   \n",
              "13608  20510   28                NaN  socially        NaN   \n",
              "13609  54432   32                NaN  socially      never   \n",
              "13610  49664   25  mostly vegetarian       NaN  sometimes   \n",
              "13611  43797   45  strictly anything  socially      never   \n",
              "13612  15637   43    mostly anything  socially  sometimes   \n",
              "\n",
              "                               education                ethnicity  height  \\\n",
              "0      graduated from college/university             asian, white    73.0   \n",
              "1          working on college/university  asian, pacific islander    64.0   \n",
              "2      graduated from college/university                    white    73.0   \n",
              "3         graduated from masters program                    white    71.0   \n",
              "4         graduated from masters program                      NaN    74.0   \n",
              "...                                  ...                      ...     ...   \n",
              "13608  dropped out of college/university                    white    66.0   \n",
              "13609     graduated from masters program                      NaN    63.0   \n",
              "13610                                NaN                    white    70.0   \n",
              "13611  graduated from college/university                    white    62.0   \n",
              "13612  graduated from college/university                    white    69.0   \n",
              "\n",
              "       income                             job  \\\n",
              "0          -1  computer / hardware / software   \n",
              "1          -1                         student   \n",
              "2          -1     artistic / musical / writer   \n",
              "3          -1                             NaN   \n",
              "4          -1            education / academia   \n",
              "...       ...                             ...   \n",
              "13608   80000            law / legal services   \n",
              "13609      -1           entertainment / media   \n",
              "13610      -1                             NaN   \n",
              "13611   80000                           other   \n",
              "13612      -1  computer / hardware / software   \n",
              "\n",
              "                                          offspring orientation  \\\n",
              "0                                               NaN    straight   \n",
              "1                                               NaN    straight   \n",
              "2      doesn&rsquo;t have kids, but might want them         gay   \n",
              "3                                               NaN    straight   \n",
              "4                           doesn&rsquo;t want kids    straight   \n",
              "...                                             ...         ...   \n",
              "13608                       doesn&rsquo;t have kids    straight   \n",
              "13609                                           NaN    straight   \n",
              "13610                                           NaN    straight   \n",
              "13611                                      has kids    straight   \n",
              "13612         has kids, but doesn&rsquo;t want more    straight   \n",
              "\n",
              "                            pets                                  religion  \\\n",
              "0                            NaN  agnosticism but not too serious about it   \n",
              "1                       has cats        other but not too serious about it   \n",
              "2                       has dogs                                       NaN   \n",
              "3                            NaN                                       NaN   \n",
              "4                     likes dogs     atheism and somewhat serious about it   \n",
              "...                          ...                                       ...   \n",
              "13608    likes dogs and has cats                               agnosticism   \n",
              "13609                   has dogs                               agnosticism   \n",
              "13610                   has dogs                                       NaN   \n",
              "13611                        NaN                                       NaN   \n",
              "13612  likes dogs and likes cats     atheism and somewhat serious about it   \n",
              "\n",
              "      sex                                        sign     smokes  \\\n",
              "0       m  aquarius and it&rsquo;s fun to think about         no   \n",
              "1       f     libra and it&rsquo;s fun to think about  sometimes   \n",
              "2       m           virgo but it doesn&rsquo;t matter         no   \n",
              "3       f           libra but it doesn&rsquo;t matter         no   \n",
              "4       m         scorpio but it doesn&rsquo;t matter        NaN   \n",
              "...    ..                                         ...        ...   \n",
              "13608   f                                       virgo         no   \n",
              "13609   f                                         NaN        NaN   \n",
              "13610   m                                         NaN        NaN   \n",
              "13611   f    pisces and it&rsquo;s fun to think about         no   \n",
              "13612   m    cancer and it&rsquo;s fun to think about         no   \n",
              "\n",
              "                                                  speaks  status  \n",
              "0                                                english  single  \n",
              "1      english (fluently), tagalog (okay), french (po...  single  \n",
              "2                     english (fluently), italian (okay)  single  \n",
              "3      english (fluently), german (fluently), czech (...  single  \n",
              "4      english (fluently), french, japanese, spanish,...  single  \n",
              "...                                                  ...     ...  \n",
              "13608                                            english  single  \n",
              "13609                                            english  single  \n",
              "13610                                            english  single  \n",
              "13611                                            english  single  \n",
              "13612  english (fluently), french (fluently), spanish...  single  \n",
              "\n",
              "[13613 rows x 19 columns]"
            ]
          },
          "execution_count": 259,
          "metadata": {},
          "output_type": "execute_result"
        }
      ],
      "source": [
        "df_test = pd.read_csv('test.csv')\n",
        "df_test"
      ]
    },
    {
      "cell_type": "code",
      "execution_count": null,
      "metadata": {
        "id": "fbmY2D3JWTW3"
      },
      "outputs": [],
      "source": [
        "y_pred = final_pipe.predict(df_test)"
      ]
    },
    {
      "cell_type": "code",
      "execution_count": null,
      "metadata": {
        "id": "PFx-0y68WL3t"
      },
      "outputs": [],
      "source": [
        "df_pred = df_test[['id']].copy()\n",
        "df_pred['fit_body'] = y_pred\n",
        "df_pred['fit_body'] = df_pred['fit_body'].apply(lambda x: 'yes' if x > 0 else 'no')"
      ]
    },
    {
      "cell_type": "code",
      "execution_count": null,
      "metadata": {
        "id": "YfF7G2CNX38M"
      },
      "outputs": [],
      "source": [
        "df_pred"
      ]
    },
    {
      "cell_type": "code",
      "execution_count": null,
      "metadata": {
        "id": "EdtZ-sg6ba8o"
      },
      "outputs": [],
      "source": [
        "df_pred.to_csv('submission.csv', index=False)"
      ]
    },
    {
      "cell_type": "code",
      "execution_count": null,
      "metadata": {
        "id": "C_JTbCpozvp3"
      },
      "outputs": [],
      "source": [
        "from matplotlib import pyplot as plt\n",
        "import seaborn as sns"
      ]
    },
    {
      "cell_type": "code",
      "execution_count": null,
      "metadata": {
        "id": "DPLOQ1h4Z6v7"
      },
      "outputs": [],
      "source": [
        "# @title distribution of fit_body\n",
        "\n",
        "category_counts = df_pred['fit_body'].value_counts()\n",
        "category_counts"
      ]
    },
    {
      "cell_type": "code",
      "execution_count": null,
      "metadata": {
        "id": "wxV3dT6qZovc"
      },
      "outputs": [],
      "source": [
        "# @title distribution of fit_body\n",
        "\n",
        "plt.figure(figsize=(8, 8))  # Set the figure size\n",
        "plt.pie(category_counts, labels=category_counts.index, autopct='%1.1f%%', startangle=140)\n",
        "plt.title('Distribution of Fit Body')  # Set the title of the pie chart\n",
        "plt.axis('equal')  # Equal aspect ratio ensures that pie is drawn as a circle\n",
        "plt.show()"
      ]
    },
    {
      "cell_type": "code",
      "execution_count": null,
      "metadata": {
        "colab": {
          "background_save": true
        },
        "id": "zv3FTbPqZLeS",
        "outputId": "b1cd8202-c606-41fb-b534-8f2534424702"
      },
      "outputs": [
        {
          "data": {
            "image/png": "[encoded data removed]",
            "text/plain": [
              "<Figure size 640x480 with 1 Axes>"
            ]
          },
          "metadata": {},
          "output_type": "display_data"
        }
      ],
      "source": [
        "# @title fit_body\n",
        "df_pred.groupby('fit_body').size().plot(kind='barh', color=sns.palettes.mpl_palette('Dark2'))\n",
        "plt.gca().spines[['top', 'right',]].set_visible(False)"
      ]
    },
    {
      "cell_type": "markdown",
      "metadata": {
        "id": "bqPnlzT78nT6"
      },
      "source": [
        "# Experiment"
      ]
    },
    {
      "cell_type": "markdown",
      "metadata": {
        "id": "HRSylCgl7amb"
      },
      "source": [
        "## Manual Feature Selection"
      ]
    },
    {
      "cell_type": "code",
      "execution_count": null,
      "metadata": {
        "id": "JLwVSBEB767v"
      },
      "outputs": [],
      "source": [
        "import pandas as pd\n",
        "import numpy as np"
      ]
    },
    {
      "cell_type": "code",
      "execution_count": null,
      "metadata": {
        "id": "a1odzg3U7gS-"
      },
      "outputs": [],
      "source": [
        "df = pd.read_csv('train.csv')\n",
        "\n",
        "df.columns"
      ]
    },
    {
      "cell_type": "code",
      "execution_count": null,
      "metadata": {
        "id": "Giasn_Dg89xP"
      },
      "outputs": [],
      "source": [
        "# @title Data Cleansing\n",
        "\n",
        "# ('job', 0.13698978069819698),\n",
        "# ('education', 0.13558325438513258),\n",
        "# ('pets', 0.11958948551225469),\n",
        "# ('offspring', 0.11187010700403384),\n",
        "# ('religion', 0.10917217461161849),\n",
        "# ('speaks', 0.103089373151931),\n",
        "# ('smokes', 0.10298355401870131),\n",
        "\n",
        "undesired_col = ['id', 'education', 'income', 'job', 'orientation', 'pets', 'religion', 'sign', 'speaks']\n",
        "\n",
        "df_cleaned = df[['job', 'education', 'pets', 'offspring', 'religion', 'speaks', 'smokes', 'fit_body']]\n",
        "\n",
        "df_cleaned"
      ]
    },
    {
      "cell_type": "code",
      "execution_count": null,
      "metadata": {
        "id": "uSWPDCna_JUk"
      },
      "outputs": [],
      "source": [
        "df_cleaned.isnull().sum()"
      ]
    },
    {
      "cell_type": "code",
      "execution_count": null,
      "metadata": {
        "id": "QNtzMXKQ-nXs"
      },
      "outputs": [],
      "source": [
        "# replace_missing_data = {\n",
        "#     'diet': 'anything',\n",
        "#     'drinks': 'socially',\n",
        "#     'drugs': 'never',\n",
        "#     'ethnicity': 'other',\n",
        "#     'offspring': 'doesnt have a kid',\n",
        "#     'smokes': 'no'\n",
        "# }\n",
        "\n",
        "# df_cleaned.fillna(value=replace_missing_data, inplace=True)\n",
        "\n",
        "for col in df_cleaned.columns:\n",
        "    if df_cleaned[col].dtype == 'object' or pd.api.types.is_categorical_dtype(df_cleaned[col]):\n",
        "        # Fill missing values with the mode of the column\n",
        "        df_cleaned[col].fillna(df_cleaned[col].mode()[0], inplace=True)\n",
        "\n",
        "df_cleaned = df_cleaned.iloc[:-1, :]\n",
        "\n",
        "df_cleaned.info()\n",
        "df_cleaned.isnull().sum()"
      ]
    },
    {
      "cell_type": "code",
      "execution_count": null,
      "metadata": {
        "id": "hd-n_oRF_xi6"
      },
      "outputs": [],
      "source": [
        "df_cleaned"
      ]
    },
    {
      "cell_type": "code",
      "execution_count": null,
      "metadata": {
        "id": "g7e7h7GwAmF3"
      },
      "outputs": [],
      "source": [
        "from scipy.stats import chi2_contingency\n",
        "\n",
        "def cramers_v(confusion_matrix):\n",
        "    chi2, _, _, _ = chi2_contingency(confusion_matrix)\n",
        "    n = confusion_matrix.sum().sum()\n",
        "    phi2 = chi2 / n\n",
        "    r, k = confusion_matrix.shape\n",
        "    cramers_v_value = np.sqrt(phi2 / (min(r, k) - 1))\n",
        "    return cramers_v_value"
      ]
    },
    {
      "cell_type": "code",
      "execution_count": null,
      "metadata": {
        "id": "k_8bMN7KAyhc"
      },
      "outputs": [],
      "source": [
        "target_variable = 'fit_body'\n",
        "categorical_variables = [col for col in df_cleaned.columns if col != target_variable]"
      ]
    },
    {
      "cell_type": "code",
      "execution_count": null,
      "metadata": {
        "id": "2nI_OOmIA4D0"
      },
      "outputs": [],
      "source": [
        "results = {}\n",
        "\n",
        "for cat_var in categorical_variables:\n",
        "    contingency_table = pd.crosstab(df_cleaned[cat_var], df_cleaned[target_variable])\n",
        "\n",
        "    v = cramers_v(contingency_table)\n",
        "\n",
        "    results[cat_var] = v\n",
        "\n",
        "sorted_results = sorted(results.items(), key=lambda x: x[1], reverse=True)\n",
        "\n",
        "for var, v in sorted_results:\n",
        "    print(f\"Cramér's V for {var}: {v:.4f}\")\n",
        "\n",
        "threshold = 0.1\n",
        "selected_features = [var for var, v in sorted_results if v >= threshold]\n",
        "selected_features"
      ]
    },
    {
      "cell_type": "code",
      "execution_count": null,
      "metadata": {
        "id": "nEl7Pqd8DQ12"
      },
      "outputs": [],
      "source": [
        "from xgboost import XGBClassifier\n",
        "\n",
        "classifier = XGBClassifier()\n",
        "\n",
        "X = df_cleaned.drop(columns=['fit_body'])\n",
        "# X = df_cleaned[selected_features]\n",
        "y = df_cleaned['fit_body']\n",
        "\n",
        "X"
      ]
    },
    {
      "cell_type": "code",
      "execution_count": null,
      "metadata": {
        "id": "srd9I7asHA7C"
      },
      "outputs": [],
      "source": [
        "from sklearn.preprocessing import LabelBinarizer\n",
        "\n",
        "binary_encoder = LabelBinarizer()\n",
        "\n",
        "y_binary = binary_encoder.fit_transform(y)"
      ]
    },
    {
      "cell_type": "code",
      "execution_count": null,
      "metadata": {
        "id": "nDMU5RHtDp-e"
      },
      "outputs": [],
      "source": [
        "from sklearn.preprocessing import OneHotEncoder\n",
        "\n",
        "encoder = OneHotEncoder(sparse=False, drop='first')  # 'sparse=False' to return a dense array, 'drop='first'' to drop the first category in each feature\n",
        "\n",
        "df_select = X.drop(columns=['age', 'height'])\n",
        "# df_select = X.drop(columns=['age'])\n",
        "\n",
        "encoded_features = encoder.fit_transform(df_select)\n",
        "\n",
        "encoded_df = pd.DataFrame(encoded_features, columns=encoder.get_feature_names_out(df_select.columns))\n",
        "\n",
        "encoded_df\n",
        "\n",
        "X_transformed = pd.concat([encoded_df, X.drop(df_select.columns, axis=1)], axis=1)\n",
        "\n",
        "X_transformed"
      ]
    },
    {
      "cell_type": "code",
      "execution_count": null,
      "metadata": {
        "id": "k27GgV2VFhW6"
      },
      "outputs": [],
      "source": [
        "from sklearn.model_selection import train_test_split\n",
        "\n",
        "X_train, X_test, y_train, y_test = train_test_split(X_transformed, y_binary, test_size=0.3, random_state=42)"
      ]
    },
    {
      "cell_type": "code",
      "execution_count": null,
      "metadata": {
        "id": "lOX-wUPBFfxj"
      },
      "outputs": [],
      "source": [
        "classifier.fit(X_train, y_train)"
      ]
    },
    {
      "cell_type": "code",
      "execution_count": null,
      "metadata": {
        "id": "8MfqxVffF1Jd"
      },
      "outputs": [],
      "source": [
        "y_pred = classifier.predict(X_test)"
      ]
    },
    {
      "cell_type": "markdown",
      "metadata": {
        "id": "FuXhmJM6F1Je"
      },
      "source": [
        "### Pipeline Accuracy"
      ]
    },
    {
      "cell_type": "code",
      "execution_count": null,
      "metadata": {
        "id": "UATUie8xF1Je"
      },
      "outputs": [],
      "source": [
        "from sklearn.metrics import accuracy_score\n",
        "\n",
        "accuracy = accuracy_score(y_test, y_pred)\n",
        "print(f\"Accuracy: {accuracy:.5f}\")"
      ]
    },
    {
      "cell_type": "code",
      "execution_count": null,
      "metadata": {
        "id": "on9fSv5OO5QJ"
      },
      "outputs": [],
      "source": [
        "import pandas as pd\n",
        "import numpy as np\n",
        "from scipy.stats import chi2_contingency\n",
        "from sklearn.model_selection import train_test_split\n",
        "from sklearn.ensemble import RandomForestClassifier\n",
        "from sklearn.metrics import accuracy_score\n",
        "\n",
        "# Sample DataFrame with categorical features and target variable\n",
        "df = pd.read_csv('train.csv')\n",
        "\n",
        "# Define a function to calculate Cramér's V for categorical variables\n",
        "def cramers_v(x, y):\n",
        "    confusion_matrix = pd.crosstab(x, y)\n",
        "    chi2, _, _, _ = chi2_contingency(confusion_matrix)\n",
        "    n = confusion_matrix.sum().sum()\n",
        "    phi2 = chi2 / n\n",
        "    r, k = confusion_matrix.shape\n",
        "    phi2corr = max(0, phi2 - ((k - 1) * (r - 1)) / (n - 1))\n",
        "    rcorr = r - ((r - 1) ** 2) / (n - 1)\n",
        "    kcorr = k - ((k - 1) ** 2) / (n - 1)\n",
        "    return np.sqrt(phi2corr / min((kcorr - 1), (rcorr - 1)))\n",
        "\n",
        "# Calculate Cramér's V for each categorical feature with respect to the target\n",
        "target = df['fit_body']\n",
        "categorical_features = df.drop('fit_body', axis=1).columns\n",
        "\n",
        "feature_scores = {}\n",
        "for feature in categorical_features:\n",
        "    score = cramers_v(df[feature], target)\n",
        "    feature_scores[feature] = score\n",
        "\n",
        "# Sort features by Cramér's V score in descending order\n",
        "sorted_features = sorted(feature_scores.items(), key=lambda x: x[1], reverse=True)\n",
        "\n",
        "sorted_features"
      ]
    },
    {
      "cell_type": "markdown",
      "metadata": {
        "id": "fzCbXHwR_HRk"
      },
      "source": [
        "referensi :\n",
        "1. How to handle Categorical Data : https://machinelearningmastery.com/feature-selection-with-real-and-categorical-data/\n",
        "2. Chi-squared-test Analysis for Feature Selection : https://machinelearningmastery.com/chi-squared-test-for-machine-learning/"
      ]
    },
    {
      "cell_type": "markdown",
      "metadata": {
        "id": "OZHjp9xb8qum"
      },
      "source": [
        "## Dimensionality Reduction using Clustering"
      ]
    },
    {
      "cell_type": "code",
      "execution_count": null,
      "metadata": {
        "id": "oMBrdfp838Ks"
      },
      "outputs": [],
      "source": [
        "import pandas as pd\n",
        "from sklearn.cluster import KMeans\n",
        "\n",
        "# Sample DataFrame with categorical variable (e.g., languages)\n",
        "data = {\n",
        "    'user_id': [1, 2, 3],\n",
        "    'languages': ['english (fluently), chinese (okay)', 'spanish (okay)', 'english (fluently), french (okay)'],\n",
        "    'age': [25, 30, 28]\n",
        "}\n",
        "\n",
        "df = pd.DataFrame(data)\n",
        "\n",
        "# Extract unique languages from the DataFrame\n",
        "unique_languages = df['languages'].str.split(', ').explode().str.split(' ').str[0].unique()\n",
        "\n",
        "unique_languages\n"
      ]
    },
    {
      "cell_type": "code",
      "execution_count": null,
      "metadata": {
        "id": "QYVRlb8v4dUM"
      },
      "outputs": [],
      "source": [
        "# Cluster the unique languages into groups (e.g., 3 clusters)\n",
        "num_clusters = 3\n",
        "kmeans = KMeans(n_clusters=num_clusters, random_state=42)\n",
        "\n",
        "kmeans"
      ]
    },
    {
      "cell_type": "code",
      "execution_count": null,
      "metadata": {
        "id": "x5WpVNxM4k3v"
      },
      "outputs": [],
      "source": [
        "# Convert languages to numeric features using one-hot encoding\n",
        "language_features = pd.get_dummies(df['languages'].str.split(', ').explode(), prefix='language')\n",
        "language_features"
      ]
    },
    {
      "cell_type": "code",
      "execution_count": null,
      "metadata": {
        "id": "B-QB7ao941zo"
      },
      "outputs": [],
      "source": [
        "# Fit K-means clustering on the language features\n",
        "clusters = kmeans.fit_predict(language_features)\n",
        "clusters"
      ]
    },
    {
      "cell_type": "code",
      "execution_count": null,
      "metadata": {
        "id": "V30ocMU342h2"
      },
      "outputs": [],
      "source": [
        "# Create a mapping dictionary for language to cluster label\n",
        "language_cluster_map = dict(zip(language_features.index, clusters))\n",
        "language_cluster_map"
      ]
    },
    {
      "cell_type": "code",
      "execution_count": null,
      "metadata": {
        "id": "6msCx6p68JnY"
      },
      "outputs": [],
      "source": [
        "df['language_cluster'] = df.index.map(language_cluster_map)\n",
        "df"
      ]
    },
    {
      "cell_type": "code",
      "execution_count": null,
      "metadata": {
        "id": "qDF_2ugt8eP4"
      },
      "outputs": [],
      "source": [
        "df.drop('languages', axis=1, inplace=True)\n",
        "\n",
        "df"
      ]
    },
    {
      "cell_type": "markdown",
      "metadata": {
        "id": "IyG2kwh_gslq"
      },
      "source": [
        "## 60%???"
      ]
    },
    {
      "cell_type": "code",
      "execution_count": null,
      "metadata": {
        "id": "gn60P6acgvVi"
      },
      "outputs": [],
      "source": [
        "import pandas as pd\n",
        "import numpy as np"
      ]
    },
    {
      "cell_type": "code",
      "execution_count": null,
      "metadata": {
        "id": "dHIYbLQUgz5F"
      },
      "outputs": [],
      "source": []
    }
  ],
  "metadata": {
    "colab": {
      "provenance": [],
      "toc_visible": true,
      "include_colab_link": true
    },
    "kernelspec": {
      "display_name": "Python 3",
      "name": "python3"
    },
    "language_info": {
      "name": "python"
    }
  },
  "nbformat": 4,
  "nbformat_minor": 0
}